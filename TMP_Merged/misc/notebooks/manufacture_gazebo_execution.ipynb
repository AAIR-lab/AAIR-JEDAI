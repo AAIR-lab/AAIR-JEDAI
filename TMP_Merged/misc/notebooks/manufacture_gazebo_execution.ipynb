{
 "nbformat": 4,
 "nbformat_minor": 2,
 "metadata": {
  "language_info": {
   "name": "python",
   "codemirror_mode": {
    "name": "ipython",
    "version": 2
   },
   "version": "2.7.12-final"
  },
  "orig_nbformat": 2,
  "file_extension": ".py",
  "mimetype": "text/x-python",
  "name": "python",
  "npconvert_exporter": "python",
  "pygments_lexer": "ipython2",
  "version": 2,
  "kernelspec": {
   "name": "python271264bitf79aa05641214c0a891091e85d366376",
   "display_name": "Python 2.7.12 64-bit"
  }
 },
 "cells": [
  {
   "cell_type": "code",
   "execution_count": null,
   "metadata": {},
   "outputs": [],
   "source": [
    "#!/usr/bin/env python\n",
    "import actionlib\n",
    "from fetch_control import *\n",
    "from trajectory_msgs.msg import JointTrajectory, JointTrajectoryPoint\n",
    "from control_msgs.msg import FollowJointTrajectoryGoal, JointTolerance, FollowJointTrajectoryAction\n",
    "import rospy\n",
    "import copy\n",
    "import pickle\n",
    "from geometry_msgs.msg import PoseStamped, Pose, Point, Quaternion, Twist\n",
    "import sys\n",
    "from gazebo_msgs.srv import *\n",
    "from geometry_msgs.msg import *\n",
    "from gazebo_msgs.msg import * \n",
    "import time\n",
    "from move_base_msgs.msg import MoveBaseAction, MoveBaseGoal\n",
    "from math import sin, cos\n",
    "from openravepy import *\n",
    "import numpy as np\n",
    "from nav_msgs.msg import Odometry\n",
    "from moveit_msgs.msg import MoveItErrorCodes\n",
    "from moveit_python import MoveGroupInterface, PlanningSceneInterface\n",
    "import moveit_commander\n",
    "import sys\n",
    "import roslib\n",
    "import tf\n",
    "\n",
    "rospy.init_node(\"physical_replan_execution\")"
   ]
  },
  {
   "cell_type": "code",
   "execution_count": null,
   "metadata": {},
   "outputs": [],
   "source": [
    "# move the robot to goal pose\n",
    "def execute_base_movement(goal_pose):\n",
    "    '''\n",
    "    goal_pose: [x, y, theta]\n",
    "    '''\n",
    "    client = actionlib.SimpleActionClient(\"move_base\", MoveBaseAction)\n",
    "    print(\"Waiting for move_base...\")\n",
    "    client.wait_for_server()\n",
    "    # print(\"goal position: \", goal_pose)\n",
    "    x = goal_pose[0]\n",
    "    y = goal_pose[1]\n",
    "    theta = goal_pose[2]\n",
    "    print(\"goal position: \", x, y, theta)\n",
    "    \n",
    "    frame = \"map\"\n",
    "    orientation = quatFromAxisAngle(np.asarray([0.,0.,theta]))\n",
    "\n",
    "    move_goal = MoveBaseGoal()\n",
    "    move_goal.target_pose.pose.position.x = x\n",
    "    move_goal.target_pose.pose.position.y = y\n",
    "    move_goal.target_pose.pose.orientation.x = orientation[1]\n",
    "    move_goal.target_pose.pose.orientation.y = orientation[2]\n",
    "    move_goal.target_pose.pose.orientation.z = orientation[3]\n",
    "    move_goal.target_pose.pose.orientation.w = orientation[0]\n",
    "    # move_goal.target_pose.pose.orientation.z = sin(theta / 2.0)\n",
    "    # move_goal.target_pose.pose.orientation.w = cos(theta / 2.0)\n",
    "    move_goal.target_pose.header.frame_id = frame\n",
    "    move_goal.target_pose.header.stamp = rospy.Time.now()\n",
    "\n",
    "    client.send_goal(move_goal)\n",
    "    result = client.wait_for_result()\n",
    "    print(result)\n",
    "    print(\"reached!\")"
   ]
  },
  {
   "cell_type": "code",
   "execution_count": null,
   "metadata": {},
   "outputs": [],
   "source": [
    "traj_dump = open(\"ros_trajectory_v3.pickle\", \"rb\")\n",
    "trajectories = pickle.load(traj_dump)\n",
    "traj_dump.close()\n",
    "values = trajectories[0] # execute first base trajectory (moving to tool shelf)\n",
    "t_type = values[0]\n",
    "t_val = values[1]\n",
    "t_pose_end = values[2]\n",
    "# t_pose_end[1] += 0.\n",
    "\n",
    "execute_base_movement(t_pose_end)\n",
    "# execute_base_movement([0,-8,0]) # Send somewhere else if needed"
   ]
  },
  {
   "cell_type": "code",
   "execution_count": null,
   "metadata": {},
   "outputs": [],
   "source": [
    "\n",
    "def gms_client(model_name,relative_entity_name):\n",
    "    '''\n",
    "    get model state client\n",
    "    retrieves the model state (pose, orientation) of the model w.r.t the relative entity\n",
    "    '''\n",
    "    rospy.wait_for_service('/gazebo/get_model_state')\n",
    "    try:\n",
    "        gms = rospy.ServiceProxy('/gazebo/get_model_state', GetModelState)\n",
    "        resp1 = gms(model_name, relative_entity_name)\n",
    "        return resp1\n",
    "    except rospy.ServiceException, e:\n",
    "        print \"Service call failed: %s\"%e"
   ]
  },
  {
   "cell_type": "code",
   "execution_count": null,
   "metadata": {},
   "outputs": [],
   "source": [
    "set_state = rospy.ServiceProxy('/gazebo/set_model_state', SetModelState)\n",
    "\n",
    "def sms_client(model_name, goal_pose):\n",
    "    '''\n",
    "    set model in gazebo to given goal pose\n",
    "    goal_pose: [x, y, theta] \n",
    "    '''\n",
    "\n",
    "    orientation = quatFromAxisAngle(np.asarray([0.,0.,goal_pose[2]]))\n",
    "\n",
    "    state_msg = ModelState()\n",
    "    state_msg.model_name = model_name\n",
    "    state_msg.pose.position.x = goal_pose[0]\n",
    "    state_msg.pose.position.y = goal_pose[1]\n",
    "    # state_msg.pose.position.z = pose[6]\n",
    "    state_msg.pose.orientation.x = orientation[1]\n",
    "    state_msg.pose.orientation.y = orientation[2]\n",
    "    state_msg.pose.orientation.z = orientation[3]\n",
    "    state_msg.pose.orientation.w = orientation[0]\n",
    "    set_state(state_msg)"
   ]
  },
  {
   "cell_type": "code",
   "execution_count": null,
   "metadata": {},
   "outputs": [],
   "source": [
    "# Execute to teleport fetch to goal pose (will mess up localisation) use for debugging \n",
    "sms_client('fetch', t_pose_end)"
   ]
  },
  {
   "cell_type": "code",
   "execution_count": null,
   "metadata": {},
   "outputs": [],
   "source": [
    "# Set ply object to its original position in case it flies off\n",
    "state_msg = ModelState()\n",
    "state_msg.model_name = 'unit_box_0'\n",
    "state_msg.pose.position.x = -0.473003#-0.462124 #-0.600290\n",
    "state_msg.pose.position.y = -10.395247#-10.485400 #-10.323116\n",
    "state_msg.pose.position.z = 0.609278#0.614564 #0.615354\n",
    "quaternion = tf.transformations.quaternion_from_euler(0, 0, 0)\n",
    "state_msg.pose.orientation.x = quaternion[0]\n",
    "state_msg.pose.orientation.y = quaternion[1]\n",
    "state_msg.pose.orientation.z = quaternion[2]\n",
    "state_msg.pose.orientation.w = quaternion[3]\n",
    "set_state(state_msg)"
   ]
  },
  {
   "cell_type": "code",
   "execution_count": 1,
   "metadata": {},
   "outputs": [],
   "source": [
    "# Start openrave simulation\n",
    "import sys\n",
    "sys.path.append('/home/abhyudaya/Desktop/TMP_Merged/')\n",
    "\n",
    "from openravepy import *\n",
    "import numpy as np\n",
    "import random\n",
    "import src.OpenraveUtils as OpenraveUtils\n",
    "from src.DataStructures.Generator import Generator\n",
    "from src.Simulators.OpenRaveSimulator import *\n",
    "import math\n",
    "import random\n",
    "from trac_ik_python.trac_ik import IK\n",
    "import Config\n",
    "\n",
    "import numpy as np\n",
    "import math\n",
    "import time\n",
    "import json\n",
    "\n",
    "# sys.path.append('/home/local/ASUAD/asrinet1/AAIR/TMP_Merged/')\n",
    "from src.Robots.Models import FetchOpenRaveRobotModel\n",
    "import openravepy\n",
    "# import model_file_generator as MFG\n",
    "from tf.transformations import euler_from_quaternion, euler_from_matrix\n",
    "\n",
    "# OpenRave_OMPL_RRT_Connect_Planner\n",
    "from src.MotionPlanners.OpenRaveMotionPlanner import *\n",
    "import src.util as util\n",
    "from prpy.planning import ompl, CBiRRTPlanner, chomp\n",
    "from openravepy import planningutils\n",
    "from fetch_control import *\n",
    "\n",
    "env = openravepy.Environment()\n",
    "env.SetViewer('qtcoin')\n",
    "\n",
    "\n",
    "env.Load('../worlds/env.dae')\n",
    "FetchOpenRaveRobotModel(env, False)\n",
    "\n",
    "\n",
    "h = None"
   ]
  },
  {
   "cell_type": "code",
   "execution_count": null,
   "metadata": {},
   "outputs": [],
   "source": [
    "# get robot pose in gazebo\n",
    "res = gms_client('fetch', 'world')\n",
    "current_pose = res.pose\n",
    "print(\"fetch\")\n",
    "print(current_pose.position)\n",
    "q = [current_pose.orientation.w,current_pose.orientation.x, current_pose.orientation.y, current_pose.orientation.z]\n",
    "angle = axisAngleFromQuat(q)\n",
    "print(angle)"
   ]
  },
  {
   "cell_type": "code",
   "execution_count": null,
   "metadata": {},
   "outputs": [],
   "source": [
    "# set robot pose in openrave from gazebo\n",
    "rotation_matrix = matrixFromQuat(q)\n",
    "rotation_matrix[0][3] = current_pose.position.x\n",
    "rotation_matrix[1][3] = current_pose.position.y\n",
    "rotation_matrix[2][3] = current_pose.position.z\n",
    "\n",
    "robot = env.GetKinBody('fetch')\n",
    "taskmanip = interfaces.TaskManipulation(robot)\n",
    "taskmanip.ReleaseFingers()\n",
    "robot.SetTransform(rotation_matrix)"
   ]
  },
  {
   "cell_type": "code",
   "execution_count": null,
   "metadata": {},
   "outputs": [],
   "source": [
    "def get_fast_ik_solutions(env, robot, end_effector_transform, do_check_collisions=False):\n",
    "    filter_option = openravepy.IkFilterOptions.CheckEnvCollisions\n",
    "    # filter_option = None\n",
    "    if not do_check_collisions:\n",
    "        filter_option = openravepy.IkFilterOptions.IgnoreEndEffectorCollisions\n",
    "    \n",
    "    ikmodel = openravepy.databases.inversekinematics.InverseKinematicsModel(robot, iktype=openravepy.IkParameterization.Type.Transform6D)\n",
    "    if not ikmodel.load():\n",
    "        raveLogInfo(\"Generating IKModel for \" + str(robot))\n",
    "        ikmodel.autogenerate()\n",
    "    solutions = ikmodel.manip.FindIKSolutions(end_effector_transform, filter_option)\n",
    "    # DrawAxes(self.env, end_effector_transform)\n",
    "    print len(solutions), \" IK solutions found\" \n",
    "\n",
    "    return solutions[:20] # return only 20 solutions"
   ]
  },
  {
   "cell_type": "code",
   "execution_count": null,
   "metadata": {},
   "outputs": [],
   "source": [
    "def get_pick_pose(gripper_offset):\n",
    "    '''\n",
    "    get pose of the gripper for pick action\n",
    "    gripper_offset: distance from the edge of the plank the gripper should move to\n",
    "    '''\n",
    "\n",
    "    robot = env.GetRobots()[0]\n",
    "    model_name = 'fetch'\n",
    "    fetch_body = env.GetKinBody(model_name)\n",
    "    fetch_aabb = fetch_body.ComputeAABB()\n",
    "    fetch_x_len = fetch_aabb.extents()[0]*2\n",
    "    fetch_y_len = fetch_aabb.extents()[1]*2\n",
    "    fetch_z_len = fetch_aabb.extents()[2]*2\n",
    "    print \"fetch:\", fetch_x_len, fetch_y_len, fetch_z_len\n",
    "    fetch_original_pose = poseFromMatrix(fetch_body.GetTransform())\n",
    "\n",
    "    model_name = 'plank4' # 'ply_object'\n",
    "    object_name = model_name\n",
    "    body = env.GetKinBody(model_name)\n",
    "    body_pose = poseFromMatrix(body.GetTransform())\n",
    "    body_aabb = body.ComputeAABB()\n",
    "    body_x_len = body_aabb.extents()[0]*2\n",
    "    body_y_len = body_aabb.extents()[1]*2\n",
    "    body_z_len = body_aabb.extents()[2]*2\n",
    "    body_center_x = body_aabb.pos()[0]\n",
    "    body_center_y = body_aabb.pos()[1]\n",
    "    print \"target:\", body_center_x, body_center_y\n",
    "    print body_x_len, body_y_len, body_z_len\n",
    "\n",
    "    world_T_machine = body.GetTransform()\n",
    "\n",
    "\n",
    "    # pick object\n",
    "    z_rot_angle = -np.pi / 2\n",
    "    x_rot_angle = np.pi / 2\n",
    "    x_offset = 0 # body_x_len / 2\n",
    "    y_offset = body_y_len / 2 + gripper_offset # 0.15 + gripper_offset #\n",
    "    z_offset = 0\n",
    "\n",
    "    #ply object\n",
    "    z_rotation_matrix = np.identity(4)\n",
    "    z_rotation_matrix[0][0] = math.cos(z_rot_angle)\n",
    "    z_rotation_matrix[0][1] = -(math.sin(z_rot_angle))\n",
    "    z_rotation_matrix[1][0] = math.sin(z_rot_angle)\n",
    "    z_rotation_matrix[1][1] = math.cos(z_rot_angle)\n",
    "\n",
    "    x_rotation_matrix = np.identity(4)\n",
    "    x_rotation_matrix[1][1] = math.cos(x_rot_angle)\n",
    "    x_rotation_matrix[2][1] = math.sin(x_rot_angle)\n",
    "    x_rotation_matrix[1][2] = -math.sin(x_rot_angle)\n",
    "    x_rotation_matrix[2][2] = math.cos(x_rot_angle)\n",
    "\n",
    "    # ply_object\n",
    "    z_rotation_matrix[0][3] = x_offset\n",
    "    z_rotation_matrix[1][3] = y_offset\n",
    "    z_rotation_matrix[2][3] = z_offset\n",
    "\n",
    "    world_T_robot = np.matmul(world_T_machine, np.matmul(z_rotation_matrix, x_rotation_matrix))\n",
    "\n",
    "    pose = poseFromMatrix(world_T_robot)\n",
    "    h = openravepy.misc.DrawAxes(env, pose)\n",
    "    return h, pose, world_T_robot"
   ]
  },
  {
   "cell_type": "code",
   "execution_count": null,
   "metadata": {},
   "outputs": [],
   "source": [
    "def planToConfiguration(goal_config):\n",
    "    '''\n",
    "    find motion plan to given IK\n",
    "    goal_config: IK to move arm to\n",
    "    '''\n",
    "\n",
    "    global  robot\n",
    "    planner = ompl.OMPLPlanner('RRTConnect')\n",
    "    simplifier = ompl.OMPLSimplifier()\n",
    "    # Motion Planning to reach joint state value(s)\n",
    "    # Get trajectory from planner based on type of goal config passed\n",
    "    # ( config a.k.a ik solutions a.k.a joint states )\n",
    "    try:\n",
    "        # if len(goal_configs) == 1:\n",
    "            # If goal is a single IK solution, then call PlanToConfiguration\n",
    "        trajectory_object = planner.PlanToConfiguration(robot, goal_config)\n",
    "        # else:\n",
    "            # If goal is a list of IK solutions, then call PlanToConfigurations\n",
    "            # trajectory_object = planner.PlanToConfigurations(robot, goal_configs)\n",
    "        if hasattr(planner, 'default_ompl_args'):\n",
    "            # print(\"simplifying..\")\n",
    "            # If planner is from OMPL, then simplify the trajectory\n",
    "            trajectory_object = simplifier.ShortcutPath(robot,trajectory_object)\n",
    "    except Exception as e:#PlanningError:\n",
    "        print(\"Exception \", e)\n",
    "        # print(__file__.split('/')[-1],\": Could not find motion plan\")\n",
    "        return None\n",
    "    # Retime and serialize the trajectory\n",
    "    _ = planningutils.RetimeTrajectory(trajectory_object)\n",
    "    trajectory_object = trajectory_object.serialize()\n",
    "    return trajectory_object"
   ]
  },
  {
   "cell_type": "code",
   "execution_count": null,
   "metadata": {},
   "outputs": [],
   "source": [
    "def execute_manip_trajectory(ros_traj):\n",
    "    '''\n",
    "    execute the trajectory in ROS/Gazebo\n",
    "    ros_traj: deserialized trajectory object returned from the planner\n",
    "    '''\n",
    "    client = actionlib.SimpleActionClient('/arm_with_torso_controller/follow_joint_trajectory',\n",
    "                                            FollowJointTrajectoryAction)\n",
    "    print(\"waiting for client..\")\n",
    "    client.wait_for_server()\n",
    "    \n",
    "    id_gen = actionlib.GoalIDGenerator()\n",
    "    jtg = FollowJointTrajectoryGoal()\n",
    "    jtg.trajectory = ros_traj\n",
    "    print(\"sending trajectory\")\n",
    "    client.send_goal(jtg)\n",
    "    client.wait_for_result()\n",
    "    print(\"done\")"
   ]
  },
  {
   "cell_type": "code",
   "execution_count": null,
   "metadata": {},
   "outputs": [],
   "source": [
    "# moveit_commander interfaces with gazebo arm\n",
    "import moveit_commander\n",
    "group_name = \"arm_with_torso\"\n",
    "group = moveit_commander.MoveGroupCommander(group_name)"
   ]
  },
  {
   "cell_type": "code",
   "execution_count": null,
   "metadata": {},
   "outputs": [],
   "source": [
    "# Get robot joint values in gazebo\n",
    "print(group.get_active_joints())\n",
    "current_values = group.get_current_joint_values()\n",
    "joint_values = {}\n",
    "for i, joint_name in enumerate(group.get_active_joints()):\n",
    "    joint_values[joint_name] = current_values[i]\n",
    "print(joint_values)"
   ]
  },
  {
   "cell_type": "code",
   "execution_count": null,
   "metadata": {},
   "outputs": [],
   "source": [
    "# Set gazebo joint values to openrave's robot\n",
    "# since we plan in openrave\n",
    "or_joints = {}\n",
    "for joint_name in joint_values.keys():\n",
    "    joint_index = robot.GetJointIndex(joint_name)\n",
    "    print(joint_name, joint_index, joint_values[joint_name])\n",
    "    or_joints[joint_index] = joint_values[joint_name]\n",
    "or_dof_values = []\n",
    "for joint_index in robot.GetActiveDOFIndices():\n",
    "    or_dof_values.append(or_joints[joint_index])\n",
    "# print(robot.GetActiveJointIndices())\n",
    "print(robot.GetActiveDOFIndices())\n",
    "print(or_dof_values)\n",
    "\n",
    "robot.SetActiveDOFValues(or_dof_values)"
   ]
  },
  {
   "cell_type": "markdown",
   "execution_count": null,
   "metadata": {},
   "outputs": [],
   "source": [
    "### motion planning and execution"
   ]
  },
  {
   "cell_type": "code",
   "execution_count": null,
   "metadata": {},
   "outputs": [],
   "source": [
    "# move to pregrasp pose\n",
    "# pregrasp pose: gripper_offset = 0.2\n",
    "# grasp pose: gripper_offset = 0.169\n",
    "\n",
    "# Get the pick pose\n",
    "if h is not None:\n",
    "    h.Close()\n",
    "h, pick_pose, pick_matrix = get_pick_pose(0.169) # pick pose with offset meters away\n",
    "print(pick_matrix)"
   ]
  },
  {
   "cell_type": "code",
   "execution_count": null,
   "metadata": {},
   "outputs": [],
   "source": [
    "# Get the IK for goal_pose\n",
    "goal_pose = pick_matrix\n",
    "\n",
    "goal_configs = get_fast_ik_solutions(env, robot, goal_pose, do_check_collisions=True)\n",
    "print(len(goal_configs))"
   ]
  },
  {
   "cell_type": "code",
   "execution_count": null,
   "metadata": {},
   "outputs": [],
   "source": [
    "# Plan from current pose to goal pose\n",
    "\n",
    "# get current joint values\n",
    "inital_robot_dofs = robot.GetDOFValues()\n",
    "initial_active_dofs = robot.GetActiveDOFValues() \n",
    "\n",
    "# Plan for the IKs\n",
    "for goal_config in goal_configs:\n",
    "    i = 0\n",
    "    while i < 5:\n",
    "        with env:\n",
    "            trajectory_object = planToConfiguration(goal_config)\n",
    "        if trajectory_object is not None:\n",
    "            break\n",
    "        print(trajectory_object)\n",
    "        i += 1\n",
    "    if trajectory_object is not None:\n",
    "        break\n",
    "# after planning, the robot in openrave remains at the goal pose\n",
    "# so reset the openrave robot back to the starting pose\n",
    "robot.SetDOFValues(inital_robot_dofs)\n",
    "robot.SetActiveDOFValues(initial_active_dofs)"
   ]
  },
  {
   "cell_type": "code",
   "execution_count": null,
   "metadata": {},
   "outputs": [],
   "source": [
    "# Deserialize the trajectory for execution\n",
    "des_traj = RaveCreateTrajectory(env, '')\n",
    "Trajectory.deserialize(des_traj, trajectory_object)"
   ]
  },
  {
   "cell_type": "code",
   "execution_count": null,
   "metadata": {},
   "outputs": [],
   "source": [
    "# Execute on Openrave\n",
    "with robot:\n",
    "    robot.GetController().SetPath(des_traj)\n",
    "robot.WaitForController(0)"
   ]
  },
  {
   "cell_type": "code",
   "execution_count": null,
   "metadata": {},
   "outputs": [],
   "source": [
    "# Convert the trajectory to ROS format\n",
    "ros_traj = util.ros_trajectory_from_openrave(robot, des_traj, velocity_scale=0.1)"
   ]
  },
  {
   "cell_type": "code",
   "execution_count": null,
   "metadata": {},
   "outputs": [],
   "source": [
    "# Execute the trajectory in Gazebo\n",
    "execute_manip_trajectory(ros_traj)"
   ]
  },
  {
   "cell_type": "markdown",
   "execution_count": null,
   "metadata": {},
   "outputs": [],
   "source": [
    "### GO BACK TO PLAN FOR GRASP POSE"
   ]
  },
  {
   "cell_type": "code",
   "execution_count": null,
   "metadata": {},
   "outputs": [],
   "source": [
    "# When robot is ready to grasp\n",
    "\n",
    "# close the grippers in gazebo\n",
    "gripper = Gripper()\n",
    "gripper.close(100)\n",
    "\n",
    "# Close gripper in openrave\n",
    "# taskmanip = interfaces.TaskManipulation(robot)\n",
    "# taskmanip.CloseFingers()\n",
    "\n",
    "# Attach the object in openrave (we do not close the gripper cause openrave then thinks it's in collision with the plank)\n",
    "robot.Grab(env.GetKinBody('plank4'))"
   ]
  },
  {
   "cell_type": "markdown",
   "execution_count": 2,
   "metadata": {},
   "outputs": [],
   "source": [
    "### Plan to final pose"
   ]
  },
  {
   "cell_type": "code",
   "execution_count": null,
   "metadata": {},
   "outputs": [],
   "source": [
    "initial_active_dofs = robot.GetActiveDOFValues()"
   ]
  },
  {
   "cell_type": "code",
   "execution_count": null,
   "metadata": {},
   "outputs": [],
   "source": [
    "# init_pose = [0.15, 0.72466344, -0.05064385, -1.73952133, 2.25099986, -1.50486781, -0.02543545, 1.4] #2.76926565] # arm in front of body\n",
    "\n",
    "# init_pose = [0.0, 1.31993457, 1.40000903, -0.200000347, 1.71990992, -1.02841391e-05, 0, 7.12985942e-06] # tucked but plank extending out\n",
    "\n",
    "init_pose = [0.0, 1.31993457, 1.40000903, -0.200000347, 1.71990992, -1.02841391e-05, 1.3, 1.5] # tucked and plank close to body\n",
    "\n",
    "# inital_robot_dofs = robot.GetDOFValues()\n",
    "# for goal_config in goal_configs:\n",
    "i = 0\n",
    "while i < 5:\n",
    "    with env:\n",
    "        trajectory_object = planToConfiguration(init_pose)\n",
    "    if trajectory_object is not None:\n",
    "        break\n",
    "    else:\n",
    "        print(\"retrying..\")\n",
    "    # print(trajectory_object)\n",
    "    i += 1\n",
    "if trajectory_object is not None:\n",
    "    print(\"found\")\n",
    "# robot.SetDOFValues(inital_robot_dofs)\n"
   ]
  },
  {
   "cell_type": "code",
   "execution_count": null,
   "metadata": {},
   "outputs": [],
   "source": [
    "robot.SetActiveDOFValues(initial_active_dofs)"
   ]
  },
  {
   "cell_type": "code",
   "execution_count": null,
   "metadata": {},
   "outputs": [],
   "source": [
    "# Deserialize the trajectory for execution\n",
    "des_traj = RaveCreateTrajectory(env, '')\n",
    "Trajectory.deserialize(des_traj, trajectory_object)"
   ]
  },
  {
   "cell_type": "code",
   "execution_count": null,
   "metadata": {},
   "outputs": [],
   "source": [
    "# Execute on Openrave\n",
    "with robot:\n",
    "    robot.GetController().SetPath(des_traj)\n",
    "robot.WaitForController(0)"
   ]
  },
  {
   "cell_type": "code",
   "execution_count": null,
   "metadata": {},
   "outputs": [],
   "source": [
    "# Convert the trajectory to ROS format\n",
    "ros_traj = util.ros_trajectory_from_openrave(robot, des_traj, velocity_scale=0.1)"
   ]
  },
  {
   "cell_type": "code",
   "execution_count": null,
   "metadata": {},
   "outputs": [],
   "source": [
    "# Execute the trajectory in Gazebo\n",
    "execute_manip_trajectory(ros_traj)"
   ]
  },
  {
   "cell_type": "markdown",
   "execution_count": null,
   "metadata": {},
   "outputs": [],
   "source": [
    "### Move to next machine"
   ]
  },
  {
   "cell_type": "code",
   "execution_count": null,
   "metadata": {},
   "outputs": [],
   "source": [
    "values = trajectories[5] # Execute base navigation to move to next machine\n",
    "t_type = values[0]\n",
    "t_val = values[1]\n",
    "t_pose_end = values[2]\n",
    "# t_pose_end[1] += 0.\n",
    "\n",
    "execute_base_movement(t_pose_end)"
   ]
  },
  {
   "cell_type": "markdown",
   "execution_count": null,
   "metadata": {},
   "outputs": [],
   "source": [
    "### OLD/TEST CODE"
   ]
  },
  {
   "cell_type": "code",
   "execution_count": null,
   "metadata": {},
   "outputs": [],
   "source": [
    "def get_joint_values_from_waypoint(waypoint, robot):\n",
    "        try:\n",
    "            n = robot.GetActiveDOF()\n",
    "            # print(\"active DOFs:\", n)\n",
    "        except Exception, e:\n",
    "            print dir(robot)\n",
    "            print e\n",
    "            n = 8\n",
    "        return waypoint[0:n]\n",
    "        \n",
    "def execute_trajectory(trajectory_object):\n",
    "    traj = RaveCreateTrajectory(env, '')\n",
    "    Trajectory.deserialize(traj, trajectory_object)\n",
    "    \n",
    "    numWayPoints = traj.GetNumWaypoints()\n",
    "    lastWayPoint = traj.GetWaypoint(numWayPoints - 1)\n",
    "    lastWayPointDOFs = get_joint_values_from_waypoint(lastWayPoint, robot)\n",
    "\n",
    "    robot.SetActiveDOFValues(lastWayPointDOFs)"
   ]
  },
  {
   "cell_type": "code",
   "execution_count": null,
   "metadata": {},
   "outputs": [],
   "source": [
    "# Use old planner (no prpy)\n",
    "def get_trajectory_from_ik_solutions(solutions):\n",
    "    trajectory_object = None\n",
    "    for i in range(len(solutions)):\n",
    "        selected_iksolution = solutions[i]\n",
    "\n",
    "        rrt_connect_planner = OpenRave_OMPL_RRT_Connect_Planner(env, robot)\n",
    "        try:\n",
    "            print \"fetching motion plan \", i\n",
    "            trajectory_object, is_success, fail_cause = rrt_connect_planner.get_mp_trajectory_to_goal(robot, goal_transform=selected_iksolution)\n",
    "            print trajectory_object, is_success, fail_cause\n",
    "            break\n",
    "        except Exception as e:\n",
    "            print \"FAIL\"\n",
    "    return trajectory_object"
   ]
  },
  {
   "cell_type": "code",
   "execution_count": null,
   "metadata": {},
   "outputs": [],
   "source": [
    "# solutions = get_fast_ik_solutions(env, robot, pick_pose)\n",
    "# trajectory_object = get_trajectory_from_ik_solutions(solutions)\n",
    "# if trajectory_object is not None:\n",
    "#     print \"Trajectory found\""
   ]
  },
  {
   "cell_type": "code",
   "execution_count": null,
   "metadata": {},
   "outputs": [],
   "source": [
    "# Execute TMP trajectory\n",
    "values = trajectories[1]\n",
    "t_type = values[0]\n",
    "t_val = values[1]\n",
    "execute_manip_trajectory(t_val)"
   ]
  },
  {
   "cell_type": "code",
   "execution_count": null,
   "metadata": {},
   "outputs": [],
   "source": [
    "def arm_tuck():\n",
    "    joints = [\"shoulder_pan_joint\", \"shoulder_lift_joint\", \"upperarm_roll_joint\",\n",
    "                \"elbow_flex_joint\", \"forearm_roll_joint\", \"wrist_flex_joint\", \"wrist_roll_joint\"]\n",
    "    pose = [1.32, 1.40, -0.2, 1.72, 0.0, 1.66, 0.0]\n",
    "\n",
    "    move_group = MoveGroupInterface(\"arm\", \"base_link\")\n",
    "    while not rospy.is_shutdown():\n",
    "        result = move_group.moveToJointPosition(joints, pose, 0.1)\n",
    "        if result.error_code.val == MoveItErrorCodes.SUCCESS:\n",
    "            return\n",
    "arm_tuck()"
   ]
  },
  {
   "cell_type": "code",
   "execution_count": null,
   "metadata": {},
   "outputs": [],
   "source": [
    "gripper.close()"
   ]
  },
  {
   "cell_type": "code",
   "execution_count": 3,
   "metadata": {},
   "outputs": [
    {
     "name": "stdout",
     "output_type": "stream",
     "text": "target: -0.45123419165611334 -10.487975120544432\n0.2000000000000025 0.2000000000000064 0.14000000000001145\n"
    }
   ],
   "source": [
    "from openravepy import *\n",
    "model_name = 'pedestal'\n",
    "object_name = model_name\n",
    "body = env.GetKinBody(model_name)\n",
    "body_pose = poseFromMatrix(body.GetTransform())\n",
    "body_aabb = body.ComputeAABB()\n",
    "body_x_len = body_aabb.extents()[0]*2\n",
    "body_y_len = body_aabb.extents()[1]*2\n",
    "body_z_len = body_aabb.extents()[2]*2\n",
    "body_center_x = body_aabb.pos()[0]\n",
    "body_center_y = body_aabb.pos()[1]\n",
    "print \"target:\", body_center_x, body_center_y\n",
    "print body_x_len, body_y_len, body_z_len"
   ]
  },
  {
   "cell_type": "code",
   "execution_count": null,
   "metadata": {},
   "outputs": [],
   "source": [
    "body_x_len = body_aabb.extents()[0]\n",
    "body_y_len = body_aabb.extents()[1]\n",
    "body_z_len = body_aabb.extents()[2]"
   ]
  },
  {
   "cell_type": "code",
   "execution_count": null,
   "metadata": {},
   "outputs": [],
   "source": [
    "mat = np.eye(3)\n",
    "mat[0,0] = (0.1 * (body_y_len**2 + body_z_len**2))\n",
    "mat[1,1] = (0.1 * (body_x_len**2 + body_z_len**2)) \n",
    "mat[2,2] = (0.1 * (body_x_len**2 + body_y_len**2))\n",
    "\n",
    "mat[0,1] = (0.1 * (body_x_len * -body_y_len))\n",
    "mat[1,0] = (0.1 * (body_x_len * -body_y_len))\n",
    "\n",
    "mat[1,2] = (0.1 * (body_z_len * -body_y_len))\n",
    "mat[2,1] = (0.1 * (body_z_len * -body_y_len))\n",
    "\n",
    "mat[0,2] = (0.1 * (body_x_len * body_z_len))\n",
    "mat[2,0] = (0.1 * (body_x_len + body_z_len))\n",
    "print(mat[2][2])"
   ]
  },
  {
   "cell_type": "code",
   "execution_count": 7,
   "metadata": {},
   "outputs": [],
   "source": [
    "# Create pedestal in openrave\n",
    "def create_box(env, body_name, t, dims, color=[0,1,1]):\n",
    "  infobox = openravepy.KinBody.GeometryInfo()\n",
    "  infobox._type = openravepy.GeometryType.Box\n",
    "  infobox._vGeomData = dims\n",
    "  infobox._bVisible = True\n",
    "  infobox._vDiffuseColor = color\n",
    "  infobox._t[2, 3] = dims[2] / 2\n",
    "\n",
    "  box = openravepy.RaveCreateKinBody(env, '')\n",
    "  box.InitFromGeometries([infobox])\n",
    "  box.SetName(body_name)\n",
    "  box.SetTransform(t)\n",
    "\n",
    "  return box\n",
    "\n",
    "t = openravepy.matrixFromPose([1, 0, 0, 0, 0, 0, 0])\n",
    "# t = openravepy.matrixFromPose([1, 0, 0, 0, -0.473003, -10.395247, 0.619278])\n",
    "# box = create_box(env, 'plank', t, [0.157823/2, 0.168412/2 , 0.004445], [0.2, 0.2, 0.2]) #plank\n",
    "box = create_box(env, 'pedestal', t, [0.2, 0.2 , 0.14], [0.4, 0.2, 0.1]) #pedestal\n",
    "env.Add(box, False)"
   ]
  },
  {
   "cell_type": "code",
   "execution_count": null,
   "metadata": {},
   "outputs": [],
   "source": [
    "t"
   ]
  },
  {
   "cell_type": "code",
   "execution_count": null,
   "metadata": {},
   "outputs": [],
   "source": [
    "body = env.GetKinBody('fetch')\n",
    "env.Remove(body)"
   ]
  },
  {
   "cell_type": "code",
   "execution_count": null,
   "metadata": {},
   "outputs": [],
   "source": [
    "env.Save('/home/abhyudaya/catkin_ws/src/planning/worlds/env.dae')"
   ]
  },
  {
   "cell_type": "code",
   "execution_count": 6,
   "metadata": {},
   "outputs": [
    {
     "data": {
      "text/plain": "<openravepy._openravepy_.openravepy_int.GraphHandle at 0x7f293c3522a8>"
     },
     "execution_count": 6,
     "metadata": {},
     "output_type": "execute_result"
    }
   ],
   "source": [
    "# Run `rosrun gazebo_ros gazebo` before execution\n",
    "\n",
    "import rospy, tf\n",
    "from gazebo_msgs.srv import DeleteModel, SpawnModel, SetModelState\n",
    "from geometry_msgs.msg import *\n",
    "from gazebo_msgs.msg import ModelState \n",
    "import json\n",
    "import openravepy\n",
    "# import Config\n",
    "# ENV_GEN_DIR = Config.TEST_DIR + 'EnvGenerators/' + Config.TASK + '/'\n",
    "\n",
    "\n",
    "env = openravepy.Environment()\n",
    "env.SetViewer('qtcoin')\n",
    "# env.Load('../worlds/env.dae')\n",
    "openravepy.misc.DrawAxes(env, [1,0,0,0,0,0,0])"
   ]
  },
  {
   "cell_type": "code",
   "execution_count": 2,
   "metadata": {},
   "outputs": [],
   "source": [
    "dae15 = '/home/abhyudaya/catkin_ws/src/planning/worlds/plank.dae'\n",
    "plank = env.ReadKinBodyURI(dae15)\n",
    "env.AddKinBody(plank)"
   ]
  },
  {
   "cell_type": "code",
   "execution_count": 8,
   "metadata": {},
   "outputs": [],
   "source": [
    "env.Save('/home/abhyudaya/catkin_ws/src/planning/worlds/pedestal.dae')"
   ]
  },
  {
   "cell_type": "code",
   "execution_count": 4,
   "metadata": {},
   "outputs": [],
   "source": [
    "plank = env.GetKinBody('plank4')"
   ]
  },
  {
   "cell_type": "code",
   "execution_count": null,
   "metadata": {},
   "outputs": [],
   "source": [
    "\n",
    "model_files = json.load(open(ENV_GEN_DIR + 'model_files.json', 'r'))\n",
    "\n",
    "def spawn(model_name, model_file, pose):\n",
    "    with open(model_file, \"r\") as f:\n",
    "        model = f.read()\n",
    "\n",
    "    initial_pose = Pose()\n",
    "    initial_pose.position.x = pose[4]\n",
    "    initial_pose.position.y = pose[5]\n",
    "    initial_pose.position.z = pose[6]\n",
    "    initial_pose.orientation.x = pose[1]\n",
    "    initial_pose.orientation.y = pose[2]\n",
    "    initial_pose.orientation.z = pose[3]\n",
    "    initial_pose.orientation.w = pose[0]\n",
    "    \n",
    "    state_msg = ModelState()\n",
    "    state_msg.model_name = model_name\n",
    "    state_msg.pose.position.x = pose[4]\n",
    "    state_msg.pose.position.y = pose[5]\n",
    "    state_msg.pose.position.z = pose[6]\n",
    "    state_msg.pose.orientation.x = pose[1]\n",
    "    state_msg.pose.orientation.y = pose[2]\n",
    "    state_msg.pose.orientation.z = pose[3]\n",
    "    state_msg.pose.orientation.w = pose[0]\n",
    "\n",
    "    print model_name\n",
    "    \n",
    "    spawn_model(model_name, model, \"\", initial_pose, \"world\")\n",
    "    set_state(state_msg)\n",
    "\n",
    "# RUN `rosrun gazebo_ros gazebo`\n",
    "print(\"Waiting for gazebo services...\")\n",
    "rospy.init_node(\"spawner\")\n",
    "\n",
    "# rospy.wait_for_service(\"gazebo/delete_model\")\n",
    "rospy.wait_for_service(\"gazebo/spawn_sdf_model\")\n",
    "rospy.wait_for_service('/gazebo/set_model_state')\n",
    "\n",
    "set_state = rospy.ServiceProxy('/gazebo/set_model_state', SetModelState)\n",
    "# delete_model = rospy.ServicePoxy(\"gazebo/delete_model\", DeleteModel)\n",
    "spawn_model = rospy.ServiceProxy(\"gazebo/spawn_sdf_model\", SpawnModel)\n",
    "\n",
    "for body_name in model_files.keys():\n",
    "    if 'walls' in body_name or 'floor' in body_name:\n",
    "        continue\n",
    "    body = env.GetKinBody(body_name)\n",
    "    body_pose = openravepy.poseFromMatrix(body.GetTransform())\n",
    "    spawn(body_name, model_files[body_name]['sdf'], body_pose)\n"
   ]
  },
  {
   "cell_type": "markdown",
   "execution_count": null,
   "metadata": {},
   "outputs": [],
   "source": [
    "# ----------------- OLD REPLANNING ------------------"
   ]
  },
  {
   "cell_type": "code",
   "execution_count": null,
   "metadata": {},
   "outputs": [],
   "source": [
    "def arm_tuck():\n",
    "    joints = [\"shoulder_pan_joint\", \"shoulder_lift_joint\", \"upperarm_roll_joint\",\n",
    "                \"elbow_flex_joint\", \"forearm_roll_joint\", \"wrist_flex_joint\", \"wrist_roll_joint\"]\n",
    "    pose = [1.32, 1.40, -0.2, 1.72, 0.0, 1.66, 0.0]\n",
    "\n",
    "    move_group = MoveGroupInterface(\"arm\", \"base_link\")\n",
    "    while not rospy.is_shutdown():\n",
    "        result = move_group.moveToJointPosition(joints, pose, 0.02)\n",
    "        if result.error_code.val == MoveItErrorCodes.SUCCESS:\n",
    "            return\n",
    "arm_tuck()"
   ]
  },
  {
   "cell_type": "code",
   "execution_count": null,
   "metadata": {},
   "outputs": [],
   "source": [
    "# sms_client('fetch', [-0.08185400415346364, -9.799051334930155, 4.71238898038469]) # correct pose\n",
    "sms_client('fetch', [-0.030025661256, -9.74069864204, 4.71238898038469]) # inaccurate pose"
   ]
  },
  {
   "cell_type": "code",
   "execution_count": null,
   "metadata": {},
   "outputs": [],
   "source": [
    "res = gms_client('fetch', 'world')\n",
    "current_pose = res.pose\n",
    "print(\"fetch\")\n",
    "print(current_pose.position)\n",
    "q = [current_pose.orientation.w,current_pose.orientation.x, current_pose.orientation.y, current_pose.orientation.z]\n",
    "angle = axisAngleFromQuat(q)\n",
    "print(angle)\n",
    "\n",
    "res = gms_client('ply_object', 'base_link')\n",
    "print(\"object rel to base\")\n",
    "print(res.pose.position)\n"
   ]
  },
  {
   "cell_type": "code",
   "execution_count": null,
   "metadata": {},
   "outputs": [],
   "source": [
    "pose = PoseStamped()\n",
    "pose.header.stamp = rospy.Time.now()\n",
    "pose.header.frame_id = res.header.frame_id\n",
    "pose.pose = res.pose\n",
    "pose.pose.position.x -= 0.01\n",
    "pose.pose.position.y += (0.32647509/2)\n",
    "\n",
    "quaternion = tf.transformations.quaternion_from_euler(np.pi/2, 0, 0)\n",
    "pose.pose.orientation.x = quaternion[0]\n",
    "pose.pose.orientation.y = quaternion[1]\n",
    "pose.pose.orientation.z = quaternion[2]\n",
    "pose.pose.orientation.w = quaternion[3]\n",
    "\n",
    "print(pose)\n",
    "\n",
    "pose = PoseStamped()\n",
    "pose.header.stamp = rospy.Time.now()\n",
    "pose.header.frame_id = \"base_link\"\n",
    "pose.pose.position.x = 1\n",
    "pose.pose.position.y = 0\n",
    "pose.pose.position.z = 1\n",
    "\n",
    "quaternion = tf.transformations.quaternion_from_euler(np.pi/2, 0, 0)\n",
    "pose.pose.orientation.x = quaternion[0]\n",
    "pose.pose.orientation.y = quaternion[1]\n",
    "pose.pose.orientation.z = quaternion[2]\n",
    "pose.pose.orientation.w = quaternion[3]\n",
    "\n",
    "print(pose)"
   ]
  },
  {
   "cell_type": "code",
   "execution_count": null,
   "metadata": {},
   "outputs": [],
   "source": [
    "move_group = MoveGroupInterface(\"arm\", \"base_link\")\n",
    "while not rospy.is_shutdown():\n",
    "    result = move_group.moveToPose(pose, 'gripper_link')\n",
    "    # print(result)\n",
    "    print(result.error_code.val)\n",
    "    if result.error_code.val == MoveItErrorCodes.SUCCESS:\n",
    "        print(\"success\")\n",
    "        break"
   ]
  },
  {
   "cell_type": "code",
   "execution_count": null,
   "metadata": {},
   "outputs": [],
   "source": [
    "def arm_tuck():\n",
    "    joints = [\"shoulder_pan_joint\", \"shoulder_lift_joint\", \"upperarm_roll_joint\",\n",
    "                \"elbow_flex_joint\", \"forearm_roll_joint\", \"wrist_flex_joint\", \"wrist_roll_joint\"]\n",
    "    pose = [1.32, 1.40, -0.2, 1.72, 0.0, 1.66, 0.0]\n",
    "\n",
    "    move_group = MoveGroupInterface(\"arm\", \"base_link\")\n",
    "    while not rospy.is_shutdown():\n",
    "        result = move_group.moveToJointPosition(joints, pose, 0.02)\n",
    "        if result.error_code.val == MoveItErrorCodes.SUCCESS:\n",
    "            return\n",
    "arm_tuck()"
   ]
  },
  {
   "cell_type": "code",
   "execution_count": null,
   "metadata": {},
   "outputs": [],
   "source": [
    "moveit_commander.roscpp_initialize(sys.argv)\n",
    "robot = moveit_commander.RobotCommander()\n",
    "scene = moveit_commander.PlanningSceneInterface()\n",
    "g"
   ]
  },
  {
   "cell_type": "code",
   "execution_count": null,
   "metadata": {},
   "outputs": [],
   "source": [
    "scene."
   ]
  },
  {
   "cell_type": "code",
   "execution_count": null,
   "metadata": {},
   "outputs": [],
   "source": [
    "\n",
    "group_name = \"arm_with_torso\"\n",
    "group = moveit_commander.MoveGroupCommander(group_name)\n",
    "\n",
    "pose_goal = Pose()\n",
    "pose_goal.orientation.w = 1.0\n",
    "pose_goal.position.x = 0.84\n",
    "pose_goal.position.y = -0.18\n",
    "pose_goal.position.z = 0.8\n",
    "group.set_pose_target(pose_goal)\n",
    "\n",
    "plan = group.go(wait=True)\n",
    "print(plan)\n",
    "# Calling `stop()` ensures that there is no residual movement\n",
    "group.stop()\n",
    "# It is always good to clear your targets after planning with poses.\n",
    "# Note: there is no equivalent function for clear_joint_value_targets()\n",
    "group.clear_pose_targets()"
   ]
  },
  {
   "cell_type": "code",
   "execution_count": null,
   "metadata": {},
   "outputs": [],
   "source": [
    "init_pose = [0.0, 1.31993457, 1.40000903, -0.200000347, 1.71990992, -1.02841391e-05, 0, 7.12985942e-06]\n",
    "\n",
    "robot.SetActiveDOFValues(init_pose)"
   ]
  }
 ]
}