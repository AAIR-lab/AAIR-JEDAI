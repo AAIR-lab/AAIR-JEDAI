{
 "cells": [
  {
   "cell_type": "code",
   "execution_count": 1,
   "metadata": {},
   "outputs": [],
   "source": [
    "import sys\n",
    "sys.path.append('../../')"
   ]
  },
  {
   "cell_type": "code",
   "execution_count": 2,
   "metadata": {},
   "outputs": [],
   "source": [
    "import actionlib\n",
    "import Config\n",
    "sys.path.append(Config.MISC_DIR+\"real_world_exec/\")\n",
    "from fetch.fetch_control import Gripper, Head\n",
    "from control_msgs.msg import FollowJointTrajectoryGoal, FollowJointTrajectoryAction\n",
    "import rospy\n",
    "import pickle\n",
    "import actionlib\n",
    "import rospy\n",
    "import sys, time\n",
    "import math\n",
    "from openravepy import *\n",
    "from smach import State,StateMachine\n",
    "from move_base_msgs.msg import MoveBaseAction, MoveBaseGoal"
   ]
  },
  {
   "cell_type": "code",
   "execution_count": 3,
   "metadata": {},
   "outputs": [],
   "source": [
    "with open(Config.DOMAIN_DIR +'ros_trajectory.pickle', 'r') as f:\n",
    "    trajectories = pickle.load(f)\n",
    "    f.close()"
   ]
  },
  {
   "cell_type": "code",
   "execution_count": 4,
   "metadata": {},
   "outputs": [],
   "source": [
    "rospy.init_node(\"physical_fetch_execution\")"
   ]
  },
  {
   "cell_type": "code",
   "execution_count": 5,
   "metadata": {},
   "outputs": [],
   "source": [
    "def execute_manip_traj_on_ros(ros_manip_traj):\n",
    "    client = actionlib.SimpleActionClient('/arm_with_torso_controller/follow_joint_trajectory',\n",
    "                                          FollowJointTrajectoryAction)\n",
    "    client.wait_for_server()\n",
    "    id_gen = actionlib.GoalIDGenerator()\n",
    "    jtg = FollowJointTrajectoryGoal()\n",
    "    jtg.trajectory = ros_manip_traj\n",
    "    client.send_goal(jtg)\n",
    "    client.wait_for_result()   "
   ]
  },
  {
   "cell_type": "code",
   "execution_count": 6,
   "metadata": {},
   "outputs": [],
   "source": [
    "class NavWaypoint(State):\n",
    "    def __init__(self, goal):\n",
    "        State.__init__(self, outcomes=['success'])\n",
    "        # Get an action client\n",
    "        self.client = actionlib.SimpleActionClient('move_base', MoveBaseAction)\n",
    "        self.client.wait_for_server()\n",
    "        # Define the goal\n",
    "        self.goal = goal\n",
    "\n",
    "    def execute(self, userdata):\n",
    "        self.client.send_goal(self.goal)\n",
    "        self.client.wait_for_result()\n",
    "        return 'success'\n",
    "def execute_base_traj_on_ros(ros_base_traj):\n",
    "    patrol = StateMachine('success')\n",
    "    num_waypts = len(ros_base_traj)\n",
    "    with patrol:\n",
    "        for i,waypt in enumerate(ros_base_traj):\n",
    "            StateMachine.add(str(i), NavWaypoint(waypt),transitions={'success':str((i + 1) % num_waypts)})\n",
    "    patrol.execute()"
   ]
  },
  {
   "cell_type": "code",
   "execution_count": 7,
   "metadata": {},
   "outputs": [],
   "source": [
    "gripper = Gripper()"
   ]
  },
  {
   "cell_type": "code",
   "execution_count": 9,
   "metadata": {},
   "outputs": [],
   "source": [
    "for i in range(len(trajectories)):\n",
    "    t_type, t_val = trajectories[i]\n",
    "    if t_type == 'GripperOpenTrajectory':\n",
    "        gripper.open()\n",
    "    elif t_type == 'GripperCloseTrajectory':\n",
    "        gripper.close()\n",
    "    elif t_type == 'ManipTrajectory':\n",
    "        execute_manip_traj_on_ros(t_val)\n",
    "    elif t_type == 'BaseTrajectory':\n",
    "        execute_base_traj_on_ros(t_val)"
   ]
  },
  {
   "cell_type": "code",
   "execution_count": null,
   "metadata": {},
   "outputs": [],
   "source": []
  }
 ],
 "metadata": {
  "kernelspec": {
   "display_name": "Python 2",
   "language": "python",
   "name": "python2"
  }
 },
 "nbformat": 4,
 "nbformat_minor": 2
}
