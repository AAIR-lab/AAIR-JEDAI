{
 "cells": [
  {
   "cell_type": "code",
   "execution_count": null,
   "metadata": {},
   "outputs": [],
   "source": [
    "import os, sys\n",
    "sys.path.append('../../')"
   ]
  },
  {
   "cell_type": "code",
   "execution_count": null,
   "metadata": {},
   "outputs": [],
   "source": [
    "import Config\n",
    "import pickle\n",
    "from yumipy import *\n",
    "import time\n",
    "import numpy as np\n",
    "from plank_location_detection.srv import DetectPlank\n",
    "import rospy\n",
    "import importlib\n",
    "rospy.init_node('phys_exec')\n",
    "from cv_bridge import CvBridge, CvBridgeError\n",
    "import matplotlib.pyplot as plt\n",
    "from src.DataStructures.RefinedPolicy import RefinedPolicy\n",
    "from src.DataStructures.RefinedPolicyNode import RefinedPolicyNode\n",
    "from src.DataStructures.RefinedPolicyEdge import RefinedPolicyEdge"
   ]
  },
  {
   "cell_type": "code",
   "execution_count": null,
   "metadata": {},
   "outputs": [],
   "source": [
    "detect_plank_location = rospy.ServiceProxy('detect_plank_location', DetectPlank)\n",
    "num_joints = 7\n",
    "with open(Config.DOMAIN_DIR +'stitched_ros_traj.p', 'r') as f:\n",
    "    trajectories = pickle.load(f)\n",
    "    f.close()"
   ]
  },
  {
   "cell_type": "code",
   "execution_count": null,
   "metadata": {},
   "outputs": [],
   "source": [
    "yumi_robot = YuMiRobot()\n",
    "vel = YuMiRobot.get_v(50)\n",
    "yumi_robot.left.set_speed(vel)\n",
    "yumi_robot.left._motion_timeout = 1000\n",
    "yumi_robot.left._comm_timeout = 1000\n",
    "yumi_robot.left._process_timeout = 1000\n",
    "vel = YuMiRobot.get_v(50)\n",
    "yumi_robot.right.set_speed(vel)\n",
    "yumi_robot.right._motion_timeout = 1000\n",
    "yumi_robot.right._comm_timeout = 1000\n",
    "yumi_robot.right._process_timeout = 1000"
   ]
  },
  {
   "cell_type": "code",
   "execution_count": null,
   "metadata": {},
   "outputs": [],
   "source": [
    "def execute_gripper_close(yumi_robot_hand,grip_force=10):\n",
    "    return yumi_robot_hand.close_gripper(force=grip_force, width=0., no_wait=False, wait_for_res=True)\n",
    "\n",
    "def execute_gripper_open(yumi_robot_hand):\n",
    "    return  yumi_robot_hand.open_gripper(no_wait=False, wait_for_res=True)\n",
    "\n",
    "def go_to_state(yumi_robot_hand,state):\n",
    "    return  yumi_robot_hand.goto_state(state, wait_for_res=True)\n",
    "    # print(res)\n",
    "\n",
    "def execute_manip(yumi_robot_hand,trajectory):\n",
    "    res = ''\n",
    "    for i in trajectory.points:\n",
    "        reordered_joints_in_radians = np.asarray(i.positions)[[0,1,3,4,5,6,2]] # TODO fix in openrave\n",
    "        reordered_joints_in_degrees = np.degrees(reordered_joints_in_radians)\n",
    "        state = YuMiState(list(reordered_joints_in_degrees))\n",
    "        res = go_to_state(yumi_robot_hand,state)\n",
    "    return res\n",
    "\n",
    "def yumi_hand_switch(yumi_robot, hand):\n",
    "    print(hand)\n",
    "    if hand == \"left\":\n",
    "        return yumi_robot.left\n",
    "    elif hand == \"right\":\n",
    "        return yumi_robot.right\n",
    "\n",
    "\n",
<<<<<<< HEAD
    "yumi_robot_hand = yumi_robot.left"
=======
    "yumi_robot_hand = yumi_robot.right"
>>>>>>> ICRA_new_experiments
   ]
  },
  {
   "cell_type": "code",
   "execution_count": null,
   "metadata": {},
   "outputs": [],
   "source": [
    "# Set Yumi left arm to init State:\n",
    "left_state = YuMiState([0.0, -130.0, 30.0, 0.0, 40.0, 0.0, 135.0])\n",
    "ret = go_to_state(yumi_robot.left,left_state)"
   ]
  },
  {
   "cell_type": "code",
   "execution_count": null,
   "metadata": {},
   "outputs": [],
   "source": [
    "# Set Yumi left arm to init State:\n",
    "right_state = YuMiState([0.0, -130.0, 30.0, 0.0, 40., 0.0, -135.0])\n",
    "ret = go_to_state(yumi_robot.right,right_state)"
   ]
  },
  {
   "cell_type": "code",
   "execution_count": null,
   "metadata": {},
   "outputs": [],
   "source": [
    "# Set Yumi left arm to init State:\n",
    "right_state = YuMiState([0.0, -130.0, 30.0, 0.0, 40., 0.0, -135.0])\n",
    "ret = go_to_state(yumi_robot.right,right_state)"
   ]
  },
  {
   "cell_type": "code",
   "execution_count": 8,
   "metadata": {},
   "outputs": [],
   "source": [
    "class ROS_traj_executor:\n",
    "    def __init__(self):\n",
    "        self.f, self.axarr = plt.subplots(3,1) \n",
    "        self.bridge = CvBridge()\n",
    "        self.detect_plank_location = rospy.ServiceProxy('detect_plank_location', DetectPlank)\n",
    "\n",
    "    def print_im(self,num,im,title):\n",
    "        self.axarr[num].imshow(im)\n",
    "        self.axarr[num].set_title(title)\n",
    "        self.axarr[num].set_yticklabels([])\n",
    "        self.axarr[num].set_xticklabels([])\n",
    "        self.axarr[num].set_visible(True)\n",
    "        plt.draw()\n",
    "        plt.pause(0.001)\n",
    "    \n",
    "    @staticmethod\n",
<<<<<<< HEAD
    "    def physical_traj_exec(t_type, t_val, robot):\n",
=======
    "    def physical_traj_exec(t_type, t_val,robot):\n",
>>>>>>> ICRA_new_experiments
    "        global yumi_robot_hand, yumi_robot\n",
    "        if robot == 'yumi':\n",
    "            if t_type == 'HandChange':\n",
    "                yumi_robot_hand = yumi_hand_switch(yumi_robot, t_val)\n",
    "            elif t_type == 'GripperOpenTrajectory':\n",
    "                ret = execute_gripper_open(yumi_robot_hand)\n",
    "            elif t_type == 'GripperCloseTrajectory':\n",
    "                ret = execute_gripper_close(yumi_robot_hand)\n",
    "            elif t_type == 'ManipTrajectory':\n",
    "                ret = execute_manip(yumi_robot_hand,t_val)\n",
    "    \n",
    "    def effects_exec(self):\n",
    "        self.axarr[0].set_visible(False)\n",
    "        self.axarr[1].set_visible(False)\n",
    "        self.axarr[2].set_visible(False)\n",
    "        plt.draw()\n",
    "        plt.pause(0.001)\n",
    "        wait = raw_input(\"Capture Background(y/n)\")\n",
    "        if wait == 'n':\n",
    "            return -1\n",
    "        resp1 = self.detect_plank_location('capture_background')\n",
    "        cv_image1 = self.bridge.imgmsg_to_cv2(resp1.img, 'bgr8')\n",
    "        self.print_im(0,cv_image1,'background image')\n",
    "        if resp1.y == 2:\n",
    "            wait = raw_input(\"Capture Foreground(y/n)\")\n",
    "            if wait == 'n':\n",
    "                return -1\n",
    "            resp2 = self.detect_plank_location('capture_foreground')\n",
    "            cv_image2 = self.bridge.imgmsg_to_cv2(resp2.img, 'bgr8')\n",
    "            self.print_im(1,cv_image2,'foreground image')\n",
    "            if resp2.y == 2:\n",
    "                resp3 = self.detect_plank_location('get_plank_location')\n",
    "                cv_image3 = self.bridge.imgmsg_to_cv2(resp3.img, 'mono8')\n",
    "                self.print_im(2,cv_image3,'filtered image')\n",
    "                return resp3.y\n",
    "        return -1\n",
    "\n",
    "    @staticmethod\n",
    "    def select_child_using_props(policy_tree, node, choice, children):\n",
    "        stochastic_policy = getattr(importlib.import_module('test_domains.'+Config.DOMAIN + '.StochasticPolicy'),'StochasticPolicy')\n",
    "        return stochastic_policy.select_child_using_props(policy_tree, node, choice, children)\n",
    "        \n",
    "    def run_trajectory(self,policy_tree):\n",
    "        robot_name = 'yumi'\n",
    "        i = 0\n",
    "        # This function executes the trajectory on openrave and also creates ros trajectories\n",
    "        root = policy_tree.get_root()\n",
    "        q = [root]\n",
    "        while len(q) > 0:\n",
    "            node = q.pop()\n",
    "            children = node.get_children()\n",
    "            if len(children) > 0:\n",
    "                # Will only enter here for mdp problems\n",
    "                if len(children) > 1:\n",
    "                    choice = -1\n",
    "                    while choice < 0 or choice > 1:\n",
    "                        choice = self.effects_exec()\n",
    "                    #### Only This Portion changes for each domain ###\n",
    "                    selected_child = ROS_traj_executor.select_child_using_props(policy_tree, node, choice, children)\n",
    "                else:\n",
    "                    selected_child = children[0]\n",
    "                edge = policy_tree.get_edge(node, selected_child)\n",
    "                if edge.has_mp:\n",
    "                    ll_plan = edge.ll_plan\n",
    "                    exec_sequence = edge.exec_seq\n",
    "                    if 'robot' in edge.generated_values.keys():\n",
    "                        robot_name = edge.generated_values['robot']\n",
<<<<<<< HEAD
=======
    "                    exec_sequence = edge.exec_seq\n",
>>>>>>> ICRA_new_experiments
    "                    for arg in exec_sequence:\n",
    "                        # Execute physical Trajectory here\n",
    "                        wait = raw_input(\"Execute Traj \"+str(i)+\" \"+str(ll_plan[arg]['type'])+\" (y/n)\")\n",
    "                        if wait == 'n':\n",
<<<<<<< HEAD
    "                            break\n",
=======
    "                            continue\n",
>>>>>>> ICRA_new_experiments
    "                        val = ROS_traj_executor.physical_traj_exec(ll_plan[arg]['type'],ll_plan[arg]['value'],robot_name)\n",
    "                        i+=1\n",
    "                q.append(selected_child)\n",
    "            else:\n",
    "                break"
   ]
  },
  {
   "cell_type": "code",
<<<<<<< HEAD
   "execution_count": null,
=======
   "execution_count": 9,
>>>>>>> ICRA_new_experiments
   "metadata": {},
   "outputs": [],
   "source": [
    "%matplotlib qt "
   ]
  },
  {
   "cell_type": "code",
<<<<<<< HEAD
   "execution_count": null,
=======
   "execution_count": 10,
>>>>>>> ICRA_new_experiments
   "metadata": {},
   "outputs": [],
   "source": [
    "rte = ROS_traj_executor()"
   ]
  },
  {
   "cell_type": "code",
   "execution_count": 11,
   "metadata": {},
<<<<<<< HEAD
   "outputs": [],
=======
   "outputs": [
    {
     "name": "stdout",
     "output_type": "stream",
     "text": [
      "Execute traj_set 0? (y/n)\n"
     ]
    },
    {
     "name": "stderr",
     "output_type": "stream",
     "text": [
      "/usr/lib/python2.7/dist-packages/matplotlib/backend_bases.py:2437: MatplotlibDeprecationWarning: Using default event loop until function specific to this GUI is implemented\n",
      "  warnings.warn(str, mplDeprecation)\n"
     ]
    },
    {
     "name": "stdout",
     "output_type": "stream",
     "text": [
      "Capture Background(y/n)\n",
      "Capture Foreground(y/n)\n",
      "Execute Traj 0 HandChange (y/n)\n",
      "right\n",
      "Execute Traj 1 GripperOpenTrajectory (y/n)\n",
      "Execute Traj 2 ManipTrajectory (y/n)\n",
      "Execute Traj 3 ManipTrajectory (y/n)\n",
      "Execute Traj 4 GripperCloseTrajectory (y/n)\n",
      "Execute Traj 5 ManipTrajectory (y/n)\n",
      "Execute Traj 6 ManipTrajectory (y/n)\n",
      "Execute Traj 7 ManipTrajectory (y/n)\n",
      "Execute Traj 8 GripperOpenTrajectory (y/n)\n",
      "Execute Traj 9 ManipTrajectory (y/n)\n",
      "Capture Background(y/n)\n",
      "Capture Foreground(y/n)\n",
      "Capture Background(y/n)\n",
      "Capture Foreground(y/n)\n",
      "Execute Traj 10 HandChange (y/n)\n",
      "right\n",
      "Execute Traj 11 GripperOpenTrajectory (y/n)\n",
      "Execute Traj 12 ManipTrajectory (y/n)\n",
      "Execute Traj 13 ManipTrajectory (y/n)\n",
      "Execute Traj 14 GripperCloseTrajectory (y/n)\n",
      "Execute Traj 15 ManipTrajectory (y/n)\n",
      "Execute Traj 16 ManipTrajectory (y/n)\n",
      "Execute Traj 17 ManipTrajectory (y/n)\n",
      "Execute Traj 18 GripperOpenTrajectory (y/n)\n",
      "Execute Traj 19 ManipTrajectory (y/n)\n",
      "Capture Background(y/n)\n",
      "Capture Foreground(y/n)\n",
      "Execute Traj 20 HandChange (y/n)\n",
      "right\n",
      "Execute Traj 21 GripperOpenTrajectory (y/n)\n",
      "Execute Traj 22 ManipTrajectory (y/n)\n",
      "Execute Traj 23 ManipTrajectory (y/n)\n",
      "Execute Traj 24 GripperCloseTrajectory (y/n)\n",
      "Execute Traj 25 ManipTrajectory (y/n)\n",
      "Execute Traj 26 ManipTrajectory (y/n)\n",
      "Execute Traj 27 ManipTrajectory (y/n)\n",
      "Execute Traj 28 GripperOpenTrajectory (y/n)\n",
      "Execute Traj 29 ManipTrajectory (y/n)\n",
      "Execute Traj 30 ManipTrajectory (y/n)\n",
      "Execute traj_set 1? (y/n)\n",
      "Capture Background(y/n)\n",
      "Capture Foreground(y/n)\n",
      "Execute Traj 0 HandChange (y/n)\n",
      "right\n",
      "Execute Traj 1 GripperOpenTrajectory (y/n)\n",
      "Execute Traj 2 ManipTrajectory (y/n)\n",
      "Execute Traj 3 ManipTrajectory (y/n)\n",
      "Execute Traj 4 GripperCloseTrajectory (y/n)\n",
      "Execute Traj 5 ManipTrajectory (y/n)\n",
      "Execute Traj 6 ManipTrajectory (y/n)\n",
      "Execute Traj 7 ManipTrajectory (y/n)\n",
      "Execute Traj 8 GripperOpenTrajectory (y/n)\n",
      "Execute Traj 9 ManipTrajectory (y/n)\n",
      "Capture Background(y/n)\n",
      "Capture Foreground(y/n)\n",
      "Execute Traj 10 HandChange (y/n)\n",
      "right\n",
      "Execute Traj 11 GripperOpenTrajectory (y/n)\n",
      "Execute Traj 12 ManipTrajectory (y/n)\n",
      "Execute Traj 13 ManipTrajectory (y/n)\n",
      "Execute Traj 14 GripperCloseTrajectory (y/n)\n",
      "Execute Traj 15 ManipTrajectory (y/n)\n",
      "Execute Traj 16 ManipTrajectory (y/n)\n",
      "Execute Traj 17 ManipTrajectory (y/n)\n",
      "Execute Traj 18 GripperOpenTrajectory (y/n)\n",
      "Execute Traj 19 ManipTrajectory (y/n)\n",
      "Capture Background(y/n)\n",
      "Capture Foreground(y/n)\n",
      "Execute Traj 20 HandChange (y/n)\n",
      "right\n",
      "Execute Traj 21 GripperOpenTrajectory (y/n)\n",
      "Execute Traj 22 ManipTrajectory (y/n)\n",
      "Execute Traj 23 ManipTrajectory (y/n)\n",
      "Execute Traj 24 GripperCloseTrajectory (y/n)\n",
      "Execute Traj 25 ManipTrajectory (y/n)\n",
      "Execute Traj 26 ManipTrajectory (y/n)\n",
      "Execute Traj 27 ManipTrajectory (y/n)\n",
      "Execute Traj 28 GripperOpenTrajectory (y/n)\n",
      "Execute Traj 29 ManipTrajectory (y/n)\n",
      "Execute Traj 30 ManipTrajectory (y/n)\n",
      "Execute traj_set 2? (y/n)\n",
      "Capture Background(y/n)\n",
      "Capture Foreground(y/n)\n",
      "Execute Traj 0 HandChange (y/n)\n",
      "right\n",
      "Execute Traj 1 GripperOpenTrajectory (y/n)\n",
      "Execute Traj 2 ManipTrajectory (y/n)\n",
      "Execute Traj 3 ManipTrajectory (y/n)\n",
      "Execute Traj 4 GripperCloseTrajectory (y/n)\n",
      "Execute Traj 5 ManipTrajectory (y/n)\n",
      "Execute Traj 6 ManipTrajectory (y/n)\n",
      "Execute Traj 7 ManipTrajectory (y/n)\n",
      "Execute Traj 8 GripperOpenTrajectory (y/n)\n",
      "Execute Traj 9 ManipTrajectory (y/n)\n",
      "Capture Background(y/n)\n",
      "Capture Foreground(y/n)\n",
      "Execute Traj 10 HandChange (y/n)\n",
      "right\n",
      "Execute Traj 11 GripperOpenTrajectory (y/n)\n",
      "Execute Traj 12 ManipTrajectory (y/n)\n",
      "Execute Traj 13 ManipTrajectory (y/n)\n",
      "Execute Traj 14 GripperCloseTrajectory (y/n)\n",
      "Execute Traj 15 ManipTrajectory (y/n)\n",
      "Execute Traj 16 ManipTrajectory (y/n)\n",
      "Execute Traj 17 ManipTrajectory (y/n)\n",
      "Execute Traj 18 GripperOpenTrajectory (y/n)\n",
      "Execute Traj 19 ManipTrajectory (y/n)\n",
      "Capture Background(y/n)\n",
      "Capture Foreground(y/n)\n",
      "Execute Traj 20 HandChange (y/n)\n",
      "right\n",
      "Execute Traj 21 GripperOpenTrajectory (y/n)\n",
      "Execute Traj 22 ManipTrajectory (y/n)\n",
      "Execute Traj 23 ManipTrajectory (y/n)\n",
      "Execute Traj 24 GripperCloseTrajectory (y/n)\n",
      "Execute Traj 25 ManipTrajectory (y/n)\n",
      "Execute Traj 26 ManipTrajectory (y/n)\n",
      "Execute Traj 27 ManipTrajectory (y/n)\n",
      "Execute Traj 28 GripperOpenTrajectory (y/n)\n",
      "Execute Traj 29 ManipTrajectory (y/n)\n",
      "Execute Traj 30 ManipTrajectory (y/n)\n"
     ]
    }
   ],
>>>>>>> ICRA_new_experiments
   "source": [
    "for i,traj_set in enumerate(trajectories):\n",
    "    wait = raw_input(\"Execute traj_set \"+str(i)+\"? (y/n)\")\n",
    "    if wait == 'n':\n",
    "        continue\n",
    "    rte.run_trajectory(traj_set)"
   ]
  },
  {
   "cell_type": "code",
<<<<<<< HEAD
   "execution_count": null,
   "metadata": {},
   "outputs": [],
   "source": [
    "ret = execute_gripper_open(yumi_robot.right)\n",
=======
   "execution_count": 6,
   "metadata": {},
   "outputs": [],
   "source": [
    "ret = execute_gripper_open(yumi_robot_hand)\n",
>>>>>>> ICRA_new_experiments
    "# ret = execute_gripper_close(yumi_robot)"
   ]
  },
  {
   "cell_type": "code",
   "execution_count": null,
   "metadata": {},
   "outputs": [],
   "source": []
  }
 ],
 "metadata": {
  "file_extension": ".py",
  "kernelspec": {
   "display_name": "Python 2.7.12 64-bit",
   "language": "python",
   "name": "python271264bit1dc936eb481c4cd0ad0f99733eecbcb5"
  },
  "language_info": {
   "codemirror_mode": {
    "name": "ipython",
    "version": 2
   },
   "file_extension": ".py",
   "mimetype": "text/x-python",
   "name": "python",
   "nbconvert_exporter": "python",
   "pygments_lexer": "ipython2",
   "version": "2.7.12"
  },
  "mimetype": "text/x-python",
  "name": "python",
  "npconvert_exporter": "python",
  "pygments_lexer": "ipython2",
  "version": 2
 },
 "nbformat": 4,
 "nbformat_minor": 2
}