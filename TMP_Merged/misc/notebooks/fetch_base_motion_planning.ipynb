{
 "cells": [
  {
   "cell_type": "code",
   "execution_count": 1,
   "metadata": {},
   "outputs": [],
   "source": [
    "import os, sys\n",
    "sys.path.append('../../')\n",
    "import Config\n",
    "from src.Simulators.OpenRaveSimulator import *\n",
    "from openravepy import *\n",
    "from tf.transformations import *\n",
    "from src.OpenraveUtils import *\n",
    "from prpy.planning import sbpl"
   ]
  },
  {
   "cell_type": "code",
   "execution_count": 2,
   "metadata": {},
   "outputs": [],
   "source": [
    "# Load environment\n",
    "sim = OpenRaveSimulator(Config.OPENRAVE_ENV_XML)\n",
    "env = sim.env\n",
    "robot = env.GetRobot(Config.ROBOT_NAME)\n",
    "# old = robot.GetActiveDOFIndices()\n",
    "# Set affine dofs as active dofs\n",
    "robot.SetActiveDOFs([],DOFAffine.X|DOFAffine.Y|DOFAffine.RotationAxis)"
   ]
  },
  {
   "cell_type": "code",
   "execution_count": 3,
   "metadata": {},
   "outputs": [],
   "source": [
    "# Loading Planner paramns\n",
    "import yaml\n",
    "with open(Config.MISC_DIR+\"RobotModels/fetch/URDF/sbpl_global_params.yaml\", 'r') as stream:\n",
    "    try:\n",
    "        planner_params = yaml.safe_load(stream)\n",
    "    except yaml.YAMLError as exc:\n",
    "        print(exc)\n",
    "    stream.close()"
   ]
  },
  {
   "cell_type": "code",
   "execution_count": 4,
   "metadata": {},
   "outputs": [],
   "source": [
    "# SBPL Planner\n",
    "planner = sbpl.SBPLPlanner()\n",
    "planner.setupEnv(env)\n",
    "planner.SetPlannerParameters(planner_params)"
   ]
  },
  {
   "cell_type": "code",
   "execution_count": 5,
   "metadata": {},
   "outputs": [],
   "source": [
    "# End Pose\n",
    "pose = np.eye(4)\n",
    "pose[0,3]=4.0\n",
    "pose[1,3]=3.0\n",
    "# Trajectory\n",
    "traj = planner.PlanToBasePose(robot,pose)"
   ]
  },
  {
   "cell_type": "code",
   "execution_count": 6,
   "metadata": {},
   "outputs": [],
   "source": [
    "# Smoothen the trajectory\n",
    "_ = planningutils.SmoothAffineTrajectory(traj, [4.,4.,4.], [.5, .5, .5], plannername='LinearTrajectoryRetimer')"
   ]
  },
  {
   "cell_type": "code",
   "execution_count": 7,
   "metadata": {},
   "outputs": [
    {
     "data": {
      "text/plain": [
       "True"
      ]
     },
     "execution_count": 7,
     "metadata": {},
     "output_type": "execute_result"
    }
   ],
   "source": [
    "# Execute Trajectory\n",
    "with robot:\n",
    "    robot.GetController().SetPath(traj)\n",
    "robot.WaitForController(0)"
   ]
  },
  {
   "cell_type": "code",
   "execution_count": null,
   "metadata": {},
   "outputs": [],
   "source": []
  }
 ],
 "metadata": {
  "file_extension": ".py",
  "kernelspec": {
   "display_name": "Python 2",
   "language": "python",
   "name": "python2"
  },
  "language_info": {
   "codemirror_mode": {
    "name": "ipython",
    "version": 2
   },
   "file_extension": ".py",
   "mimetype": "text/x-python",
   "name": "python",
   "nbconvert_exporter": "python",
   "pygments_lexer": "ipython2",
   "version": "2.7.12"
  },
  "mimetype": "text/x-python",
  "name": "python",
  "npconvert_exporter": "python",
  "pygments_lexer": "ipython2",
  "version": 2
 },
 "nbformat": 4,
 "nbformat_minor": 2
}
