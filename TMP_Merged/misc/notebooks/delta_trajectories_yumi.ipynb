{
 "cells": [
  {
   "cell_type": "code",
   "execution_count": 1,
   "metadata": {},
   "outputs": [],
   "source": [
    "# Setup before running notebook:\n",
    "# In Config.py:\n",
    "#    IK_SOLVER = \"trac_ik\"\n",
    "# In DomainConfig.py:\n",
    "#    ROBOT_NAME = 'yumi'\n",
    "#    OPENRAVE_ENV_XML = path to 'keva_housing_stochastic.dae'"
   ]
  },
  {
   "cell_type": "code",
   "execution_count": 2,
   "metadata": {},
   "outputs": [],
   "source": [
    "import os, sys\n",
    "sys.path.append('../../')"
   ]
  },
  {
   "cell_type": "code",
   "execution_count": 3,
   "metadata": {},
   "outputs": [],
   "source": [
    "import Config\n",
    "from src.Simulators.OpenRaveSimulator import *\n",
    "from openravepy import *\n",
    "from tf.transformations import *\n",
    "from src.OpenraveUtils import *\n",
    "from prpy.planning import ompl, CBiRRTPlanner, mk"
   ]
  },
  {
   "cell_type": "code",
   "execution_count": 4,
   "metadata": {},
   "outputs": [],
   "source": [
    "# Load environment\n",
    "sim = OpenRaveSimulator(Config.OPENRAVE_ENV_XML)\n",
    "env = sim.env\n",
    "robot = env.GetRobot(Config.ROBOT_NAME)"
   ]
  },
  {
   "cell_type": "code",
   "execution_count": 8,
   "metadata": {},
   "outputs": [],
   "source": [
    "# Go to pose\n",
    "# Pre grasp for picking block from Housing\n",
    "cur_pose = [-3.06161700e-17,  3.06161700e-17,  1.00000000e+00, -9.37349864e-34, 4.91690896e-01,  3.40889478e-01,  5e-01]\n",
    "# pose = quat+trans\n",
    "goal_transform_values = matrixFromPose(cur_pose)\n",
    "\n",
    "\n",
    "# Yumi works with trac_ik\n",
    "iksolutions = sim.get_trac_ik_solutions(robot, goal_transform_values, check_collisions=True)\n",
    "\n",
    "# Set active dof values with any of the iksolutions found\n",
    "robot.SetActiveDOFValues(iksolutions[0])"
   ]
  },
  {
   "cell_type": "code",
   "execution_count": 12,
   "metadata": {},
   "outputs": [],
   "source": [
    "# Grasp for picking block from Housing\n",
    "goal_pose = [-3.06161700e-17,  3.06161700e-17,  1.00000000e+00, -9.37349864e-34, 4.91690896e-01,  3.40889478e-01,  3e-01]\n",
    "offset = (np.asarray(goal_pose) - np.asarray(cur_pose))[-3:]\n",
    "distance = np.sqrt(np.sum(offset**2))\n",
    "direction = offset/distance"
   ]
  },
  {
   "cell_type": "code",
   "execution_count": 13,
   "metadata": {},
   "outputs": [],
   "source": [
    "# Delta trajectories with CBiRRT \n",
    "planner = CBiRRTPlanner(timelimit=10.)\n",
    "trajectory_object = planner.PlanToEndEffectorOffset(robot, direction, distance,smoothingitrs=10,timelimit=10.)\n",
    "res = planningutils.RetimeTrajectory(trajectory_object)\n",
    "trajectory_object = trajectory_object.serialize()"
   ]
  },
  {
   "cell_type": "code",
   "execution_count": 14,
   "metadata": {},
   "outputs": [
    {
     "data": {
      "text/plain": [
       "True"
      ]
     },
     "execution_count": 14,
     "metadata": {},
     "output_type": "execute_result"
    }
   ],
   "source": [
    "# Execute Trajectory\n",
    "traj = RaveCreateTrajectory(env, '')\n",
    "Trajectory.deserialize(traj, trajectory_object)\n",
    "with robot:\n",
    "    robot.GetController().SetPath(traj)\n",
    "robot.WaitForController(0)"
   ]
  },
  {
   "cell_type": "code",
   "execution_count": 15,
   "metadata": {},
   "outputs": [
    {
     "name": "stdout",
     "output_type": "stream",
     "text": [
      "[-0. -0.  1.]\n"
     ]
    }
   ],
   "source": [
    "# Reverse Delta Trajectory\n",
    "distance = np.sqrt(np.sum(offset**2))\n",
    "direction = -offset/distance\n",
    "print(direction)"
   ]
  },
  {
   "cell_type": "code",
   "execution_count": 16,
   "metadata": {},
   "outputs": [],
   "source": [
    "trajectory_object = planner.PlanToEndEffectorOffset(robot, direction, distance,smoothingitrs=10,timelimit=10.)\n",
    "res = planningutils.RetimeTrajectory(trajectory_object)\n",
    "trajectory_object = trajectory_object.serialize()"
   ]
  },
  {
   "cell_type": "code",
   "execution_count": 17,
   "metadata": {},
   "outputs": [
    {
     "data": {
      "text/plain": [
       "True"
      ]
     },
     "execution_count": 17,
     "metadata": {},
     "output_type": "execute_result"
    }
   ],
   "source": [
    "# Execute Trajectory\n",
    "traj = RaveCreateTrajectory(env, '')\n",
    "Trajectory.deserialize(traj, trajectory_object)\n",
    "with robot:\n",
    "    robot.GetController().SetPath(traj)\n",
    "robot.WaitForController(0)"
   ]
  },
  {
   "cell_type": "code",
   "execution_count": null,
   "metadata": {},
   "outputs": [],
   "source": []
  }
 ],
 "metadata": {
  "kernelspec": {
   "display_name": "Python 2",
   "language": "python",
   "name": "python2"
  },
  "language_info": {
   "codemirror_mode": {
    "name": "ipython",
    "version": 2
   },
   "file_extension": ".py",
   "mimetype": "text/x-python",
   "name": "python",
   "nbconvert_exporter": "python",
   "pygments_lexer": "ipython2",
   "version": "2.7.12"
  }
 },
 "nbformat": 4,
 "nbformat_minor": 2
}
