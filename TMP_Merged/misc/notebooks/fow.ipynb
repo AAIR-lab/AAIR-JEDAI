{
 "nbformat": 4,
 "nbformat_minor": 2,
 "metadata": {
  "language_info": {
   "name": "python",
   "codemirror_mode": {
    "name": "ipython",
    "version": 2
   },
   "version": "2.7.12-final"
  },
  "orig_nbformat": 2,
  "file_extension": ".py",
  "mimetype": "text/x-python",
  "name": "python",
  "npconvert_exporter": "python",
  "pygments_lexer": "ipython2",
  "version": 2,
  "kernelspec": {
   "name": "python271264bitce0b10f522df435fbf81fa4309a08b1f",
   "display_name": "Python 2.7.12 64-bit"
  }
 },
 "cells": [
  {
   "cell_type": "code",
   "execution_count": 1,
   "metadata": {},
   "outputs": [],
   "source": [
    "import sys\n",
    "import numpy as np\n",
    "import math\n",
    "import time\n",
    "import json\n",
    "import openravepy\n",
    "import pickle\n",
    "\n",
    "sys.path.append('../../')\n",
    "from src.Robots.Models import *\n",
    "import Config\n",
    "from prpy.planning import ompl, CBiRRTPlanner, chomp\n",
    "from openravepy import planningutils\n",
    "from trac_ik_python.trac_ik import IK\n",
    "from src.Simulators.OpenRaveSimulator import *"
   ]
  },
  {
   "cell_type": "code",
   "execution_count": 31,
   "metadata": {},
   "outputs": [],
   "source": [
    "\n",
    "# sim = OpenRaveSimulator(Config.OPENRAVE_ENV_XML)\n",
    "# env = sim.env\n",
    "# robot = env.GetRobots()[0]\n",
    "\n",
    "tuck_dof_values = None\n",
    "left_tuck_dof_values = [0.32592421901965096, -2.34200605696553, 2.2443831554480718, 0.6143840852897609, 0.4095033675810835, 0.8291095083790417, -0.5451207814487959]\n",
    "right_tuck_dof_values = [-0.3264493983797501, -2.337921596190979, -2.2443558819818707, 0.6147207056518011, -0.40258980361318003, 0.8277095613394793, 0.538388770740175]\n",
    "\n",
    "env = openravepy.Environment()\n",
    "env.SetViewer('qtcoin')\n",
    "env.Load('../../test_domains/TorsenLSD/Environments/two_tables_parts.dae')\n",
    "# # YuMiOpenRaveRobotModel(env, False)\n",
    "\n",
    "openravepy.misc.DrawAxes(env, [1,0,0,0,0,0,0])\n",
    "h = None\n",
    "part_name = None"
   ]
  },
  {
   "cell_type": "code",
   "execution_count": 3,
   "metadata": {},
   "outputs": [],
   "source": [
    "# Load initial transforms\n",
    "part_init_transforms = {}\n",
    "with open('../../test_domains/TorsenLSD/Environments/init_transforms.pkl') as f:\n",
    "    part_init_transforms = pickle.load(f)"
   ]
  },
  {
   "cell_type": "code",
   "execution_count": 4,
   "metadata": {},
   "outputs": [],
   "source": [
    "# FetchOpenRaveRobotModel(env, False)\n",
    "# env.GetKinBody('fetch').SetTransform(part_init_transforms['fetch'])\n",
    "fetch_tuck_dof_values = env.GetRobot('fetch').GetActiveDOFValues()"
   ]
  },
  {
   "cell_type": "code",
   "execution_count": null,
   "metadata": {},
   "outputs": [],
   "source": [
    "# taskmanip = interfaces.TaskManipulation(env.GetKinBody('fetch'))\n",
    "# taskmanip.ReleaseFingers()"
   ]
  },
  {
   "cell_type": "code",
   "execution_count": null,
   "metadata": {},
   "outputs": [],
   "source": [
    "reference_env = Environment()\n",
    "# reference_env.Load('../../test_domains/TorsenLSD/Environments/reference/lefthalf.dae')\n",
    "# reference_env.Load('../../test_domains/TorsenLSD/Environments/reference/righthalf.dae')\n",
    "reference_env.Load('../../test_domains/TorsenLSD/Environments/keva_test.dae')\n",
    "reference_env.SetViewer('qtosg')"
   ]
  },
  {
   "cell_type": "code",
   "execution_count": null,
   "metadata": {},
   "outputs": [],
   "source": [
    "print(reference_env.GetKinBody('table60').GetTransform())\n",
    "print(env.GetKinBody('table60').GetTransform())\n",
    "t1 = reference_env.GetKinBody('table60').GetTransform()\n",
    "t2 = env.GetKinBody('table60').GetTransform()\n",
    "print(t1[2,3] - t2[2,3])"
   ]
  },
  {
   "cell_type": "code",
   "execution_count": null,
   "metadata": {},
   "outputs": [],
   "source": [
    "assembled_env = Environment()\n",
    "assembled_env.Load('../../test_domains/TorsenLSD/Environments/reference/lefthalf_assembled.dae')\n",
    "# assembled_env.Load('../../test_domains/TorsenLSD/Environments/reference/righthalf_assembled.dae')\n"
   ]
  },
  {
   "cell_type": "code",
   "execution_count": 32,
   "metadata": {},
   "outputs": [],
   "source": [
    "def rotate_z(rot_angle):\n",
    "    # rotate around z axis\n",
    "    rotation_matrix = np.identity(4)\n",
    "    rotation_matrix[0][0] = math.cos(rot_angle)\n",
    "    rotation_matrix[0][1] = -(math.sin(rot_angle))\n",
    "    rotation_matrix[1][0] = math.sin(rot_angle)\n",
    "    rotation_matrix[1][1] = math.cos(rot_angle)\n",
    "    return rotation_matrix\n",
    "\n",
    "def rotate_y(rot_angle):\n",
    "    # rotate around y axis\n",
    "    rotation_matrix = np.identity(4)\n",
    "    rotation_matrix[0][0] = math.cos(rot_angle)\n",
    "    rotation_matrix[0][2] = math.sin(rot_angle)\n",
    "    rotation_matrix[2][0] = -math.sin(rot_angle)\n",
    "    rotation_matrix[2][2] = math.cos(rot_angle)\n",
    "    return rotation_matrix\n",
    "\n",
    "def rotate_x(rot_angle):\n",
    "    # rotate around x axis\n",
    "    rotation_matrix = np.identity(4)\n",
    "    rotation_matrix[1][1] = math.cos(rot_angle)\n",
    "    rotation_matrix[1][2] = -(math.sin(rot_angle))\n",
    "    rotation_matrix[2][1] = math.sin(rot_angle)\n",
    "    rotation_matrix[2][2] = math.cos(rot_angle)\n",
    "    return rotation_matrix\n",
    "    \n",
    "def translate(x, y, z):\n",
    "    # rotate around x axis\n",
    "    rotation_matrix = np.identity(4)\n",
    "    rotation_matrix[0][3] = x\n",
    "    rotation_matrix[1][3] = y\n",
    "    rotation_matrix[2][3] = z\n",
    "    return rotation_matrix"
   ]
  },
  {
   "cell_type": "code",
   "execution_count": 33,
   "metadata": {},
   "outputs": [],
   "source": [
    "def planToConfiguration(robot, goal_config):\n",
    "    '''\n",
    "    find motion plan to given IK\n",
    "    goal_config: IK to move arm to\n",
    "    '''\n",
    "\n",
    "    # planner = ompl.OMPLPlanner('RRTConnect')\n",
    "    planner = CBiRRTPlanner(timelimit=30.0)\n",
    "    simplifier = ompl.OMPLSimplifier()\n",
    "    # Motion Planning to reach joint state value(s)\n",
    "    # Get trajectory from planner based on type of goal config passed\n",
    "    # ( config a.k.a ik solutions a.k.a joint states )\n",
    "    try:\n",
    "        # if len(goal_configs) == 1:\n",
    "            # If goal is a single IK solution, then call PlanToConfiguration\n",
    "        trajectory_object = planner.PlanToConfiguration(robot, goal_config, smoothingitrs=30)\n",
    "        # else:\n",
    "            # If goal is a list of IK solutions, then call PlanToConfigurations\n",
    "        # trajectory_object = planner.PlanToConfigurations(robot, goal_configs)\n",
    "        if hasattr(planner, 'default_ompl_args'):\n",
    "            print(\"simplifying..\")\n",
    "            # If planner is from OMPL, then simplify the trajectory\n",
    "            trajectory_object = simplifier.ShortcutPath(robot,trajectory_object)\n",
    "    except Exception as e:#PlanningError:\n",
    "        print(\"Exception \", e)\n",
    "        # print(__file__.split('/')[-1],\": Could not find motion plan\")\n",
    "        return None\n",
    "    print(\"retiming..\")\n",
    "    # Retime and serialize the trajectory\n",
    "    _ = planningutils.RetimeTrajectory(trajectory_object)\n",
    "    trajectory_object = trajectory_object.serialize()\n",
    "    return trajectory_object"
   ]
  },
  {
   "cell_type": "code",
   "execution_count": 34,
   "metadata": {},
   "outputs": [],
   "source": [
    "def get_housing_poses(side):\n",
    "    pose_list = []\n",
    "\n",
    "    if side.lower() == 'left':\n",
    "        # grasping from protruding clamps where spur gears fit in\n",
    "        z_rotation_matrix = rotate_z(np.pi)\n",
    "        x_rotation_matrix = rotate_x(0)\n",
    "        y_rotation_matrix = rotate_y(0)\n",
    "        translate_matrix = translate(-0.23,0.053,-0.05)\n",
    "        transformations = [z_rotation_matrix, translate_matrix]\n",
    "    else:\n",
    "        z_rotation_matrix = rotate_z(np.pi)\n",
    "        x_rotation_matrix = rotate_x(0)\n",
    "        y_rotation_matrix = rotate_y(0)\n",
    "        translate_matrix = translate(-0.25,0.053,-0.05)\n",
    "        transformations = [z_rotation_matrix, translate_matrix]\n",
    "        \n",
    "    grasp_pose = body_transform\n",
    "    for transform in transformations:\n",
    "        grasp_pose = np.matmul(grasp_pose, transform)\n",
    "    \n",
    "    pose_list.append(grasp_pose)\n",
    "    return pose_list\n",
    "\n",
    "def get_axle_poses():\n",
    "    pose_list = []\n",
    "\n",
    "    z_rotation_matrix = rotate_z(np.pi/2)\n",
    "    x_rotation_matrix = rotate_x(np.pi/2)\n",
    "    y_rotation_matrix = rotate_y(0)\n",
    "    translate_matrix = translate(0,-0.02,-0.12)\n",
    "    transformations = [x_rotation_matrix, z_rotation_matrix, translate_matrix]\n",
    "\n",
    "\n",
    "    grasp_pose = body_transform\n",
    "    for transform in transformations:\n",
    "        grasp_pose = np.matmul(grasp_pose, transform)\n",
    "\n",
    "    pose_list.append(grasp_pose)\n",
    "\n",
    "    return pose_list\n",
    "\n",
    "\n",
    "def get_wormspur_poses():\n",
    "    pose_list = []\n",
    "\n",
    "    z_rotation_matrix = rotate_z(0)\n",
    "    x_rotation_matrix = rotate_x(0)\n",
    "    y_rotation_matrix = rotate_y(-np.pi/2)\n",
    "    translate_matrix = translate(0,0,-0.13)\n",
    "    transformations = [y_rotation_matrix, z_rotation_matrix, translate_matrix]\n",
    "\n",
    "\n",
    "    grasp_pose = body_transform\n",
    "    for transform in transformations:\n",
    "        grasp_pose = np.matmul(grasp_pose, transform)\n",
    "\n",
    "    pose_list.append(grasp_pose)\n",
    "\n",
    "    return pose_list\n",
    "\n",
    "def get_upright_poses():\n",
    "    pose_list = []\n",
    "    \n",
    "    z_rotation_matrix = rotate_z(-np.pi/2)\n",
    "    x_rotation_matrix = rotate_x(0)\n",
    "    y_rotation_matrix = rotate_y(0)\n",
    "    translate_matrix = translate(-0.25,-0.012,0)\n",
    "    transformations = [z_rotation_matrix, translate_matrix]\n",
    "    \n",
    "    grasp_pose = body_transform\n",
    "    for transform in transformations:\n",
    "        grasp_pose = np.matmul(grasp_pose, transform)\n",
    "    \n",
    "    pose_list.append(grasp_pose)\n",
    "\n",
    "    return pose_list\n",
    "\n",
    "\n",
    "def get_ring_gear_poses():\n",
    "    pose_list = []\n",
    "\n",
    "    z_rotation_matrix = rotate_z(0)\n",
    "    x_rotation_matrix = rotate_x(np.pi/2)\n",
    "    y_rotation_matrix = rotate_y(np.pi/2)\n",
    "    translate_matrix = translate(-0.27,0,0)\n",
    "    transformations = [y_rotation_matrix,x_rotation_matrix,translate_matrix]\n",
    "    \n",
    "    grasp_pose = body_transform\n",
    "    for transform in transformations:\n",
    "        grasp_pose = np.matmul(grasp_pose, transform)\n",
    "    \n",
    "    pose_list.append(grasp_pose)\n",
    "    return pose_list\n",
    "\n",
    "def get_drive_poses():\n",
    "    pose_list = []\n",
    "\n",
    "    z_rotation_matrix = rotate_z(0)\n",
    "    x_rotation_matrix = rotate_x(np.pi/2)\n",
    "    y_rotation_matrix = rotate_y(np.pi/2)\n",
    "    translate_matrix = translate(-0.19,-0.0129,0)\n",
    "    transformations = [y_rotation_matrix,x_rotation_matrix, translate_matrix]\n",
    "        \n",
    "    grasp_pose = body_transform\n",
    "    for transform in transformations:\n",
    "        grasp_pose = np.matmul(grasp_pose, transform)\n",
    "    \n",
    "    pose_list.append(grasp_pose)\n",
    "    return pose_list\n",
    "\n",
    "def get_shaft_poses():\n",
    "    pose_list = []\n",
    "\n",
    "    z_rotation_matrix = rotate_z(np.pi/2)\n",
    "    x_rotation_matrix = rotate_x(0)\n",
    "    y_rotation_matrix = rotate_y(-np.pi/2)\n",
    "    translate_matrix = translate(0,-0.05,-0.12)\n",
    "    transformations = [y_rotation_matrix, z_rotation_matrix, translate_matrix]\n",
    "        \n",
    "    grasp_pose = body_transform\n",
    "    for transform in transformations:\n",
    "        grasp_pose = np.matmul(grasp_pose, transform)\n",
    "\n",
    "    pose_list.append(grasp_pose)\n",
    "    return pose_list\n",
    "\n",
    "def get_wheel_poses():\n",
    "    pose_list = []\n",
    "\n",
    "    z_rotation_matrix = rotate_z(0)\n",
    "    x_rotation_matrix = rotate_x(0)\n",
    "    y_rotation_matrix = rotate_y(np.pi)\n",
    "    translate_matrix = translate(0,0,-0.16)\n",
    "    transformations = [y_rotation_matrix, z_rotation_matrix, translate_matrix]\n",
    "\n",
    "    grasp_pose = body_transform\n",
    "    for transform in transformations:\n",
    "        grasp_pose = np.matmul(grasp_pose, transform)\n",
    "\n",
    "    pose_list.append(grasp_pose)\n",
    "    return pose_list\n",
    "\n",
    "def get_base_poses():\n",
    "    pose_list = []\n",
    "\n",
    "    com = env.GetKinBody('Base').ComputeAABB().pos()\n",
    "    t = env.GetKinBody('Base').GetTransform()\n",
    "    x_diff = abs(com[0] - t[0,3])\n",
    "    y_diff = abs(com[1] - t[1,3])\n",
    "    z_diff = abs(com[2] - t[2,3])\n",
    "\n",
    "    z_rotation_matrix = rotate_z(0)\n",
    "    x_rotation_matrix = rotate_x(0)\n",
    "    y_rotation_matrix = rotate_y(np.pi/2)\n",
    "    translate_matrix_com = translate(x_diff,y_diff,z_diff)\n",
    "    translate_matrix = translate(-0.22,0,0)\n",
    "    transformations = [translate_matrix_com, y_rotation_matrix, z_rotation_matrix, translate_matrix]\n",
    "\n",
    "    grasp_pose = body_transform\n",
    "    for transform in transformations:\n",
    "        grasp_pose = np.matmul(grasp_pose, transform)\n",
    "\n",
    "    pose_list.append(grasp_pose)\n",
    "    return pose_list"
   ]
  },
  {
   "cell_type": "code",
   "execution_count": 35,
   "metadata": {},
   "outputs": [],
   "source": [
    "def set_human_fixed_pose(base_name, part_name):\n",
    "    print(\"base: \", base_name)\n",
    "    print(\"part: \", part_name)\n",
    "    body = env.GetKinBody(part_name)\n",
    "    refw_T_base = assembled_env.GetKinBody(base_name).GetTransform()\n",
    "    part_T_refw = assembled_env.GetKinBody(part_name).GetTransform()\n",
    "\n",
    "    base_T_part = np.matmul(np.linalg.inv(refw_T_base), part_T_refw)\n",
    "\n",
    "    w_T_base = env.GetKinBody(base_name).GetTransform()\n",
    "\n",
    "    new_pose = np.matmul(w_T_base, base_T_part)\n",
    "\n",
    "    body.SetTransform(new_pose)"
   ]
  },
  {
   "cell_type": "code",
   "execution_count": 36,
   "metadata": {},
   "outputs": [],
   "source": [
    "def get_delta_trajectory(robot, end_pose, current_pose):\n",
    "    planner = CBiRRTPlanner()\n",
    "    difference_mat = end_pose - current_pose\n",
    "    v_3D = difference_mat[:3,3]\n",
    "    distance = np.sqrt(np.sum(v_3D**2))\n",
    "    direction = list(v_3D/distance)\n",
    "\n",
    "    try:\n",
    "        trajectory_object = planner.PlanToEndEffectorOffset(robot, direction, distance,smoothingitrs=10,timelimit=10.)\n",
    "        # trajectory_object = planner.PlanToEndEffectorOffset(robot, direction, distance)\n",
    "    except PlanningError as e:\n",
    "        print(__file__.split('/')[-1],\": Could not find delta motion plan\",e)\n",
    "        return None\n",
    "    _ = planningutils.RetimeTrajectory(trajectory_object)\n",
    "    trajectory_object = trajectory_object.serialize()\n",
    "    return trajectory_object"
   ]
  },
  {
   "cell_type": "code",
   "execution_count": 37,
   "metadata": {},
   "outputs": [],
   "source": [
    "def execute_trajectory(robot, trajectory_object):\n",
    "    # Deserialize the trajectory for execution\n",
    "    des_traj = RaveCreateTrajectory(env, '')\n",
    "    Trajectory.deserialize(des_traj, trajectory_object)\n",
    "    print(\"waypoint count:\", des_traj.GetNumWaypoints())\n",
    "    # Execute on Openrave\n",
    "    with robot:\n",
    "        robot.GetController().SetPath(des_traj)\n",
    "    robot.WaitForController(0)"
   ]
  },
  {
   "cell_type": "code",
   "execution_count": 38,
   "metadata": {},
   "outputs": [],
   "source": [
    "def get_fast_ik_solutions(env, robot, end_effector_transform, do_check_collisions=False):\n",
    "    filter_option = openravepy.IkFilterOptions.CheckEnvCollisions\n",
    "    # filter_option = None\n",
    "    if not do_check_collisions:\n",
    "        filter_option = openravepy.IkFilterOptions.IgnoreEndEffectorCollisions\n",
    "    \n",
    "    ikmodel = openravepy.databases.inversekinematics.InverseKinematicsModel(robot, iktype=openravepy.IkParameterization.Type.Transform6D)\n",
    "    if not ikmodel.load():\n",
    "        raveLogInfo(\"Generating IKModel for \" + str(robot))\n",
    "        ikmodel.autogenerate()\n",
    "    solutions = ikmodel.manip.FindIKSolutions(end_effector_transform, filter_option)\n",
    "    # DrawAxes(self.env, end_effector_transform)\n",
    "    print len(solutions), \" IK solutions found\" \n",
    "\n",
    "    return solutions[:20] # return only 20 solutions"
   ]
  },
  {
   "cell_type": "code",
   "execution_count": null,
   "metadata": {},
   "outputs": [],
   "source": [
    "# def set_yumi_manipulator(side):\n",
    "#     global sim, tuck_dof_values, left_tuck_dof_values, right_tuck_dof_values\n",
    "\n",
    "#     if side == 'right':\n",
    "#         robot.SetActiveManipulator('right_arm_effector')\n",
    "#         right_arm_jointnames = [\"yumi_joint_1_r\", \"yumi_joint_2_r\", \"yumi_joint_7_r\", \"yumi_joint_3_r\",                                             \"yumi_joint_4_r\",\"yumi_joint_5_r\", \"yumi_joint_6_r\"]\n",
    "#         robot.SetActiveDOFs([robot.GetJoint(name).GetDOFIndex() for name in right_arm_jointnames])\n",
    "#         taskmanip = interfaces.TaskManipulation(robot)\n",
    "#         taskmanip.ReleaseFingers(movingdir=[1])\n",
    "#         tuck_dof_values = right_tuck_dof_values[:]\n",
    "#     else:\n",
    "#         robot.SetActiveManipulator('left_arm_effector')\n",
    "#         left_arm_jointnames = [\"yumi_joint_1_l\", \"yumi_joint_2_l\", \"yumi_joint_7_l\", \"yumi_joint_3_l\",                                              \"yumi_joint_4_l\", \"yumi_joint_5_l\", \"yumi_joint_6_l\"]\n",
    "#         robot.SetActiveDOFs([robot.GetJoint(name).GetDOFIndex() for name in left_arm_jointnames])\n",
    "#         taskmanip = interfaces.TaskManipulation(robot)\n",
    "#         taskmanip.ReleaseFingers(movingdir=[1])\n",
    "#         tuck_dof_values = left_tuck_dof_values[:]\n",
    "\n",
    "#     sim.ik_solver = sim.set_IK_solver('world', str(robot.GetActiveManipulator().GetEndEffector().GetName()), sim.urdf_str)\n",
    "\n",
    "# set_yumi_manipulator('left')"
   ]
  },
  {
   "cell_type": "markdown",
   "execution_count": null,
   "metadata": {},
   "outputs": [],
   "source": [
    "## TESTING MODELS"
   ]
  },
  {
   "cell_type": "code",
   "execution_count": null,
   "metadata": {},
   "outputs": [],
   "source": [
    "sequence = -2\n",
    "part_sequence = ['UprightClamp', 'RingGear', 'LeftHousing', 'WormSpur', 'WormSpur', 'WormSpur', 'Drive', 'Axle']\n",
    "part_names = ['UprightClamp', 'RingGear', 'Housing', 'WormSpur1', 'WormSpur2', 'WormSpur3', 'Drive', 'Axle']\n",
    "side = 'Right'\n",
    "print(part_names[sequence])\n",
    "\n",
    "# Load part into environment\n",
    "model_dir = '../../test_domains/TorsenLSD/Environments/individual_centered/'\n",
    "# model_file = model_dir + part_sequence[sequence] + '.dae'\n",
    "model_file = model_dir + 'Base.dae'\n",
    "\n",
    "part_model = env.ReadKinBodyURI(model_file)\n",
    "env.AddKinBody(part_model)\n"
   ]
  },
  {
   "cell_type": "code",
   "execution_count": null,
   "metadata": {},
   "outputs": [],
   "source": [
    "# part_name = side + part_names[sequence]\n",
    "part_name = 'Base'\n",
    "print(part_name)\n",
    "\n",
    "part_model.SetName(part_name)\n",
    "# if part_name in part_init_transforms.keys():\n",
    "#     part_model.SetTransform(part_init_transforms[part_name])"
   ]
  },
  {
   "cell_type": "code",
   "execution_count": null,
   "metadata": {},
   "outputs": [],
   "source": [
    "thermo_body1 = env.GetKinBody('fetchthermo2')\n",
    "thermo_body2 = env.GetKinBody('thermoleft2')\n",
    "thermo_body3 = env.GetKinBody('thermoright2')\n",
    "\n",
    "for body in [thermo_body1, thermo_body2, thermo_body3]:\n",
    "    current_transform = body.GetTransform()\n",
    "    modified_pose = np.matmul(current_transform, translate(0,0,10))\n",
    "    body.SetTransform(modified_pose)"
   ]
  },
  {
   "cell_type": "code",
   "execution_count": null,
   "metadata": {},
   "outputs": [],
   "source": [
    "# Load initial transforms\n",
    "clamp_transforms = {}\n",
    "with open('../../test_domains/TorsenLSD/Environments/clamp_positions.pkl') as f:\n",
    "    clamp_transforms = pickle.load(f)"
   ]
  },
  {
   "cell_type": "code",
   "execution_count": null,
   "metadata": {},
   "outputs": [],
   "source": [
    "clamp_transforms['LeftUprightClamp'] = env.GetKinBody('LeftUprightClamp').GetTransform()"
   ]
  },
  {
   "cell_type": "code",
   "execution_count": null,
   "metadata": {},
   "outputs": [],
   "source": [
    "# t = env.GetKinBody('table60').GetTransform()\n",
    "body = env.GetKinBody('LeftUprightClamp')\n",
    "body.SetTransform(clamp_transforms['LeftUprightClamp'])"
   ]
  },
  {
   "cell_type": "code",
   "execution_count": null,
   "metadata": {},
   "outputs": [],
   "source": [
    "body = env.GetKinBody('RightUprightClamp')\n",
    "t = body.GetTransform()\n",
    "t[2,3] -= 0.02\n",
    "# modified_pose = np.matmul(current_transform, translate(0,0,-0.02))\n",
    "body.SetTransform(t)"
   ]
  },
  {
   "cell_type": "code",
   "execution_count": null,
   "metadata": {},
   "outputs": [],
   "source": [
    "print(env.GetKinBody('table60').GetTransform())\n",
    "print(env.GetKinBody('table61').GetTransform())"
   ]
  },
  {
   "cell_type": "code",
   "execution_count": null,
   "metadata": {},
   "outputs": [],
   "source": [
    "for body in env.GetBodies():\n",
    "    if body.GetName() not in ['yumi', 'fetch', 'table6']:\n",
    "        t = body.GetTransform()\n",
    "        t[2,3] -= 0.02\n",
    "        # modified_pose = np.matmul(current_transform, translate(0,0,-0.02))\n",
    "        body.SetTransform(t)"
   ]
  },
  {
   "cell_type": "code",
   "execution_count": 44,
   "metadata": {},
   "outputs": [
    {
     "name": "stdout",
     "output_type": "stream",
     "text": "[[-1.00000000e+00  1.22464680e-16  1.23259513e-31  2.95229167e-01]\n [-1.22464680e-16 -1.00000000e+00  4.71027769e-16 -4.93881524e-01]\n [ 1.80943778e-31  4.71027769e-16  1.00000000e+00  1.44770722e-01]\n [ 0.00000000e+00  0.00000000e+00  0.00000000e+00  1.00000000e+00]]\n"
    }
   ],
   "source": [
    "# Testing code\n",
    "\n",
    "# Translate/Rotate part as required \n",
    "# body = env.GetKinBody(part_name)\n",
    "body = env.GetKinBody('RightShaft3')\n",
    "# body_dims = env.GetKinBody(part_name).ComputeAABB().extents()\n",
    "\n",
    "current_transform = body.GetTransform()\n",
    "print(current_transform)\n",
    "# modified_pose = np.matmul(current_transform, rotate_x(-np.pi/2))\n",
    "# modified_pose = np.matmul(current_transform, translate(0.1,0,0))\n",
    "modified_pose = np.matmul(current_transform, translate(0,-0.01,0))\n",
    "body.SetTransform(modified_pose)\n",
    "\n",
    "# Set body name\n",
    "# env.GetKinBody('table600').SetName('table61')\n",
    "\n",
    "# Remove body\n",
    "# env.Remove(env.GetKinBody(part_name))\n",
    "\n",
    "# Set transform to another body\n",
    "# t = env.GetKinBody('table60').GetTransform()\n",
    "# body = env.GetKinBody(part_name)\n",
    "# body.SetTransform(t)\n",
    "\n",
    "# Save placed position transform\n",
    "# part_init_transforms[part_name] = body.GetTransform()\n",
    "\n",
    "# Set Saved transform\n",
    "# env.GetKinBody('LeftAxle').SetTransform(part_init_transforms['LeftAxle'])\n",
    "\n",
    "\n",
    "# Save all body transforms\n",
    "# for body in env.GetBodies():\n",
    "#     part_init_transforms[body.GetName()] = body.GetTransform()\n",
    "# part_init_transforms"
   ]
  },
  {
   "cell_type": "code",
   "execution_count": null,
   "metadata": {},
   "outputs": [],
   "source": [
    "for body in env.GetBodies():\n",
    "    part_init_transforms[body.GetName()] = body.GetTransform()"
   ]
  },
  {
   "cell_type": "code",
   "execution_count": null,
   "metadata": {},
   "outputs": [],
   "source": [
    "part_init_transforms['fetch'] = env.GetKinBody('fetch').GetTransform()"
   ]
  },
  {
   "cell_type": "code",
   "execution_count": null,
   "metadata": {},
   "outputs": [],
   "source": [
    "# Save the init transforms\n",
    "with open('../../test_domains/TorsenLSD/Environments/clamp_positions.pkl', 'wb') as f:\n",
    "    pickle.dump(clamp_transforms, f)"
   ]
  },
  {
   "cell_type": "markdown",
   "execution_count": null,
   "metadata": {},
   "outputs": [],
   "source": [
    "## Pick pose\n"
   ]
  },
  {
   "cell_type": "code",
   "execution_count": null,
   "metadata": {},
   "outputs": [],
   "source": [
    "side = 'left'"
   ]
  },
  {
   "cell_type": "code",
   "execution_count": null,
   "metadata": {},
   "outputs": [],
   "source": [
    "# move the thermocol back in place\n",
    "if robot.GetName() == 'fetch':\n",
    "    thermo2_body = env.GetKinBody('fetchthermo2')\n",
    "else:\n",
    "    thermo2_body = env.GetKinBody('thermo{}2'.format(side))\n",
    "\n",
    "current_transform = thermo2_body.GetTransform()\n",
    "modified_pose = np.matmul(current_transform, translate(0,0,0.4))\n",
    "thermo2_body.SetTransform(modified_pose)"
   ]
  },
  {
   "cell_type": "code",
   "execution_count": null,
   "metadata": {},
   "outputs": [],
   "source": [
    "if robot.GetName() == 'fetch':\n",
    "    robot.SetActiveDOFValues(fetch_tuck_dof_values)\n",
    "else:\n",
    "    set_yumi_manipulator(side)\n",
    "    if side == 'right':\n",
    "        robot.SetActiveDOFValues(right_tuck_dof_values)\n",
    "    else:\n",
    "        robot.SetActiveDOFValues(left_tuck_dof_values)\n",
    "if h is not None:\n",
    "    h.Close()"
   ]
  },
  {
   "cell_type": "code",
   "execution_count": 12,
   "metadata": {},
   "outputs": [],
   "source": [
    "# robot = env.GetRobot('fetch')\n",
    "robot = env.GetRobot('yumi')"
   ]
  },
  {
   "cell_type": "code",
   "execution_count": null,
   "metadata": {},
   "outputs": [],
   "source": [
    "if robot.GetName() == 'fetch':\n",
    "    robot.SetActiveDOFValues(fetch_tuck_dof_values)\n",
    "else:\n",
    "    robot.SetActiveDOFValues(left_tuck_dof_values)"
   ]
  },
  {
   "cell_type": "code",
   "execution_count": 27,
   "metadata": {},
   "outputs": [],
   "source": [
    "part_name = 'LeftWheel'"
   ]
  },
  {
   "cell_type": "code",
   "execution_count": 28,
   "metadata": {},
   "outputs": [
    {
     "name": "stdout",
     "output_type": "stream",
     "text": "[array([[ 2.22044605e-16, -1.00000000e+00, -2.71926215e-32,\n         3.95229161e-01],\n       [-1.00000000e+00, -2.22044605e-16,  3.67517926e-15,\n         4.93881524e-01],\n       [-3.67517926e-15,  0.00000000e+00, -1.00000000e+00,\n         2.95370712e-01],\n       [ 0.00000000e+00,  0.00000000e+00,  0.00000000e+00,\n         1.00000000e+00]])]\n"
    }
   ],
   "source": [
    "# pick pose\n",
    "\n",
    "if h is not None:\n",
    "    h.Close()\n",
    "\n",
    "body = env.GetKinBody(part_name)\n",
    "body_transform = body.GetTransform()\n",
    "body_dim = body.ComputeAABB().extents()*2\n",
    "\n",
    "if 'Housing' in part_name:\n",
    "    if 'Left' in part_name:\n",
    "        grasp_poses = get_housing_poses('left')\n",
    "    else:\n",
    "        grasp_poses = get_housing_poses('right')\n",
    "elif 'Axle' in part_name:\n",
    "    grasp_poses = get_axle_poses()\n",
    "elif 'Drive' in part_name:\n",
    "    grasp_poses = get_drive_poses()\n",
    "elif 'Upright' in part_name:\n",
    "    grasp_poses = get_upright_poses()\n",
    "elif 'WormSpur' in part_name:\n",
    "    grasp_poses = get_wormspur_poses()\n",
    "elif 'Shaft' in part_name:\n",
    "    grasp_poses = get_shaft_poses()\n",
    "elif 'Wheel' in part_name:\n",
    "    grasp_poses = get_wheel_poses()\n",
    "elif 'Base' in part_name:\n",
    "    grasp_poses = get_base_poses()\n",
    "elif 'RingGear' in part_name:\n",
    "    grasp_poses = get_ring_gear_poses()\n",
    "else:\n",
    "    print(\"unknown part\")\n",
    "\n",
    "    # z_rotation_matrix = rotate_z(0)\n",
    "    # x_rotation_matrix = rotate_x(np.pi/2)\n",
    "    # y_rotation_matrix = rotate_y(np.pi/2)\n",
    "    # translate_matrix = translate(-0.27,0,0)\n",
    "    # transformations = [y_rotation_matrix,x_rotation_matrix,translate_matrix]\n",
    "    \n",
    "    # grasp_pose = body_transform\n",
    "    # for transform in transformations:\n",
    "    #     grasp_pose = np.matmul(grasp_pose, transform)\n",
    "    \n",
    "    grasp_poses = []\n",
    "    grasp_poses.append(grasp_pose)\n",
    "\n",
    "print(grasp_poses)\n",
    "grasp_pose = grasp_poses[0]\n",
    "\n",
    "h = misc.DrawAxes(env, grasp_pose)"
   ]
  },
  {
   "cell_type": "markdown",
   "execution_count": null,
   "metadata": {},
   "outputs": [],
   "source": [
    "## PrePickPose"
   ]
  },
  {
   "cell_type": "code",
   "execution_count": 29,
   "metadata": {},
   "outputs": [],
   "source": [
    "if robot.GetName() == 'fetch':\n",
    "    pre_grasp_offset = 0.07\n",
    "    pre_grasp_matrix = np.identity(4)\n",
    "    pre_grasp_matrix[0][3] -= pre_grasp_offset\n",
    "else: #yumi\n",
    "    pre_grasp_offset = 0.04\n",
    "    pre_grasp_matrix = np.identity(4)\n",
    "    pre_grasp_matrix[2][3] -= pre_grasp_offset\n",
    "\n",
    "prepickup_gripper_pose = np.matmul(grasp_pose, pre_grasp_matrix)\n",
    "\n",
    "if h is not None:\n",
    "    h.Close()\n",
    "h = misc.DrawAxes(env, prepickup_gripper_pose)"
   ]
  },
  {
   "cell_type": "markdown",
   "execution_count": null,
   "metadata": {},
   "outputs": [],
   "source": [
    "## goto prepick\n"
   ]
  },
  {
   "cell_type": "code",
   "execution_count": 30,
   "metadata": {},
   "outputs": [
    {
     "name": "stdout",
     "output_type": "stream",
     "text": "11\n"
    }
   ],
   "source": [
    "# Single arm IK\n",
    "if robot.GetName() == 'fetch':\n",
    "    ik_sols = get_fast_ik_solutions(env, env.GetRobot('fetch'), prepickup_gripper_pose, do_check_collisions=True)\n",
    "else:\n",
    "    ik_sols = sim.robots['yumi'].get_ik_solutions(prepickup_gripper_pose, check_collisions=True)\n",
    "print(len(ik_sols))"
   ]
  },
  {
   "cell_type": "code",
   "execution_count": null,
   "metadata": {},
   "outputs": [],
   "source": [
    "robot.SetActiveDOFValues(ik_sols[0])"
   ]
  },
  {
   "cell_type": "code",
   "execution_count": null,
   "metadata": {},
   "outputs": [],
   "source": [
    "if robot.GetName() == 'fetch':\n",
    "    robot.SetActiveDOFValues(fetch_tuck_dof_values)\n",
    "else:\n",
    "    robot.SetActiveDOFValues(left_tuck_dof_values)"
   ]
  },
  {
   "cell_type": "code",
   "execution_count": null,
   "metadata": {},
   "outputs": [],
   "source": [
    "goal_configs = ik_sols\n",
    "\n",
    "dof_values = robot.GetActiveDOFValues()\n",
    "\n",
    "# Plan for the IKs\n",
    "print(len(goal_configs))\n",
    "for goal_config in goal_configs:\n",
    "    i = 0\n",
    "    while i < 5:\n",
    "        robot.SetActiveDOFValues(dof_values)\n",
    "        with env:\n",
    "            trajectory_object = planToConfiguration(robot, goal_config)\n",
    "        if trajectory_object is not None:\n",
    "            break\n",
    "        i += 1\n",
    "    if trajectory_object is not None:\n",
    "        print(\"found\")\n",
    "        break\n",
    "\n",
    "robot.SetActiveDOFValues(dof_values)\n",
    "# robot.SetActiveDOFValues(tuck_dof_values)"
   ]
  },
  {
   "cell_type": "code",
   "execution_count": null,
   "metadata": {},
   "outputs": [],
   "source": [
    "execute_trajectory(robot, trajectory_object)"
   ]
  },
  {
   "cell_type": "markdown",
   "execution_count": null,
   "metadata": {},
   "outputs": [],
   "source": [
    "## delta trajectory to grasp pose"
   ]
  },
  {
   "cell_type": "code",
   "execution_count": null,
   "metadata": {},
   "outputs": [],
   "source": [
    "if h is not None:\n",
    "    h.Close()\n",
    "h = misc.DrawAxes(env, grasp_pose)\n",
    "\n",
    "trajectory_object = get_delta_trajectory(robot, grasp_pose, prepickup_gripper_pose)"
   ]
  },
  {
   "cell_type": "code",
   "execution_count": null,
   "metadata": {},
   "outputs": [],
   "source": [
    "execute_trajectory(robot, trajectory_object)"
   ]
  },
  {
   "cell_type": "code",
   "execution_count": null,
   "metadata": {},
   "outputs": [],
   "source": [
    "robot.Grab(env.GetKinBody(part_name))"
   ]
  },
  {
   "cell_type": "code",
   "execution_count": null,
   "metadata": {},
   "outputs": [],
   "source": [
    "side = 'left'\n",
    "if robot.GetName() == 'fetch':\n",
    "    thermo2_body = env.GetKinBody('fetchthermo2')\n",
    "else:\n",
    "    thermo2_body = env.GetKinBody('thermo{}2'.format(side))\n",
    "\n",
    "current_transform = thermo2_body.GetTransform()\n",
    "modified_pose = np.matmul(current_transform, translate(0,0,-0.4))\n",
    "thermo2_body.SetTransform(modified_pose)"
   ]
  },
  {
   "cell_type": "markdown",
   "execution_count": null,
   "metadata": {},
   "outputs": [],
   "source": [
    "## Post pickup pose"
   ]
  },
  {
   "cell_type": "code",
   "execution_count": null,
   "metadata": {},
   "outputs": [],
   "source": [
    "# fetch\n",
    "if robot.GetName() == 'fetch':\n",
    "    post_grasp_offset = 0.07\n",
    "    post_grasp_matrix = np.identity(4)\n",
    "    post_grasp_matrix[0][3] -= post_grasp_offset\n",
    "else:\n",
    "    post_grasp_offset = 0.04\n",
    "    post_grasp_matrix = np.identity(4)\n",
    "    post_grasp_matrix[1][3] -= post_grasp_offset\n",
    "\n",
    "postpickup_gripper_pose = np.matmul(grasp_pose, post_grasp_matrix)\n",
    "\n",
    "if h is not None:\n",
    "    h.Close()\n",
    "h = misc.DrawAxes(env, postpickup_gripper_pose)"
   ]
  },
  {
   "cell_type": "code",
   "execution_count": null,
   "metadata": {},
   "outputs": [],
   "source": [
    "dof_values = robot.GetActiveDOFValues()"
   ]
  },
  {
   "cell_type": "markdown",
   "execution_count": null,
   "metadata": {},
   "outputs": [],
   "source": [
    "## delta trajectory to post pickup"
   ]
  },
  {
   "cell_type": "code",
   "execution_count": null,
   "metadata": {},
   "outputs": [],
   "source": [
    "trajectory_object = get_delta_trajectory(robot, postpickup_gripper_pose, grasp_pose)"
   ]
  },
  {
   "cell_type": "code",
   "execution_count": null,
   "metadata": {},
   "outputs": [],
   "source": [
    "execute_trajectory(robot, trajectory_object)"
   ]
  },
  {
   "cell_type": "markdown",
   "execution_count": null,
   "metadata": {},
   "outputs": [],
   "source": [
    "## put down pose"
   ]
  },
  {
   "cell_type": "code",
   "execution_count": null,
   "metadata": {},
   "outputs": [],
   "source": [
    "dof_values = robot.GetActiveDOFValues()"
   ]
  },
  {
   "cell_type": "code",
   "execution_count": null,
   "metadata": {},
   "outputs": [],
   "source": [
    "# LeftUpright putdown pose\n",
    "if h is not None:\n",
    "    h.Close()\n",
    "\n",
    "if part_name == 'LeftUprightClamp':\n",
    "    pass\n",
    "    # table_transform = env.GetKinBody('table60').GetTransform()\n",
    "\n",
    "    # z_rotation_matrix = rotate_z(-np.pi/2)\n",
    "    # y_rotation_matrix = rotate_y(np.pi)\n",
    "    # x_rotation_matrix = rotate_x(0)\n",
    "    # translate_matrix = translate(-.15,-0.05,-0.2575)\n",
    "\n",
    "    # transformations = [y_rotation_matrix, x_rotation_matrix, z_rotation_matrix, translate_matrix]\n",
    "    # putdown_gripper_pose = table_transform\n",
    "    # for transform in transformations:\n",
    "    #     putdown_gripper_pose = np.matmul(putdown_gripper_pose, transform)\n",
    "\n",
    "    # # putdown_gripper_pose = table_transform\n",
    "\n",
    "    # h = misc.DrawAxes(env, putdown_gripper_pose)\n",
    "\n",
    "elif part_name == 'RightUprightClamp':\n",
    "    pass\n",
    "    # table_transform = env.GetKinBody('table60').GetTransform()\n",
    "\n",
    "    # z_rotation_matrix = rotate_z(-np.pi/2)\n",
    "    # y_rotation_matrix = rotate_y(np.pi)\n",
    "    # x_rotation_matrix = rotate_x(0)\n",
    "    # translate_matrix = translate(.15,-0.05,-0.2575)\n",
    "\n",
    "    # transformations = [y_rotation_matrix, x_rotation_matrix, z_rotation_matrix, translate_matrix]\n",
    "    # putdown_gripper_pose = table_transform\n",
    "    # for transform in transformations:\n",
    "    #     putdown_gripper_pose = np.matmul(putdown_gripper_pose, transform)\n",
    "\n",
    "    # # putdown_gripper_pose = table_transform\n",
    "\n",
    "    # h = misc.DrawAxes(env, putdown_gripper_pose)\n",
    "\n",
    "else:\n",
    "    # put down pose\n",
    "    if side.lower() == 'right':\n",
    "        reference_root_part = 'RightUprightClamp'\n",
    "    else:\n",
    "        reference_root_part = 'LeftUprightClamp'\n",
    "\n",
    "    robot_world_transform = robot.GetLink('world').GetTransform() # w_T_r\n",
    "    gripper_base_link = robot.GetActiveManipulator().GetEndEffector()\n",
    "    gripper_base_transform = gripper_base_link.GetTransform() # w_T_g\n",
    "    grabbed_object_pose = env.GetKinBody(part_name).GetTransform() # w_T_obj\n",
    "    object_pose_wrt_gripper = np.matmul(np.linalg.inv(gripper_base_transform), grabbed_object_pose) # g_T_obj\n",
    "\n",
    "    reference_root_transform = reference_env.GetKinBody(reference_root_part).GetTransform() # w_T_base\n",
    "    reference_part_transform = reference_env.GetKinBody(part_name).GetTransform() # w_T_obj\n",
    "    reference_part_wrt_root = np.matmul(np.linalg.inv(reference_root_transform),\n",
    "                                                        reference_part_transform) # base_T_obj\n",
    "    root_transform = env.GetKinBody(reference_root_part).GetTransform() # w_T_base\n",
    "\n",
    "    updated_object_pose = np.matmul(root_transform, reference_part_wrt_root) # w_T_obj : new pose of object\n",
    "\n",
    "    object_pose_wrt_robot = np.matmul(np.linalg.inv(robot_world_transform), updated_object_pose) # r_T_obj\n",
    "    putdown_gripper_pose = np.matmul(object_pose_wrt_robot, np.linalg.inv(object_pose_wrt_gripper)) # r_T_g\n",
    "\n",
    "    h = misc.DrawAxes(env, putdown_gripper_pose)"
   ]
  },
  {
   "cell_type": "code",
   "execution_count": null,
   "metadata": {},
   "outputs": [],
   "source": [
    "# FETCH PUTDOWN POSE\n",
    "reference_root_part = 'table60'\n",
    "\n",
    "robot_world_transform = robot.GetLink('base_link').GetTransform() # w_T_r\n",
    "gripper_base_link = robot.GetActiveManipulator().GetEndEffector()\n",
    "gripper_base_transform = gripper_base_link.GetTransform() # w_T_g\n",
    "grabbed_object_pose = robot.GetGrabbed()[0].GetTransform() # w_T_obj\n",
    "object_pose_wrt_gripper = np.matmul(np.linalg.inv(gripper_base_transform), grabbed_object_pose) # g_T_obj\n",
    "\n",
    "reference_root_transform = reference_env.GetKinBody(reference_root_part).GetTransform() # w_T_base\n",
    "reference_part_transform = reference_env.GetKinBody(part_name).GetTransform() # w_T_obj\n",
    "reference_part_wrt_root = np.matmul(np.linalg.inv(reference_root_transform),\n",
    "                                                    reference_part_transform) # base_T_obj\n",
    "root_transform = env.GetKinBody(reference_root_part).GetTransform() # w_T_base\n",
    "\n",
    "updated_object_pose = np.matmul(root_transform, reference_part_wrt_root) # w_T_obj : new pose of object\n",
    "\n",
    "object_pose_wrt_robot = np.matmul(np.linalg.inv(robot_world_transform), updated_object_pose) # r_T_obj\n",
    "putdown_gripper_pose = np.matmul(object_pose_wrt_robot, np.linalg.inv(object_pose_wrt_gripper)) # r_T_g\n",
    "\n",
    "putdown_gripper_pose = np.matmul(robot_world_transform, putdown_gripper_pose)\n",
    "\n",
    "\n",
    "h = misc.DrawAxes(env, putdown_gripper_pose)"
   ]
  },
  {
   "cell_type": "markdown",
   "execution_count": null,
   "metadata": {},
   "outputs": [],
   "source": [
    "## Pre Put Down Pose"
   ]
  },
  {
   "cell_type": "code",
   "execution_count": null,
   "metadata": {},
   "outputs": [],
   "source": [
    "# FETCH\n",
    "if robot.GetName() == 'fetch':\n",
    "    pre_putdown_offset = 0.07\n",
    "else:\n",
    "    pre_putdown_offset = 0.05\n",
    "\n",
    "preputdown_gripper_pose = putdown_gripper_pose.copy()\n",
    "preputdown_gripper_pose[2][3] += pre_putdown_offset\n",
    "\n",
    "if h is not None:\n",
    "    h.Close()\n",
    "h = misc.DrawAxes(env, preputdown_gripper_pose)"
   ]
  },
  {
   "cell_type": "markdown",
   "execution_count": null,
   "metadata": {},
   "outputs": [],
   "source": [
    "## move to pre put down"
   ]
  },
  {
   "cell_type": "code",
   "execution_count": null,
   "metadata": {},
   "outputs": [],
   "source": [
    "# Single arm IK\n",
    "if robot.GetName() == 'fetch':\n",
    "    ik_sols = get_fast_ik_solutions(env, env.GetRobot('fetch'), preputdown_gripper_pose, do_check_collisions=True)\n",
    "else:\n",
    "    ik_sols = sim.robots['yumi'].get_ik_solutions(preputdown_gripper_pose, check_collisions=True)\n",
    "print(len(ik_sols))"
   ]
  },
  {
   "cell_type": "code",
   "execution_count": null,
   "metadata": {},
   "outputs": [],
   "source": [
    "robot.SetActiveDOFValues(ik_sols[0])"
   ]
  },
  {
   "cell_type": "code",
   "execution_count": null,
   "metadata": {},
   "outputs": [],
   "source": [
    "robot.SetActiveDOFValues(dof_values)"
   ]
  },
  {
   "cell_type": "code",
   "execution_count": null,
   "metadata": {},
   "outputs": [],
   "source": [
    "goal_configs = ik_sols\n",
    "\n",
    "dof_values = robot.GetActiveDOFValues()\n",
    "\n",
    "# trajectories = {}\n",
    "# Plan for the IKs\n",
    "print(len(goal_configs))\n",
    "for j, goal_config in enumerate(goal_configs):\n",
    "    print(j)\n",
    "    i = 0\n",
    "    while i < 3:\n",
    "        robot.SetActiveDOFValues(dof_values)\n",
    "        with env:\n",
    "            trajectory_object = planToConfiguration(robot, goal_config)\n",
    "        if trajectory_object is not None:\n",
    "            break\n",
    "        i += 1\n",
    "    if trajectory_object is not None:\n",
    "        print(\"found\")\n",
    "        # trajectories[j] = trajectory_object\n",
    "        break\n",
    "\n",
    "robot.SetActiveDOFValues(dof_values)\n",
    "# robot.SetActiveDOFValues(tuck_dof_values)"
   ]
  },
  {
   "cell_type": "code",
   "execution_count": null,
   "metadata": {},
   "outputs": [],
   "source": [
    "execute_trajectory(robot, trajectory_object)"
   ]
  },
  {
   "cell_type": "markdown",
   "execution_count": null,
   "metadata": {},
   "outputs": [],
   "source": [
    "## delta trajectory to put down pose"
   ]
  },
  {
   "cell_type": "code",
   "execution_count": null,
   "metadata": {},
   "outputs": [],
   "source": [
    "trajectory_object = get_delta_trajectory(robot, putdown_gripper_pose, preputdown_gripper_pose)"
   ]
  },
  {
   "cell_type": "code",
   "execution_count": null,
   "metadata": {},
   "outputs": [],
   "source": [
    "execute_trajectory(robot, trajectory_object)"
   ]
  },
  {
   "cell_type": "code",
   "execution_count": null,
   "metadata": {},
   "outputs": [],
   "source": [
    "robot.ReleaseAllGrabbed()"
   ]
  },
  {
   "cell_type": "markdown",
   "execution_count": null,
   "metadata": {},
   "outputs": [],
   "source": [
    "## post put down pose"
   ]
  },
  {
   "cell_type": "code",
   "execution_count": null,
   "metadata": {},
   "outputs": [],
   "source": [
    "if robot.GetName() == 'fetch':\n",
    "    # Set PostPickPose\n",
    "    post_putdown_offset = 0.05\n",
    "    postputdown_gripper_transform = np.identity(4)\n",
    "    postputdown_gripper_transform[0][3] -= post_putdown_offset\n",
    "\n",
    "    postputdown_gripper_pose = np.matmul(putdown_gripper_pose, postputdown_gripper_transform)\n",
    "else:\n",
    "    # Set PostPickPose\n",
    "    post_putdown_offset = 0.04\n",
    "    postputdown_gripper_transform = np.identity(4)\n",
    "    postputdown_gripper_transform[2][3] -= post_putdown_offset\n",
    "\n",
    "    postputdown_gripper_pose = np.matmul(putdown_gripper_pose, postputdown_gripper_transform)\n",
    "\n",
    "if h is not None:\n",
    "    h.Close()\n",
    "h = misc.DrawAxes(env, postputdown_gripper_pose)"
   ]
  },
  {
   "cell_type": "code",
   "execution_count": null,
   "metadata": {},
   "outputs": [],
   "source": [
    "trajectory_object = get_delta_trajectory(robot, postputdown_gripper_pose, putdown_gripper_pose)"
   ]
  },
  {
   "cell_type": "code",
   "execution_count": null,
   "metadata": {},
   "outputs": [],
   "source": [
    "execute_trajectory(robot, trajectory_object)"
   ]
  },
  {
   "cell_type": "code",
   "execution_count": null,
   "metadata": {},
   "outputs": [],
   "source": [
    "set_human_fixed_pose('LeftUprightClamp', part_name)"
   ]
  },
  {
   "cell_type": "markdown",
   "execution_count": null,
   "metadata": {},
   "outputs": [],
   "source": [
    "# OLD"
   ]
  },
  {
   "cell_type": "code",
   "execution_count": null,
   "metadata": {},
   "outputs": [],
   "source": [
    "def create_plank(env,plankname,plank_transform=np.eye(4)):\n",
    "    with env:\n",
    "        body = RaveCreateKinBody(env,'')\n",
    "        body.SetName(plankname)\n",
    "        # body.InitFromBoxes(numpy.array([[0.,0.,0.,0.05884,0.01162,5*0.003875]]),True)\n",
    "        # body.InitFromBoxes(numpy.array([[0.,0.,0.,0.4/2,0.3/2,0.0165/2]]),True) # thermoleft/right\n",
    "        # body.InitFromBoxes(numpy.array([[0.,0.,0.,0.45/2,0.45,0.0165/2]]),True) # fetch table\n",
    "        body.InitFromBoxes(numpy.array([[0.,0.,0.,0.5/2,0.5/2,0.75]]),True) # fetch table\n",
    "        env.AddKinBody(body)\n",
    "        body.SetTransform(plank_transform)\n",
    "        return body\n",
    "\n",
    "plank = create_plank(env, 'human')"
   ]
  },
  {
   "cell_type": "code",
   "execution_count": null,
   "metadata": {},
   "outputs": [],
   "source": [
    "env.Remove(env.GetKinBody('yumi'))"
   ]
  },
  {
   "cell_type": "code",
   "execution_count": null,
   "metadata": {},
   "outputs": [],
   "source": [
    "# Translate\n",
    "for body in env.GetBodies():\n",
    "    name = body.GetName()\n",
    "    if name.startswith('Left') and name != part_name:\n",
    "        # body = env.GetKinBody('LeftRingGear')\n",
    "        current_transform = body.GetTransform()\n",
    "        modified_pose = np.matmul(current_transform, translate(0, 0, -0.2))\n",
    "        # h2 = misc.DrawAxes(env, putdown_gripper_pose)\n",
    "        Tz = openravepy.matrixFromPose(modified_pose)\n",
    "        body.SetTransform(Tz)"
   ]
  },
  {
   "cell_type": "code",
   "execution_count": null,
   "metadata": {},
   "outputs": [],
   "source": [
    "parts = ['Axle', 'Base', 'Clamp', 'DriveGear', 'L-Housing', 'PinionGear', 'R-Housing', 'RingGear', 'Shaft', 'SpurGear', 'Upright', 'Wheel', 'WormWheel']\n",
    "model_file = '/home/local/ASUAD/asrinet1/Downloads/TorsenLSD/{}.stl'.format(parts[12])\n",
    "model_file = '/home/local/ASUAD/asrinet1/Downloads/TorsenLSD/SpurGear.stl'\n",
    "# model_file = '/home/local/ASUAD/asrinet1/Downloads/3_components.dae'\n",
    "# model_file = '/home/local/ASUAD/asrinet1/Downloads/base00225.stl'\n",
    "part_model = env.ReadKinBodyURI(model_file)\n",
    "env.AddKinBody(part_model)"
   ]
  },
  {
   "cell_type": "code",
   "execution_count": null,
   "metadata": {},
   "outputs": [],
   "source": [
    "# create the dual-arm ik solver\n",
    "dualsolver = misc.MultiManipIKSolver([robot.GetManipulator('left_arm_effector'), robot.GetManipulator('right_arm_effector')])\n",
    "print(dualsolver.manips)\n",
    "\n",
    "filter_option = IkFilterOptions.CheckEnvCollisions\n",
    "with env:\n",
    "    ikmodel = databases.inversekinematics.InverseKinematicsModel(robot, iktype=IkParameterization.Type.Transform6D)\n",
    "    if not ikmodel.load():\n",
    "        raveLogInfo(\"Generating IKModel for \" + str(robot))\n",
    "        ikmodel.autogenerate()\n",
    "\n",
    "# left_ik_solver = IK('world', 'gripper_l_base', urdf_string=sim.urdf_str)\n",
    "manip = robot.GetManipulator('left_arm_effector')\n",
    "print(manip.GetIkSolver())\n",
    "# manip.SetIkSolver(left_ik_solver)\n",
    "IkParameterization.Type.\n",
    "\n",
    "solutions = dualsolver.findMultiIKSolution(Tgrasps=[left_gripper_pose, right_gripper_pose],filteroptions=IkFilterOptions.CheckEnvCollisions)"
   ]
  }
 ]
}