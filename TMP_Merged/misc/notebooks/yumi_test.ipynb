{
 "nbformat": 4,
 "nbformat_minor": 2,
 "metadata": {
  "language_info": {
   "name": "python",
   "codemirror_mode": {
    "name": "ipython",
    "version": 2
   },
   "version": "2.7.17-final"
  },
  "orig_nbformat": 2,
  "file_extension": ".py",
  "mimetype": "text/x-python",
  "name": "python",
  "npconvert_exporter": "python",
  "pygments_lexer": "ipython2",
  "version": 2,
  "kernelspec": {
   "name": "python271764bite203b9a2ff4543a4b0e61ceb813c3377",
   "display_name": "Python 2.7.17 64-bit"
  },
  "pycharm": {
   "stem_cell": {
    "cell_type": "raw",
    "source": [],
    "metadata": {
     "collapsed": false
    }
   }
  }
 },
 "cells": [
  {
   "cell_type": "code",
   "execution_count": 9,
   "metadata": {},
   "outputs": [],
   "source": [
    "import sys\n",
    "sys.path.append(\"../../\")\n",
    "\n",
    "from yumipy import *\n",
    "from prpy.planning import ompl, CBiRRTPlanner, chomp\n",
    "from openravepy import *\n",
    "import src.Robots as Robots\n",
    "import Config"
   ]
  },
  {
   "cell_type": "code",
   "execution_count": 4,
   "metadata": {},
   "outputs": [
    {
     "name": "stderr",
     "output_type": "stream",
     "text": "Process _YuMiEthernet-1:\nTraceback (most recent call last):\n  File \"/usr/lib/python2.7/multiprocessing/process.py\", line 267, in _bootstrap\n    self.run()\nProcess _YuMiEthernet-2:\n  File \"build/bdist.linux-x86_64/egg/yumipy/yumi_arm.py\", line 67, in run\nTraceback (most recent call last):\n  File \"/usr/lib/python2.7/multiprocessing/process.py\", line 267, in _bootstrap\n    self._reset_socket()\n    self.run()\n  File \"build/bdist.linux-x86_64/egg/yumipy/yumi_arm.py\", line 98, in _reset_socket\n  File \"build/bdist.linux-x86_64/egg/yumipy/yumi_arm.py\", line 67, in run\n    self._socket.connect((self._ip, self._port))\n  File \"/usr/lib/python2.7/socket.py\", line 228, in meth\n    self._reset_socket()\n    return getattr(self._sock,name)(*args)\n  File \"build/bdist.linux-x86_64/egg/yumipy/yumi_arm.py\", line 98, in _reset_socket\ntimeout: timed out\n    self._socket.connect((self._ip, self._port))\n  File \"/usr/lib/python2.7/socket.py\", line 228, in meth\n    return getattr(self._sock,name)(*args)\ntimeout: timed out\n"
    },
    {
     "ename": "YuMiCommException",
     "evalue": "Request timed out: _REQ_PACKET(req='6 0 0 156 1 0 0 0 #', timeout=5, return_res=True)",
     "output_type": "error",
     "traceback": [
      "\u001b[0;31m\u001b[0m",
      "\u001b[0;31mYuMiCommException\u001b[0mTraceback (most recent call last)",
      "\u001b[0;32m<ipython-input-4-fc4ad3ec7a62>\u001b[0m in \u001b[0;36m<module>\u001b[0;34m()\u001b[0m\n\u001b[0;32m----> 1\u001b[0;31m \u001b[0myumi_robot\u001b[0m \u001b[0;34m=\u001b[0m \u001b[0mYuMiRobot\u001b[0m\u001b[0;34m(\u001b[0m\u001b[0;34m)\u001b[0m\u001b[0;34m\u001b[0m\u001b[0m\n\u001b[0m\u001b[1;32m      2\u001b[0m \u001b[0mvel\u001b[0m \u001b[0;34m=\u001b[0m \u001b[0mYuMiRobot\u001b[0m\u001b[0;34m.\u001b[0m\u001b[0mget_v\u001b[0m\u001b[0;34m(\u001b[0m\u001b[0;36m50\u001b[0m\u001b[0;34m)\u001b[0m\u001b[0;34m\u001b[0m\u001b[0m\n\u001b[1;32m      3\u001b[0m \u001b[0myumi_robot\u001b[0m\u001b[0;34m.\u001b[0m\u001b[0mleft\u001b[0m\u001b[0;34m.\u001b[0m\u001b[0mset_speed\u001b[0m\u001b[0;34m(\u001b[0m\u001b[0mvel\u001b[0m\u001b[0;34m)\u001b[0m\u001b[0;34m\u001b[0m\u001b[0m\n\u001b[1;32m      4\u001b[0m \u001b[0myumi_robot\u001b[0m\u001b[0;34m.\u001b[0m\u001b[0mleft\u001b[0m\u001b[0;34m.\u001b[0m\u001b[0m_motion_timeout\u001b[0m \u001b[0;34m=\u001b[0m \u001b[0;36m1000\u001b[0m\u001b[0;34m\u001b[0m\u001b[0m\n\u001b[1;32m      5\u001b[0m \u001b[0myumi_robot\u001b[0m\u001b[0;34m.\u001b[0m\u001b[0mleft\u001b[0m\u001b[0;34m.\u001b[0m\u001b[0m_comm_timeout\u001b[0m \u001b[0;34m=\u001b[0m \u001b[0;36m1000\u001b[0m\u001b[0;34m\u001b[0m\u001b[0m\n",
      "\u001b[0;32m/usr/local/lib/python2.7/dist-packages/yumipy-0.1.0-py2.7.egg/yumipy/yumi_robot.pyc\u001b[0m in \u001b[0;36m__init__\u001b[0;34m(self, ip, port_l, port_r, tcp, include_left, include_right, debug, log_pose_histories, log_state_histories, arm_type, ros_namespace)\u001b[0m\n\u001b[1;32m     88\u001b[0m             \u001b[0mself\u001b[0m\u001b[0;34m.\u001b[0m\u001b[0m_arms\u001b[0m\u001b[0;34m.\u001b[0m\u001b[0mappend\u001b[0m\u001b[0;34m(\u001b[0m\u001b[0mself\u001b[0m\u001b[0;34m.\u001b[0m\u001b[0mright\u001b[0m\u001b[0;34m)\u001b[0m\u001b[0;34m\u001b[0m\u001b[0m\n\u001b[1;32m     89\u001b[0m \u001b[0;34m\u001b[0m\u001b[0m\n\u001b[0;32m---> 90\u001b[0;31m         \u001b[0mself\u001b[0m\u001b[0;34m.\u001b[0m\u001b[0mset_tool\u001b[0m\u001b[0;34m(\u001b[0m\u001b[0mself\u001b[0m\u001b[0;34m.\u001b[0m\u001b[0mtcp\u001b[0m\u001b[0;34m)\u001b[0m\u001b[0;34m\u001b[0m\u001b[0m\n\u001b[0m\u001b[1;32m     91\u001b[0m         \u001b[0mself\u001b[0m\u001b[0;34m.\u001b[0m\u001b[0mset_z\u001b[0m\u001b[0;34m(\u001b[0m\u001b[0;34m'fine'\u001b[0m\u001b[0;34m)\u001b[0m\u001b[0;34m\u001b[0m\u001b[0m\n\u001b[1;32m     92\u001b[0m \u001b[0;34m\u001b[0m\u001b[0m\n",
      "\u001b[0;32m/usr/local/lib/python2.7/dist-packages/yumipy-0.1.0-py2.7.egg/yumipy/yumi_robot.pyc\u001b[0m in \u001b[0;36mset_tool\u001b[0;34m(self, pose)\u001b[0m\n\u001b[1;32m    216\u001b[0m         '''\n\u001b[1;32m    217\u001b[0m         \u001b[0;32mfor\u001b[0m \u001b[0marm\u001b[0m \u001b[0;32min\u001b[0m \u001b[0mself\u001b[0m\u001b[0;34m.\u001b[0m\u001b[0m_arms\u001b[0m\u001b[0;34m:\u001b[0m\u001b[0;34m\u001b[0m\u001b[0m\n\u001b[0;32m--> 218\u001b[0;31m             \u001b[0marm\u001b[0m\u001b[0;34m.\u001b[0m\u001b[0mset_tool\u001b[0m\u001b[0;34m(\u001b[0m\u001b[0mpose\u001b[0m\u001b[0;34m)\u001b[0m\u001b[0;34m\u001b[0m\u001b[0m\n\u001b[0m\u001b[1;32m    219\u001b[0m \u001b[0;34m\u001b[0m\u001b[0m\n\u001b[1;32m    220\u001b[0m     \u001b[0;32mdef\u001b[0m \u001b[0mreset_home\u001b[0m\u001b[0;34m(\u001b[0m\u001b[0mself\u001b[0m\u001b[0;34m)\u001b[0m\u001b[0;34m:\u001b[0m\u001b[0;34m\u001b[0m\u001b[0m\n",
      "\u001b[0;32m/usr/local/lib/python2.7/dist-packages/yumipy-0.1.0-py2.7.egg/yumipy/yumi_arm.pyc\u001b[0m in \u001b[0;36mset_tool\u001b[0;34m(self, pose, wait_for_res)\u001b[0m\n\u001b[1;32m    671\u001b[0m \u001b[0;34m\u001b[0m\u001b[0m\n\u001b[1;32m    672\u001b[0m         \u001b[0mself\u001b[0m\u001b[0;34m.\u001b[0m\u001b[0m_last_sets\u001b[0m\u001b[0;34m[\u001b[0m\u001b[0;34m'tool'\u001b[0m\u001b[0;34m]\u001b[0m \u001b[0;34m=\u001b[0m \u001b[0mpose\u001b[0m\u001b[0;34m\u001b[0m\u001b[0m\n\u001b[0;32m--> 673\u001b[0;31m         \u001b[0;32mreturn\u001b[0m \u001b[0mself\u001b[0m\u001b[0;34m.\u001b[0m\u001b[0m_request\u001b[0m\u001b[0;34m(\u001b[0m\u001b[0mreq\u001b[0m\u001b[0;34m,\u001b[0m \u001b[0mwait_for_res\u001b[0m\u001b[0;34m)\u001b[0m\u001b[0;34m\u001b[0m\u001b[0m\n\u001b[0m\u001b[1;32m    674\u001b[0m \u001b[0;34m\u001b[0m\u001b[0m\n\u001b[1;32m    675\u001b[0m     \u001b[0;32mdef\u001b[0m \u001b[0mset_speed\u001b[0m\u001b[0;34m(\u001b[0m\u001b[0mself\u001b[0m\u001b[0;34m,\u001b[0m \u001b[0mspeed_data\u001b[0m\u001b[0;34m,\u001b[0m \u001b[0mwait_for_res\u001b[0m\u001b[0;34m=\u001b[0m\u001b[0mTrue\u001b[0m\u001b[0;34m)\u001b[0m\u001b[0;34m:\u001b[0m\u001b[0;34m\u001b[0m\u001b[0m\n",
      "\u001b[0;32m/usr/local/lib/python2.7/dist-packages/yumipy-0.1.0-py2.7.egg/yumipy/yumi_arm.pyc\u001b[0m in \u001b[0;36m_request\u001b[0;34m(self, req, wait_for_res, timeout)\u001b[0m\n\u001b[1;32m    306\u001b[0m                 \u001b[0mres\u001b[0m \u001b[0;34m=\u001b[0m \u001b[0mself\u001b[0m\u001b[0;34m.\u001b[0m\u001b[0m_res_q\u001b[0m\u001b[0;34m.\u001b[0m\u001b[0mget\u001b[0m\u001b[0;34m(\u001b[0m\u001b[0mblock\u001b[0m\u001b[0;34m=\u001b[0m\u001b[0mTrue\u001b[0m\u001b[0;34m,\u001b[0m \u001b[0mtimeout\u001b[0m\u001b[0;34m=\u001b[0m\u001b[0mself\u001b[0m\u001b[0;34m.\u001b[0m\u001b[0m_process_timeout\u001b[0m\u001b[0;34m)\u001b[0m\u001b[0;34m\u001b[0m\u001b[0m\n\u001b[1;32m    307\u001b[0m             \u001b[0;32mexcept\u001b[0m \u001b[0;34m(\u001b[0m\u001b[0mIOError\u001b[0m\u001b[0;34m,\u001b[0m \u001b[0mEmpty\u001b[0m\u001b[0;34m)\u001b[0m\u001b[0;34m:\u001b[0m\u001b[0;34m\u001b[0m\u001b[0m\n\u001b[0;32m--> 308\u001b[0;31m                 \u001b[0;32mraise\u001b[0m \u001b[0mYuMiCommException\u001b[0m\u001b[0;34m(\u001b[0m\u001b[0;34m\"Request timed out: {0}\"\u001b[0m\u001b[0;34m.\u001b[0m\u001b[0mformat\u001b[0m\u001b[0;34m(\u001b[0m\u001b[0mreq_packet\u001b[0m\u001b[0;34m)\u001b[0m\u001b[0;34m)\u001b[0m\u001b[0;34m\u001b[0m\u001b[0m\n\u001b[0m\u001b[1;32m    309\u001b[0m \u001b[0;34m\u001b[0m\u001b[0m\n\u001b[1;32m    310\u001b[0m             \u001b[0mlogging\u001b[0m\u001b[0;34m.\u001b[0m\u001b[0mdebug\u001b[0m\u001b[0;34m(\u001b[0m\u001b[0;34m'res: {0}'\u001b[0m\u001b[0;34m.\u001b[0m\u001b[0mformat\u001b[0m\u001b[0;34m(\u001b[0m\u001b[0mres\u001b[0m\u001b[0;34m)\u001b[0m\u001b[0;34m)\u001b[0m\u001b[0;34m\u001b[0m\u001b[0m\n",
      "\u001b[0;31mYuMiCommException\u001b[0m: Request timed out: _REQ_PACKET(req='6 0 0 156 1 0 0 0 #', timeout=5, return_res=True)"
     ]
    }
   ],
   "source": [
    "yumi_robot = YuMiRobot()\n",
    "vel = YuMiRobot.get_v(50)\n",
    "yumi_robot.left.set_speed(vel)\n",
    "yumi_robot.left._motion_timeout = 1000\n",
    "yumi_robot.left._comm_timeout = 1000\n",
    "yumi_robot.left._process_timeout = 1000\n",
    "vel = YuMiRobot.get_v(50)\n",
    "yumi_robot.right.set_speed(vel)\n",
    "yumi_robot.right._motion_timeout = 1000\n",
    "yumi_robot.right._comm_timeout = 1000\n",
    "yumi_robot.right._process_timeout = 1000"
   ]
  },
  {
   "cell_type": "code",
   "execution_count": null,
   "metadata": {},
   "outputs": [],
   "source": [
    "def execute_gripper_close(yumi_robot_hand,grip_force=10):\n",
    "    return yumi_robot_hand.close_gripper(force=grip_force, width=0., no_wait=False, wait_for_res=True)\n",
    "\n",
    "def execute_gripper_open(yumi_robot_hand):\n",
    "    return  yumi_robot_hand.open_gripper(no_wait=False, wait_for_res=True)\n",
    "\n",
    "def go_to_state(yumi_robot_hand,state):\n",
    "    return  yumi_robot_hand.goto_state(state, wait_for_res=True)\n",
    "    # print(res)\n",
    "\n",
    "def execute_manip(yumi_robot_hand,trajectory):\n",
    "    res = ''\n",
    "    for i in trajectory.points:\n",
    "        reordered_joints_in_radians = np.asarray(i.positions)[[0,1,3,4,5,6,2]] # TODO fix in openrave\n",
    "        reordered_joints_in_degrees = np.degrees(reordered_joints_in_radians)\n",
    "        state = YuMiState(list(reordered_joints_in_degrees))\n",
    "        res = go_to_state(yumi_robot_hand,state)\n",
    "    return res"
   ]
  },
  {
   "cell_type": "code",
   "execution_count": null,
   "metadata": {},
   "outputs": [],
   "source": [
    "def planToConfiguration(robot, goal_config):\n",
    "    '''\n",
    "    find motion plan to given IK\n",
    "    goal_config: IK to move arm to\n",
    "    '''\n",
    "\n",
    "    # planner = ompl.OMPLPlanner('RRTConnect')\n",
    "    planner = CBiRRTPlanner(timelimit=30.0)\n",
    "    simplifier = ompl.OMPLSimplifier()\n",
    "    # Motion Planning to reach joint state value(s)\n",
    "    # Get trajectory from planner based on type of goal config passed\n",
    "    # ( config a.k.a ik solutions a.k.a joint states )\n",
    "    try:\n",
    "        # if len(goal_configs) == 1:\n",
    "            # If goal is a single IK solution, then call PlanToConfiguration\n",
    "        trajectory_object = planner.PlanToConfiguration(robot, goal_config, smoothingitrs=30)\n",
    "        # else:\n",
    "            # If goal is a list of IK solutions, then call PlanToConfigurations\n",
    "        # trajectory_object = planner.PlanToConfigurations(robot, goal_configs)\n",
    "        if hasattr(planner, 'default_ompl_args'):\n",
    "            print(\"simplifying..\")\n",
    "            # If planner is from OMPL, then simplify the trajectory\n",
    "            trajectory_object = simplifier.ShortcutPath(robot,trajectory_object)\n",
    "    except Exception as e:#PlanningError:\n",
    "        print(\"Exception \", e)\n",
    "        # print(__file__.split('/')[-1],\": Could not find motion plan\")\n",
    "        return None\n",
    "    print(\"retiming..\")\n",
    "    # Retime and serialize the trajectory\n",
    "    _ = planningutils.RetimeTrajectory(trajectory_object)\n",
    "    trajectory_object = trajectory_object.serialize()\n",
    "    return trajectory_object"
   ]
  },
  {
   "cell_type": "code",
   "execution_count": 10,
   "metadata": {},
   "outputs": [],
   "source": [
    "env = Environment()\n",
    "env.Load(Config.PROJ_DIR +\"test_domains/Keva/keva_double_station_right.dae\")\n",
    "yumi_or_model = Robots.YumiRobot.YumiRobot(env)\n",
    "yumi_or_robot = env.GetRobot(\"yumi\")"
   ]
  },
  {
   "cell_type": "code",
   "execution_count": null,
   "outputs": [],
   "source": [],
   "metadata": {
    "collapsed": false,
    "pycharm": {
     "name": "#%%\n"
    }
   }
  },
  {
   "cell_type": "code",
   "execution_count": null,
   "outputs": [],
   "source": [
    "pose = ###\n",
    "ik_sols = yumi_or_model.get_ik_solutions(pose,True)\n",
    "go_to_state(yumi_robot.right,ik_sols[0])"
   ],
   "metadata": {
    "collapsed": false,
    "pycharm": {
     "name": "#%%\n"
    }
   }
  },
  {
   "cell_type": "code",
   "execution_count": null,
   "outputs": [],
   "source": [
    "right_state = YuMiState([0.0, -130.0, 30.0, 0.0, 40., 0.0, -135.0])\n",
    "ret = go_to_state(yumi_robot.right,right_state)"
   ],
   "metadata": {
    "collapsed": false,
    "pycharm": {
     "name": "#%%\n"
    }
   }
  },
  {
   "cell_type": "code",
   "execution_count": null,
   "outputs": [],
   "source": [
    "\n",
    "\n",
    "pose_to_go = ## add pose here\n",
    "\n",
    "\n",
    "ik_sols = yumi_or_model.get_ik_solutions(pose_to_go,True)\n",
    "trajectory = planToConfiguration(yumi_or_robot,ik_sols[0])\n",
    "execute_manip(yumi_robot.right,trajectory)"
   ],
   "metadata": {
    "collapsed": false,
    "pycharm": {
     "name": "#%%\n"
    }
   }
  },
  {
   "cell_type": "code",
   "execution_count": null,
   "metadata": {},
   "outputs": [],
   "source": [
    "\n",
    "\n",
    "pose_to_go = ## add pose here\n",
    "\n",
    "\n",
    "ik_sols = yumi_or_model.get_ik_solutions(pose_to_go,True)\n",
    "trajectory = planToConfiguration(yumi_or_robot,ik_sols[0])\n",
    "execute_manip(yumi_robot.right,trajectory)"
   ]
  },
  {
   "cell_type": "code",
   "execution_count": null,
   "metadata": {},
   "outputs": [],
   "source": [
    "pose = ###\n",
    "ik_sols = yumi_or_model.get_ik_solutions(pose,True)\n",
    "go_to_state(yumi_robot.right,ik_sols[0])"
   ]
  },
  {
   "cell_type": "code",
   "execution_count": null,
   "metadata": {},
   "outputs": [],
   "source": [
    "right_state = YuMiState([0.0, -130.0, 30.0, 0.0, 40., 0.0, -135.0])\n",
    "ret = go_to_state(yumi_robot.right,right_state)"
   ]
  },
  {
   "cell_type": "code",
   "execution_count": null,
   "metadata": {},
   "outputs": [],
   "source": [
    "\n",
    "\n",
    "pose_to_go = ## add pose here\n",
    "\n",
    "\n",
    "ik_sols = yumi_or_model.get_ik_solutions(pose_to_go,True)\n",
    "trajectory = planToConfiguration(yumi_or_robot,ik_sols[0])\n",
    "execute_manip(yumi_robot.right,trajectory)"
   ]
  }
 ]
}