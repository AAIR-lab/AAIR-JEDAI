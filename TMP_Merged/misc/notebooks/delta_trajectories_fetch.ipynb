{
 "cells": [
  {
   "cell_type": "code",
   "execution_count": null,
   "metadata": {},
   "outputs": [],
   "source": [
    "# Setup before running notebook:\n",
    "# In Config.py\n",
    "#    IK_SOLVER == 'trac_ik' if you want to use trac_ik\n",
    "# In DomainConfig.py:\n",
    "#    ROBOT_NAME = 'fetch'\n",
    "#    OPENRAVE_ENV_XML = 'path to any env dae file used for fetch'"
   ]
  },
  {
   "cell_type": "code",
   "execution_count": null,
   "metadata": {},
   "outputs": [],
   "source": [
    "import os, sys\n",
    "sys.path.append('../../')"
   ]
  },
  {
   "cell_type": "code",
   "execution_count": null,
   "metadata": {},
   "outputs": [],
   "source": [
    "import Config\n",
    "from src.Simulators.OpenRaveSimulator import *\n",
    "from openravepy import *\n",
    "from tf.transformations import *\n",
    "from src.OpenraveUtils import *\n",
    "from prpy.planning import ompl, CBiRRTPlanner, mk"
   ]
  },
  {
   "cell_type": "code",
   "execution_count": null,
   "metadata": {},
   "outputs": [],
   "source": [
    "# Load environment\n",
    "sim = OpenRaveSimulator(Config.OPENRAVE_ENV_XML)\n",
    "env = sim.env\n",
    "robot = env.GetRobot(Config.ROBOT_NAME)"
   ]
  },
  {
   "cell_type": "code",
   "execution_count": null,
   "metadata": {},
   "outputs": [],
   "source": [
    "# Go to pose\n",
    "quat = [1,0,0,0]\n",
    "trans = [0.2,0.4,0.7]\n",
    "# trans = [0.,0.,0.]\n",
    "goal_transform_values = matrixFromPose(quat+trans)"
   ]
  },
  {
   "cell_type": "code",
   "execution_count": null,
   "metadata": {},
   "outputs": [],
   "source": [
    "# Fetch works with  both ikfast and trac_ik\n",
    "# iksolutions = sim.get_trac_ik_solutions(robot, goal_transform_values, check_collisions=True)\n",
    "iksolutions = sim.get_ik_solutions(robot, goal_transform_values, check_collisions=False)\n",
    "robot.SetActiveDOFValues(iksolutions[0])"
   ]
  },
  {
   "cell_type": "code",
   "execution_count": null,
   "metadata": {},
   "outputs": [],
   "source": [
    "# Delta trajectories with CBiRRT \n",
    "planner = CBiRRTPlanner(timelimit=10.)\n",
    "direction = [0.01,1.,0.]\n",
    "distance = 1\n",
    "trajectory_object = planner.PlanToEndEffectorOffset(robot, direction, distance,smoothingitrs=10)\n",
    "res = planningutils.RetimeTrajectory(trajectory_object)\n",
    "trajectory_object = trajectory_object.serialize()"
   ]
  },
  {
   "cell_type": "code",
   "execution_count": null,
   "metadata": {},
   "outputs": [],
   "source": [
    "# Execute Trajectory\n",
    "traj = RaveCreateTrajectory(env, '')\n",
    "Trajectory.deserialize(traj, trajectory_object)\n",
    "with robot:\n",
    "    robot.GetController().SetPath(traj)\n",
    "robot.WaitForController(0)"
   ]
  },
  {
   "cell_type": "code",
   "execution_count": null,
   "metadata": {},
   "outputs": [],
   "source": []
  }
 ],
 "metadata": {
  "kernelspec": {
   "display_name": "Python 2.7.12 64-bit",
   "language": "python",
   "name": "python271264bitf79aa05641214c0a891091e85d366376"
  },
  "language_info": {
   "codemirror_mode": {
    "name": "ipython",
    "version": 2
   },
   "file_extension": ".py",
   "mimetype": "text/x-python",
   "name": "python",
   "nbconvert_exporter": "python",
   "pygments_lexer": "ipython2",
   "version": "2.7.12-final"
  }
 },
 "nbformat": 4,
 "nbformat_minor": 2
}