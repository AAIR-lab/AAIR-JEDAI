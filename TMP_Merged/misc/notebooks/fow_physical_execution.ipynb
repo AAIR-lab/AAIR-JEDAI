{
 "nbformat": 4,
 "nbformat_minor": 2,
 "metadata": {
  "language_info": {
   "name": "python",
   "codemirror_mode": {
    "name": "ipython",
    "version": 2
   },
   "version": "2.7.12-final"
  },
  "orig_nbformat": 2,
  "file_extension": ".py",
  "mimetype": "text/x-python",
  "name": "python",
  "npconvert_exporter": "python",
  "pygments_lexer": "ipython2",
  "version": 2,
  "kernelspec": {
   "name": "python271264bitce0b10f522df435fbf81fa4309a08b1f",
   "display_name": "Python 2.7.12 64-bit"
  }
 },
 "cells": [
  {
   "cell_type": "code",
   "execution_count": null,
   "metadata": {},
   "outputs": [],
   "source": [
    "import sys\n",
    "sys.path.append('../../')\n",
    "import Config\n",
    "import pickle\n",
    "import rospy\n",
    "rospy.init_node('phys_exec')"
   ]
  },
  {
   "cell_type": "code",
   "execution_count": null,
   "metadata": {},
   "outputs": [],
   "source": [
    "# detect_plank_location = rospy.ServiceProxy('detect_plank_location', DetectPlank)\n",
    "num_joints = 7\n",
    "with open(Config.DOMAIN_DIR +'ros_traj.p', 'r') as f:\n",
    "    trajectories = pickle.load(f)\n",
    "    f.close()"
   ]
  },
  {
   "cell_type": "markdown",
   "execution_count": null,
   "metadata": {},
   "outputs": [],
   "source": [
    "## YUMI\n"
   ]
  },
  {
   "cell_type": "code",
   "execution_count": null,
   "metadata": {},
   "outputs": [],
   "source": [
    "from yumipy import *\n",
    "import time\n",
    "import numpy as np\n",
    "from plank_location_detection.srv import DetectPlank\n",
    "import rospy\n",
    "import importlib\n",
    "from src.DataStructures.RefinedPolicy import RefinedPolicy\n",
    "from src.DataStructures.RefinedPolicyNode import RefinedPolicyNode\n",
    "from src.DataStructures.RefinedPolicyEdge import RefinedPolicyEdge"
   ]
  },
  {
   "cell_type": "code",
   "execution_count": null,
   "metadata": {},
   "outputs": [],
   "source": [
    "def execute_gripper_close(yumi_robot,grip_force=10):\n",
    "    return yumi_robot.left.close_gripper(force=grip_force, width=0., no_wait=False, wait_for_res=True)\n",
    "\n",
    "def execute_gripper_open(yumi_robot):\n",
    "    return  yumi_robot.left.open_gripper(no_wait=False, wait_for_res=True)\n",
    "\n",
    "def go_to_state(yumi_robot,state):\n",
    "    return  yumi_robot.left.goto_state(state, wait_for_res=True)\n",
    "    # print(res)\n",
    "\n",
    "def execute_manip(yumi_robot,trajectory):\n",
    "    res = ''\n",
    "    for i in trajectory.points:\n",
    "        reordered_joints_in_radians = np.asarray(i.positions)[[0,1,3,4,5,6,2]] # TODO fix in openrave\n",
    "        reordered_joints_in_degrees = np.degrees(reordered_joints_in_radians)\n",
    "        state = YuMiState(list(reordered_joints_in_degrees))\n",
    "        res = go_to_state(yumi_robot,state)\n",
    "    return res\n"
   ]
  },
  {
   "cell_type": "code",
   "execution_count": null,
   "metadata": {},
   "outputs": [],
   "source": [
    "yumi_robot = YuMiRobot()\n",
    "vel = YuMiRobot.get_v(50)\n",
    "yumi_robot.left.set_speed(vel)\n",
    "yumi_robot.left._motion_timeout = 100\n",
    "yumi_robot.left._comm_timeout = 100\n",
    "yumi_robot.left._process_timeout = 100"
   ]
  },
  {
   "cell_type": "code",
   "execution_count": null,
   "metadata": {},
   "outputs": [],
   "source": [
    "# Set Yumi to init State:\n",
    "state = YuMiState([0.0, -129.99, 30.01, 0.0, 40.05, -0.01, 134.99])\n",
    "ret = go_to_state(yumi_robot,state)"
   ]
  },
  {
   "cell_type": "markdown",
   "execution_count": null,
   "metadata": {},
   "outputs": [],
   "source": [
    "## FETCH"
   ]
  },
  {
   "cell_type": "code",
   "execution_count": null,
   "metadata": {},
   "outputs": [],
   "source": [
    "sys.path.append(Config.MISC_DIR+\"real_world_exec/\")\n",
    "from fetch.fetch_control import Gripper, Head\n",
    "from control_msgs.msg import FollowJointTrajectoryGoal, FollowJointTrajectoryAction\n",
    "import rospy\n",
    "import actionlib\n",
    "import rospy\n",
    "from openravepy import *"
   ]
  },
  {
   "cell_type": "code",
   "execution_count": null,
   "metadata": {},
   "outputs": [],
   "source": [
    "gripper = Gripper()"
   ]
  },
  {
   "cell_type": "code",
   "execution_count": null,
   "metadata": {},
   "outputs": [],
   "source": [
    "def execute_manip_traj_on_ros(ros_manip_traj):\n",
    "    client = actionlib.SimpleActionClient('/arm_with_torso_controller/follow_joint_trajectory',\n",
    "                                          FollowJointTrajectoryAction)\n",
    "    client.wait_for_server()\n",
    "    id_gen = actionlib.GoalIDGenerator()\n",
    "    jtg = FollowJointTrajectoryGoal()\n",
    "    jtg.trajectory = ros_manip_traj\n",
    "    print(\"sending goal..\")\n",
    "    client.send_goal(jtg)\n",
    "    client.wait_for_result()\n",
    "    print(\"done\")   "
   ]
  },
  {
   "cell_type": "code",
   "execution_count": null,
   "metadata": {},
   "outputs": [],
   "source": [
    "def physical_traj_exec(t_type, t_val, robot):\n",
    "    global gripper\n",
    "    if robot == 'yumi':\n",
    "        return\n",
    "        if t_type == 'GripperOpenTrajectory':\n",
    "            ret = execute_gripper_open(yumi_ryumi_robotobot)\n",
    "        elif t_type == 'GripperCloseTrajectory':\n",
    "            ret = execute_gripper_close()\n",
    "        elif t_type == 'ManipTrajectory':\n",
    "            ret = execute_manip(yumi_robot,t_val)\n",
    "        elif t_type == 'HandChange':\n",
    "            ret = execute_hand_change() # TODO: implement this\n",
    "    else:\n",
    "        if t_type == 'GripperOpenTrajectory':\n",
    "            gripper.open()\n",
    "        elif t_type == 'GripperCloseTrajectory':\n",
    "            gripper.close()\n",
    "        elif t_type == 'ManipTrajectory':\n",
    "            execute_manip_traj_on_ros(t_val)"
   ]
  },
  {
   "cell_type": "markdown",
   "execution_count": null,
   "metadata": {},
   "outputs": [],
   "source": [
    "## Run trajectories"
   ]
  },
  {
   "cell_type": "code",
   "execution_count": null,
   "metadata": {},
   "outputs": [],
   "source": [
    "def run_trajectory(policy_tree):\n",
    "    i = 0\n",
    "    # This function executes the trajectory on openrave and also creates ros trajectories\n",
    "    root = policy_tree.get_root()\n",
    "    q = [root]\n",
    "    while len(q) > 0:\n",
    "        node = q.pop()\n",
    "        children = node.get_children()\n",
    "        if len(children) > 0:\n",
    "            selected_child = children[0]\n",
    "            edge = policy_tree.get_edge(node, selected_child)\n",
    "            if edge.has_mp:\n",
    "                ll_plan = edge.ll_plan\n",
    "                exec_sequence = edge.exec_seq\n",
    "                robot_name = edge.generated_values['robot']\n",
    "                print(robot_name)\n",
    "                for arg in exec_sequence:\n",
    "                    # Execute physical Trajectory here\n",
    "                    wait = raw_input(\"Execute Traj {} {} for {} (y/n)\".format(str(i), str(ll_plan[arg]['type']), robot_name))\n",
    "                    if wait == 'n':\n",
    "                        break\n",
    "                    print(\"Executing Traj {} - {}\".format(str(i), str(ll_plan[arg]['type'])))\n",
    "                    val = physical_traj_exec(ll_plan[arg]['type'],ll_plan[arg]['value'], robot_name)\n",
    "                    i+=1\n",
    "            q.append(selected_child)\n",
    "        else:\n",
    "            break"
   ]
  },
  {
   "cell_type": "code",
   "execution_count": null,
   "metadata": {},
   "outputs": [],
   "source": [
    "run_trajectory(trajectories)"
   ]
  },
  {
   "cell_type": "code",
   "execution_count": null,
   "metadata": {},
   "outputs": [],
   "source": []
  }
 ]
}