{
 "cells": [
  {
   "cell_type": "code",
   "execution_count": null,
   "metadata": {},
   "outputs": [],
   "source": [
    "# # Pi structure modification\n",
    "# ENV_PATH = 'keva_double_station_new_table.dae'\n",
    "# # ENV_PATH = 'keva_tower_24_structure_new_table.dae'\n",
    "# # ENV_PATH = 'keva_triple_pi_structure_new_table.dae'\n",
    "\n",
    "# import env_build_helper\n",
    "# from openravepy import *\n",
    "# import numpy as npa\n",
    "\n",
    "# env = env_build_helper.load_env(ENV_PATH)\n",
    "# all_planks = env_build_helper.get_station_planks(env)\n",
    "# plank_left_tx = env.GetKinBody('left_station_3').GetTransform()\n",
    "# plank_right_tx = env.GetKinBody('right_station_3').GetTransform()\n",
    "# # basic_pi_planks = all_planks[:2]\n",
    "# # # print(basic_pi_planks) # Should be plank 1,2 and 3 "
   ]
  },
  {
   "cell_type": "code",
   "execution_count": null,
   "metadata": {},
   "outputs": [],
   "source": [
    "# for i in all_planks:\n",
    "#     name = i.GetName()\n",
    "#     tx = i.GetTransform()\n",
    "#     env.RemoveKinBody(i)\n",
    "# #     # p = env_build_helper.create_plank(env,name,tx)"
   ]
  },
  {
   "cell_type": "code",
   "execution_count": null,
   "metadata": {},
   "outputs": [],
   "source": [
    "# env_build_helper.create_station(env,plank_left_tx,'left')\n",
    "# # env_build_helper.create_station(env,plank_right_tx,'right')"
   ]
  },
  {
   "cell_type": "code",
   "execution_count": null,
   "metadata": {},
   "outputs": [],
   "source": [
    "# env.CheckCollision(env.GetKinBody('left_station_base'), env.GetKinBody('left_station_l1_right'))"
   ]
  },
  {
   "cell_type": "code",
   "execution_count": null,
   "metadata": {},
   "outputs": [],
   "source": [
    "tx = plank_left_tx\n",
    "rp = matrixFromPose([ 0.5, -0.5, -0.5,  0.5, -0.05884+0.003875,0.,1.5*(2*0.003875)+0.01162])\n",
    "tmp = np.matmul(tx,rp)\n",
    "tmp[2,3]+=0.0001\n",
    "l = env_build_helper.create_plank(env,'lol',tmp)\n",
    "# l.SetTransform(tmp)\n",
    "# env.CheckCollision(env.GetKinBody('left_station_l1_right'), env.GetKinBody('lol'))"
   ]
  },
  {
   "cell_type": "code",
   "execution_count": null,
   "metadata": {},
   "outputs": [],
   "source": [
    "###########################################################################"
   ]
  },
  {
   "cell_type": "code",
   "execution_count": null,
   "metadata": {},
   "outputs": [],
   "source": [
    "# Pi structure modification\n",
    "ENV_PATH = 'NEW/keva_double_station_final.dae'\n",
    "# ENV_PATH = 'keva_tower_24_structure_new_table.dae'\n",
    "# ENV_PATH = 'keva_triple_pi_structure_new_table.dae'\n",
    "\n",
    "import env_build_helper\n",
    "from openravepy import *\n",
    "import numpy as npa\n",
    "\n",
    "env = env_build_helper.load_env(ENV_PATH)\n",
    "all_planks = env_build_helper.get_station_planks(env)\n",
    "# plank_left_tx = env.GetKinBody('left_station_3').GetTransform()\n",
    "# plank_right_tx = env.GetKinBody('right_station_3').GetTransform()\n",
    "# basic_pi_planks = all_planks[:2]\n",
    "# print(basic_pi_planks) # Should be plank 1,2 and 3 "
   ]
  },
  {
   "cell_type": "code",
   "execution_count": null,
   "metadata": {},
   "outputs": [],
   "source": [
    "for i in all_planks:\n",
    "    tx = i.GetTransform()\n",
    "    tx[1,3]-=0.01\n",
    "    i.SetTransform(tx)"
   ]
  },
  {
   "cell_type": "code",
   "execution_count": null,
   "metadata": {},
   "outputs": [],
   "source": [
    "env.Load('NEW/table6.dae')"
   ]
  },
  {
   "cell_type": "code",
   "execution_count": null,
   "metadata": {},
   "outputs": [],
   "source": [
    "import numpy as np"
   ]
  },
  {
   "cell_type": "code",
   "execution_count": null,
   "metadata": {},
   "outputs": [],
   "source": [
    "# i.SetName('table6')\n",
    "i = env.GetKinBody('table6')\n",
    "tx = env.GetKinBody('yumi_table_right').GetTransform()\n",
    "r = np.eye(4)\n",
    "r[:3,:3] = rotationMatrixFromAxisAngle([0,np.pi/2,0])\n",
    "tx = np.matmul(tx,r)\n",
    "tx[0,3]-=0.35\n",
    "tx[2,3]+=0.555\n",
    "i.SetTransform(tx)\n",
    "i.SetName('back_right')"
   ]
  },
  {
   "cell_type": "code",
   "execution_count": null,
   "metadata": {},
   "outputs": [],
   "source": [
    "shift_table_height(env,\"yumi_table\",-0.02)"
   ]
  },
  {
   "cell_type": "code",
   "execution_count": null,
   "metadata": {},
   "outputs": [],
   "source": [
    "env.Save(ENV_PATH)"
   ]
  },
  {
   "cell_type": "code",
   "execution_count": null,
   "metadata": {},
   "outputs": [],
   "source": []
  }
 ],
 "metadata": {
  "kernelspec": {
   "display_name": "Python 2.7.17 64-bit",
   "language": "python",
   "name": "python271764bit9509cbb3a60d4cf4bd414e06a3fa0d70"
  },
  "language_info": {
   "codemirror_mode": {
    "name": "ipython",
    "version": 2
   },
   "file_extension": ".py",
   "mimetype": "text/x-python",
   "name": "python",
   "nbconvert_exporter": "python",
   "pygments_lexer": "ipython2",
   "version": "2.7.17-final"
  }
 },
 "nbformat": 4,
 "nbformat_minor": 2
}