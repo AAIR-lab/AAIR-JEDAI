{
 "cells": [
  {
   "cell_type": "code",
   "execution_count": 1,
   "metadata": {},
   "outputs": [],
   "source": [
    "# # Pi structure modification\n",
    "# # ENV_PATH = 'keva_double_station_new_table.dae'\n",
    "# ENV_PATH = 'keva_tower_24_structure_new_table.dae'\n",
    "# # ENV_PATH = 'keva_triple_pi_structure_new_table.dae'\n",
    "\n",
    "# import env_build_helper\n",
    "# from openravepy import *\n",
    "# import numpy as np\n",
    "\n",
    "# env = env_build_helper.load_env(ENV_PATH)\n",
    "# all_planks = env_build_helper.get_structure_planks(env)\n",
    "\n",
    "# basic_pi_planks = all_planks[:2]\n",
    "# print(basic_pi_planks) # Should be plank 1,2 and 3 "
   ]
  },
  {
   "cell_type": "code",
   "execution_count": 2,
   "metadata": {},
   "outputs": [],
   "source": [
    "# # Remove extra planks and bodies (if any)\n",
    "# for i in env.GetBodies():\n",
    "#     if i not in basic_pi_planks:\n",
    "#         env.RemoveKinBody(i)\n",
    "\n",
    "# basic_pi_planks = env_build_helper.get_structure_planks(env)\n",
    "# for i in basic_pi_planks:\n",
    "#     name = i.GetName()\n",
    "#     tx = i.GetTransform()\n",
    "#     env.RemoveKinBody(i)\n",
    "#     p = env_build_helper.create_plank(env,name,tx)\n",
    "\n"
   ]
  },
  {
   "cell_type": "code",
   "execution_count": 3,
   "metadata": {},
   "outputs": [],
   "source": [
    "# plank1, tx1 = env_build_helper.get_plank_body_from_num(env,1)\n",
    "# plank2, tx2 = env_build_helper.get_plank_body_from_num(env,2)\n",
    "# # plank3, tx3 = env_build_helper.get_plank_body_from_num(env,3)\n",
    "# fix = np.eye(4)\n",
    "# fix[:3,3] = -tx1[:3,3]\n",
    "# print(tx1)\n",
    "# plank1.SetTransform(np.matmul(fix,tx1))\n",
    "# plank2.SetTransform(np.matmul(fix,tx2))\n",
    "# # plank3.SetTransform(np.matmul(fix,tx3))\n",
    "# ################################################################################"
   ]
  },
  {
   "cell_type": "code",
   "execution_count": 4,
   "metadata": {},
   "outputs": [],
   "source": [
    "#Repeating structures:\n",
    "\n",
    "ENV_PATH = 'NEW/keva_apartments.dae'\n",
    "import env_build_helper\n",
    "from openravepy import *\n",
    "import numpy as np\n",
    "\n",
    "env = env_build_helper.load_env(ENV_PATH)\n",
    "basic_pi_planks = env_build_helper.get_structure_planks(env)"
   ]
  },
  {
   "cell_type": "code",
   "execution_count": 5,
   "metadata": {},
   "outputs": [],
   "source": [
    "# plank1, tx1 = env_build_helper.get_plank_body_from_num(env,1)\n",
    "# plank2, tx2 = env_build_helper.get_plank_body_from_num(env,2)\n",
    "# env_build_helper.create_plank(env,'plank3',tx2)\n",
    "# tx3 = (tx1+tx2)/2.\n",
    "# plank2.SetTransform(tx3)\n",
    "# print(tx1)\n",
    "# env.GetKinBody('plank1').GetTransform()"
   ]
  },
  {
   "cell_type": "code",
   "execution_count": 7,
   "metadata": {},
   "outputs": [
    {
     "ename": "openrave_exception",
     "evalue": "openrave (Failed): env=1, body plank4 does not have unique name",
     "output_type": "error",
     "traceback": [
      "\u001b[0;31m\u001b[0m",
      "\u001b[0;31mopenrave_exception\u001b[0mTraceback (most recent call last)",
      "\u001b[0;32m<ipython-input-7-11b1ec3d2947>\u001b[0m in \u001b[0;36m<module>\u001b[0;34m()\u001b[0m\n\u001b[1;32m     14\u001b[0m         \u001b[0mname\u001b[0m \u001b[0;34m=\u001b[0m \u001b[0mj\u001b[0m\u001b[0;34m.\u001b[0m\u001b[0mGetName\u001b[0m\u001b[0;34m(\u001b[0m\u001b[0;34m)\u001b[0m\u001b[0;34m\u001b[0m\u001b[0m\n\u001b[1;32m     15\u001b[0m         \u001b[0mname\u001b[0m \u001b[0;34m=\u001b[0m \u001b[0mname\u001b[0m\u001b[0;34m[\u001b[0m\u001b[0;34m:\u001b[0m\u001b[0;34m-\u001b[0m\u001b[0;36m1\u001b[0m\u001b[0;34m]\u001b[0m\u001b[0;34m+\u001b[0m\u001b[0mstr\u001b[0m\u001b[0;34m(\u001b[0m\u001b[0mint\u001b[0m\u001b[0;34m(\u001b[0m\u001b[0mname\u001b[0m\u001b[0;34m[\u001b[0m\u001b[0;34m-\u001b[0m\u001b[0;36m1\u001b[0m\u001b[0;34m]\u001b[0m\u001b[0;34m)\u001b[0m\u001b[0;34m+\u001b[0m\u001b[0;36m3\u001b[0m\u001b[0;34m*\u001b[0m\u001b[0mi\u001b[0m\u001b[0;34m)\u001b[0m\u001b[0;34m\u001b[0m\u001b[0m\n\u001b[0;32m---> 16\u001b[0;31m         \u001b[0mp\u001b[0m \u001b[0;34m=\u001b[0m \u001b[0menv_build_helper\u001b[0m\u001b[0;34m.\u001b[0m\u001b[0mcreate_plank\u001b[0m\u001b[0;34m(\u001b[0m\u001b[0menv\u001b[0m\u001b[0;34m,\u001b[0m\u001b[0mname\u001b[0m\u001b[0;34m,\u001b[0m\u001b[0mtx\u001b[0m\u001b[0;34m)\u001b[0m\u001b[0;34m\u001b[0m\u001b[0m\n\u001b[0m\u001b[1;32m     17\u001b[0m         \u001b[0;32mprint\u001b[0m\u001b[0;34m(\u001b[0m\u001b[0mname\u001b[0m\u001b[0;34m)\u001b[0m\u001b[0;34m\u001b[0m\u001b[0m\n\u001b[1;32m     18\u001b[0m         \u001b[0mnew_planks\u001b[0m\u001b[0;34m.\u001b[0m\u001b[0mappend\u001b[0m\u001b[0;34m(\u001b[0m\u001b[0mp\u001b[0m\u001b[0;34m)\u001b[0m\u001b[0;34m\u001b[0m\u001b[0m\n",
      "\u001b[0;32m/home/deepak/TMP_Merged/test_domains/KevaLooped/Environments/env_build_helper.pyc\u001b[0m in \u001b[0;36mcreate_plank\u001b[0;34m(env, plankname, plank_transform)\u001b[0m\n\u001b[1;32m     11\u001b[0m         \u001b[0mbody\u001b[0m\u001b[0;34m.\u001b[0m\u001b[0mSetName\u001b[0m\u001b[0;34m(\u001b[0m\u001b[0mplankname\u001b[0m\u001b[0;34m)\u001b[0m\u001b[0;34m\u001b[0m\u001b[0m\n\u001b[1;32m     12\u001b[0m         \u001b[0mbody\u001b[0m\u001b[0;34m.\u001b[0m\u001b[0mInitFromBoxes\u001b[0m\u001b[0;34m(\u001b[0m\u001b[0mnumpy\u001b[0m\u001b[0;34m.\u001b[0m\u001b[0marray\u001b[0m\u001b[0;34m(\u001b[0m\u001b[0;34m[\u001b[0m\u001b[0;34m[\u001b[0m\u001b[0;36m0.\u001b[0m\u001b[0;34m,\u001b[0m\u001b[0;36m0.\u001b[0m\u001b[0;34m,\u001b[0m\u001b[0;36m0.\u001b[0m\u001b[0;34m,\u001b[0m\u001b[0mHALF_PLANK_LENGTH\u001b[0m\u001b[0;34m,\u001b[0m\u001b[0mHALF_PLANK_BREADTH\u001b[0m\u001b[0;34m,\u001b[0m\u001b[0mHALF_PLANK_HEIGHT\u001b[0m\u001b[0;34m]\u001b[0m\u001b[0;34m]\u001b[0m\u001b[0;34m)\u001b[0m\u001b[0;34m,\u001b[0m\u001b[0mTrue\u001b[0m\u001b[0;34m)\u001b[0m\u001b[0;34m\u001b[0m\u001b[0m\n\u001b[0;32m---> 13\u001b[0;31m         \u001b[0menv\u001b[0m\u001b[0;34m.\u001b[0m\u001b[0mAddKinBody\u001b[0m\u001b[0;34m(\u001b[0m\u001b[0mbody\u001b[0m\u001b[0;34m)\u001b[0m\u001b[0;34m\u001b[0m\u001b[0m\n\u001b[0m\u001b[1;32m     14\u001b[0m         \u001b[0mbody\u001b[0m\u001b[0;34m.\u001b[0m\u001b[0mSetTransform\u001b[0m\u001b[0;34m(\u001b[0m\u001b[0mplank_transform\u001b[0m\u001b[0;34m)\u001b[0m\u001b[0;34m\u001b[0m\u001b[0m\n\u001b[1;32m     15\u001b[0m         \u001b[0;32mreturn\u001b[0m \u001b[0mbody\u001b[0m\u001b[0;34m\u001b[0m\u001b[0m\n",
      "\u001b[0;31mopenrave_exception\u001b[0m: openrave (Failed): env=1, body plank4 does not have unique name"
     ]
    }
   ],
   "source": [
    "no_of_levels = 12\n",
    "new_planks = []\n",
    "for i in range(1,no_of_levels):\n",
    "    for j in basic_pi_planks:\n",
    "        plank_num = int(j.GetName()[-1])\n",
    "        tx = j.GetTransform()\n",
    "        if i % 2 != 0:\n",
    "            tx[0,3] = np.power(-1,plank_num)*0.04\n",
    "            tx[1,3] = -0.04\n",
    "            rot = np.eye(4)\n",
    "            rot[:3,:3] = rotationMatrixFromAxisAngle([0,-np.pi/2,0])\n",
    "            tx = np.matmul(tx,rot)\n",
    "        tx[2,3] += 2*(0.01162 + 0.0001)*i\n",
    "        name = j.GetName()\n",
    "        name = name[:-1]+str(int(name[-1])+3*i)\n",
    "        p = env_build_helper.create_plank(env,name,tx)\n",
    "        print(name)\n",
    "        new_planks.append(p)  "
   ]
  },
  {
   "cell_type": "code",
   "execution_count": 5,
   "metadata": {},
   "outputs": [],
   "source": [
    "for i in new_planks:\n",
    "    env.RemoveKinBody(i)"
   ]
  },
  {
   "cell_type": "code",
   "execution_count": null,
   "metadata": {},
   "outputs": [],
   "source": [
    "env.CheckCollision(env.GetKinBody('plank1'),env.GetKinBody('plank2'))"
   ]
  },
  {
   "cell_type": "code",
   "execution_count": null,
   "metadata": {},
   "outputs": [],
   "source": [
    "plank, tx = env_build_helper.get_plank_body_from_num(env,3)\n",
    "rot = np.eye(4)\n",
    "rot[:3,:3] = rotationMatrixFromAxisAngle([0,np.pi/2,0])\n",
    "tx = np.matmul(tx,rot)\n",
    "plank.SetTransform(tx)"
   ]
  },
  {
   "cell_type": "code",
   "execution_count": null,
   "metadata": {},
   "outputs": [],
   "source": [
    "plank, tx = env_build_helper.get_plank_body_from_num(env,2)"
   ]
  },
  {
   "cell_type": "code",
   "execution_count": null,
   "metadata": {},
   "outputs": [],
   "source": [
    "tx[0:3,3] = [0.00,-0.0800,0.00]"
   ]
  },
  {
   "cell_type": "code",
   "execution_count": null,
   "metadata": {},
   "outputs": [],
   "source": [
    "# tx[0,3]+=0.02\n",
    "plank.SetTransform(tx)"
   ]
  },
  {
   "cell_type": "code",
   "execution_count": null,
   "metadata": {},
   "outputs": [],
   "source": [
    "plank.GetTransformPose()"
   ]
  },
  {
   "cell_type": "code",
   "execution_count": null,
   "metadata": {},
   "outputs": [],
   "source": [
    "np.power(-1,0)"
   ]
  },
  {
   "cell_type": "code",
   "execution_count": null,
   "metadata": {},
   "outputs": [],
   "source": []
  }
 ],
 "metadata": {
  "kernelspec": {
   "display_name": "Python 2.7.17 64-bit",
   "language": "python",
   "name": "python271764bit9509cbb3a60d4cf4bd414e06a3fa0d70"
  },
  "language_info": {
   "codemirror_mode": {
    "name": "ipython",
    "version": 2
   },
   "file_extension": ".py",
   "mimetype": "text/x-python",
   "name": "python",
   "nbconvert_exporter": "python",
   "pygments_lexer": "ipython2",
   "version": "2.7.17-final"
  }
 },
 "nbformat": 4,
 "nbformat_minor": 2
}