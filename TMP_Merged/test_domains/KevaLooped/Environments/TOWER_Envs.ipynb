{
 "cells": [
  {
   "cell_type": "code",
   "execution_count": 1,
   "metadata": {},
   "outputs": [
    {
     "name": "stdout",
     "output_type": "stream",
     "text": "[RaveGetEnvironment(1).GetKinBody('plank1'), RaveGetEnvironment(1).GetKinBody('plank2')]\n"
    }
   ],
   "source": [
    "# Pi structure modification\n",
    "# ENV_PATH = 'keva_double_station_new_table.dae'\n",
    "ENV_PATH = 'keva_tower_24_structure_new_table.dae'\n",
    "# ENV_PATH = 'keva_triple_pi_structure_new_table.dae'\n",
    "\n",
    "import env_build_helper\n",
    "from openravepy import *\n",
    "import numpy as np\n",
    "\n",
    "env = env_build_helper.load_env(ENV_PATH)\n",
    "all_planks = env_build_helper.get_structure_planks(env)\n",
    "\n",
    "basic_pi_planks = all_planks[:2]\n",
    "print(basic_pi_planks) # Should be plank 1,2 and 3 "
   ]
  },
  {
   "cell_type": "code",
   "execution_count": 4,
   "metadata": {},
   "outputs": [],
   "source": [
    "# Remove extra planks and bodies (if any)\n",
    "for i in env.GetBodies():\n",
    "    if i not in basic_pi_planks:\n",
    "        env.RemoveKinBody(i)\n",
    "\n",
    "basic_pi_planks = env_build_helper.get_structure_planks(env)\n",
    "for i in basic_pi_planks:\n",
    "    name = i.GetName()\n",
    "    tx = i.GetTransform()\n",
    "    env.RemoveKinBody(i)\n",
    "    p = env_build_helper.create_plank(env,name,tx)\n",
    "\n"
   ]
  },
  {
   "cell_type": "code",
   "execution_count": 3,
   "metadata": {},
   "outputs": [
    {
     "name": "stdout",
     "output_type": "stream",
     "text": "[[ 1.00000000e+00 -0.00000000e+00  0.00000000e+00  0.00000000e+00]\n [ 0.00000000e+00 -2.22044605e-16  1.00000000e+00  0.00000000e+00]\n [-0.00000000e+00 -1.00000000e+00 -2.22044605e-16  0.00000000e+00]\n [ 0.00000000e+00  0.00000000e+00  0.00000000e+00  1.00000000e+00]]\n"
    }
   ],
   "source": [
    "plank1, tx1 = env_build_helper.get_plank_body_from_num(env,1)\n",
    "plank2, tx2 = env_build_helper.get_plank_body_from_num(env,2)\n",
    "# plank3, tx3 = env_build_helper.get_plank_body_from_num(env,3)\n",
    "fix = np.eye(4)\n",
    "fix[:3,3] = -tx1[:3,3]\n",
    "print(tx1)\n",
    "plank1.SetTransform(np.matmul(fix,tx1))\n",
    "plank2.SetTransform(np.matmul(fix,tx2))\n",
    "# plank3.SetTransform(np.matmul(fix,tx3))\n",
    "################################################################################"
   ]
  },
  {
   "cell_type": "code",
   "execution_count": 1,
   "metadata": {},
   "outputs": [],
   "source": [
    "#Repeating structures:\n",
    "\n",
    "ENV_PATH = 'NEW/tower_2_plank_structure.dae'\n",
    "import env_build_helper\n",
    "from openravepy import *\n",
    "import numpy as np\n",
    "\n",
    "env = env_build_helper.load_env(ENV_PATH)\n",
    "basic_pi_planks = env_build_helper.get_structure_planks(env)"
   ]
  },
  {
   "cell_type": "code",
   "execution_count": 2,
   "metadata": {},
   "outputs": [
    {
     "name": "stdout",
     "output_type": "stream",
     "text": "[[ 1.00000000e+00 -0.00000000e+00  0.00000000e+00  0.00000000e+00]\n [ 0.00000000e+00 -2.22044605e-16  1.00000000e+00  0.00000000e+00]\n [-0.00000000e+00 -1.00000000e+00 -2.22044605e-16  0.00000000e+00]\n [ 0.00000000e+00  0.00000000e+00  0.00000000e+00  1.00000000e+00]]\n"
    }
   ],
   "source": [
    "plank1, tx1 = env_build_helper.get_plank_body_from_num(env,1)\n",
    "print(tx1)"
   ]
  },
  {
   "cell_type": "code",
   "execution_count": 3,
   "metadata": {},
   "outputs": [],
   "source": [
    "no_of_levels = 12\n",
    "new_planks = []\n",
    "for i in range(1,no_of_levels):\n",
    "    for j in basic_pi_planks:\n",
    "        plank_num = int(j.GetName()[-1])\n",
    "        tx = j.GetTransform()\n",
    "        if i % 2 != 0:\n",
    "            tx[0,3] = np.power(-1,plank_num)*0.04\n",
    "            tx[1,3] = -0.04\n",
    "            rot = np.eye(4)\n",
    "            rot[:3,:3] = rotationMatrixFromAxisAngle([0,-np.pi/2,0])\n",
    "            tx = np.matmul(tx,rot)\n",
    "        tx[2,3] += 2*(0.01162 + 0.0001)*i\n",
    "        name = j.GetName()\n",
    "        name = name[:-1]+str(int(name[-1])+2*i)\n",
    "        p = env_build_helper.create_plank(env,name,tx)\n",
    "        new_planks.append(p)  "
   ]
  },
  {
   "cell_type": "code",
   "execution_count": 5,
   "metadata": {},
   "outputs": [],
   "source": [
    "for i in new_planks:\n",
    "    env.RemoveKinBody(i)"
   ]
  },
  {
   "cell_type": "code",
   "execution_count": 6,
   "metadata": {},
   "outputs": [
    {
     "data": {
      "text/plain": "False"
     },
     "execution_count": 6,
     "metadata": {},
     "output_type": "execute_result"
    }
   ],
   "source": [
    "env.CheckCollision(env.GetKinBody('plank1'),env.GetKinBody('plank2'))"
   ]
  },
  {
   "cell_type": "code",
   "execution_count": 12,
   "metadata": {},
   "outputs": [],
   "source": [
    "plank, tx = env_build_helper.get_plank_body_from_num(env,3)\n",
    "rot = np.eye(4)\n",
    "rot[:3,:3] = rotationMatrixFromAxisAngle([0,np.pi/2,0])\n",
    "tx = np.matmul(tx,rot)\n",
    "plank.SetTransform(tx)"
   ]
  },
  {
   "cell_type": "code",
   "execution_count": 2,
   "metadata": {},
   "outputs": [],
   "source": [
    "plank, tx = env_build_helper.get_plank_body_from_num(env,2)"
   ]
  },
  {
   "cell_type": "code",
   "execution_count": 4,
   "metadata": {},
   "outputs": [],
   "source": [
    "tx[0:3,3] = [0.00,-0.0800,0.00]"
   ]
  },
  {
   "cell_type": "code",
   "execution_count": 5,
   "metadata": {},
   "outputs": [],
   "source": [
    "# tx[0,3]+=0.02\n",
    "plank.SetTransform(tx)"
   ]
  },
  {
   "cell_type": "code",
   "execution_count": 3,
   "metadata": {},
   "outputs": [
    {
     "data": {
      "text/plain": "array([ 0.70710678, -0.70710678,  0.        ,  0.        ,  0.        ,\n       -0.09      ,  0.        ])"
     },
     "execution_count": 3,
     "metadata": {},
     "output_type": "execute_result"
    }
   ],
   "source": [
    "plank.GetTransformPose()"
   ]
  },
  {
   "cell_type": "code",
   "execution_count": 18,
   "metadata": {},
   "outputs": [
    {
     "data": {
      "text/plain": "1"
     },
     "execution_count": 18,
     "metadata": {},
     "output_type": "execute_result"
    }
   ],
   "source": [
    "np.power(-1,0)"
   ]
  },
  {
   "cell_type": "code",
   "execution_count": null,
   "metadata": {},
   "outputs": [],
   "source": []
  }
 ],
 "metadata": {
  "kernelspec": {
   "display_name": "Python 2.7.12 64-bit",
   "language": "python",
   "name": "python271264bit13193665e78347089c25fdd8d97b7d3a"
  },
  "language_info": {
   "codemirror_mode": {
    "name": "ipython",
    "version": 2
   },
   "file_extension": ".py",
   "mimetype": "text/x-python",
   "name": "python",
   "nbconvert_exporter": "python",
   "pygments_lexer": "ipython2",
   "version": "2.7.12-final"
  }
 },
 "nbformat": 4,
 "nbformat_minor": 2
}