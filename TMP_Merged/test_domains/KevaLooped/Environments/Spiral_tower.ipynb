{
 "cells": [
  {
   "cell_type": "code",
   "execution_count": 1,
   "metadata": {},
   "outputs": [],
   "source": [
    "#Repeating structures:\n",
    "\n",
    "ENV_PATH = 'NEW/tower_2_plank_structure.dae'\n",
    "import env_build_helper\n",
    "from openravepy import *\n",
    "import numpy as np\n",
    "\n",
    "env = env_build_helper.load_env(ENV_PATH)\n",
    "basic_tower_planks = env_build_helper.get_structure_planks(env)"
   ]
  },
  {
   "cell_type": "code",
   "execution_count": 2,
   "metadata": {},
   "outputs": [
    {
     "name": "stdout",
     "output_type": "stream",
     "text": "[ 0.   -0.08  0.  ]\n"
    }
   ],
   "source": [
    "plank1, tx01 = env_build_helper.get_plank_body_from_num(env,1)\n",
    "plank2, tx02 = env_build_helper.get_plank_body_from_num(env,2)\n",
    "print(tx02[:3,3])\n",
    "tx02[1,3]=-0.05\n",
    "plank2.SetTransform(tx02)"
   ]
  },
  {
   "cell_type": "code",
   "execution_count": 3,
   "metadata": {},
   "outputs": [],
   "source": [
    "otx = tx01.copy()\n",
    "otx[0,3]+= 0.02\n",
    "# otx[1,3]=0.00\n",
    "plank1_T_origin = np.matmul(np.linalg.inv(otx),tx01)"
   ]
  },
  {
   "cell_type": "code",
   "execution_count": 4,
   "metadata": {},
   "outputs": [],
   "source": [
    "# tx1[0,3]+=\n",
    "# d  = misc.DrawAxes(env,tx1)"
   ]
  },
  {
   "cell_type": "code",
   "execution_count": 5,
   "metadata": {},
   "outputs": [
    {
     "data": {
      "text/plain": "[1]"
     },
     "execution_count": 5,
     "metadata": {},
     "output_type": "execute_result"
    }
   ],
   "source": [
    "range(1,2)"
   ]
  },
  {
   "cell_type": "code",
   "execution_count": 8,
   "metadata": {},
   "outputs": [
    {
     "name": "stdout",
     "output_type": "stream",
     "text": "('plank:', 3, 4, ': ds: ', 1, 2)\n('plank:', 5, 6, ': ds: ', 3, 4)\n('plank:', 7, 8, ': ds: ', 5, 6)\n('plank:', 9, 10, ': ds: ', 7, 8)\n('plank:', 11, 12, ': ds: ', 9, 10)\n('plank:', 13, 14, ': ds: ', 11, 12)\n('plank:', 15, 16, ': ds: ', 13, 14)\n('plank:', 17, 18, ': ds: ', 15, 16)\n('plank:', 19, 20, ': ds: ', 17, 18)\n('plank:', 21, 22, ': ds: ', 19, 20)\n('plank:', 23, 24, ': ds: ', 21, 22)\n"
    }
   ],
   "source": [
    "for i in new_planks:\n",
    "    env.RemoveKinBody(i)\n",
    "\n",
    "no_of_levels = 12\n",
    "new_planks = []\n",
    "\n",
    "\n",
    "rot = np.eye(4)\n",
    "\n",
    "\n",
    "for i in range(1,no_of_levels):\n",
    "    if (i+1)%2 == 0:\n",
    "        rot[:3,:3] = rotationMatrixFromAxisAngle([0,np.pi/2+np.pi/24,0])\n",
    "    else:\n",
    "        rot[:3,:3] = rotationMatrixFromAxisAngle([0,-np.pi/2,0])\n",
    "    plank1_num = 1+2*i\n",
    "    plank2_num = 2+2*i\n",
    "    prev_plank1, txp1 = env_build_helper.get_plank_body_from_num(env,plank1_num-2)\n",
    "    prev_plank2, txp2 = env_build_helper.get_plank_body_from_num(env,plank2_num-2)\n",
    "    print(\"plank:\",plank1_num,plank2_num,\": ds: \",plank1_num-2,plank2_num-2)\n",
    "\n",
    "    origin = np.matmul(txp1,plank1_T_origin)\n",
    "    tx_left = np.matmul(np.linalg.inv(origin),txp1)\n",
    "    tx_right = np.matmul(np.linalg.inv(origin),txp2)        \n",
    "\n",
    "    rot_orig = np.matmul(origin,rot)\n",
    "    rot_orig[2,3]+=2*(0.01162 + 0.0001)\n",
    "    tx1 = np.matmul(rot_orig,tx_left)\n",
    "    tx2 = np.matmul(rot_orig,tx_right)\n",
    "    swap = np.matmul(np.linalg.inv(tx2),tx1)\n",
    "    tx2 = np.matmul(tx1,swap)\n",
    "    \n",
    "    plank1 = env_build_helper.create_plank(env,'plank'+str(plank1_num),tx1)\n",
    "    plank2 = env_build_helper.create_plank(env,'plank'+str(plank2_num),tx2)\n",
    "    new_planks.append(plank1)\n",
    "    new_planks.append(plank2)"
   ]
  },
  {
   "cell_type": "code",
   "execution_count": 29,
   "metadata": {},
   "outputs": [],
   "source": [
    "d = misc.DrawAxes(env,rot_orig)\n",
    "e = misc.DrawAxes(env,origin)"
   ]
  },
  {
   "cell_type": "code",
   "execution_count": 30,
   "metadata": {},
   "outputs": [],
   "source": [
    "del d,e"
   ]
  },
  {
   "cell_type": "code",
   "execution_count": 4,
   "metadata": {},
   "outputs": [],
   "source": [
    "plank, tx = env_build_helper.get_plank_body_from_num(env,1)"
   ]
  },
  {
   "cell_type": "code",
   "execution_count": 7,
   "metadata": {},
   "outputs": [
    {
     "name": "stdout",
     "output_type": "stream",
     "text": "0.0\n"
    }
   ],
   "source": [
    "print(tx2[2,3])"
   ]
  },
  {
   "cell_type": "code",
   "execution_count": 4,
   "metadata": {},
   "outputs": [],
   "source": [
    "tx[0:3,3] = [0.00,-0.0800,0.00]"
   ]
  },
  {
   "cell_type": "code",
   "execution_count": 5,
   "metadata": {},
   "outputs": [],
   "source": [
    "# tx[0,3]+=0.02\n",
    "plank.SetTransform(tx)"
   ]
  },
  {
   "cell_type": "code",
   "execution_count": 9,
   "metadata": {},
   "outputs": [
    {
     "name": "stdout",
     "output_type": "stream",
     "text": "keva_24_plank_spiral_tower_structure.dae    keva_triple_pi_structure.dae\nkeva_24_plank_tower_structure.dae           single_pi_structure.dae\nkeva_double_station_1.dae                   tilted_pillar_pi_basic.dae\nkeva_double_station.dae                     tower_2_plank_structure.dae\nkeva_tilted_pillar_triple_pi_structure.dae\n"
    }
   ],
   "source": [
    "ls NEW/"
   ]
  },
  {
   "cell_type": "code",
   "execution_count": 10,
   "metadata": {},
   "outputs": [],
   "source": [
    "#Repeating structures:\n",
    "import os, sys\n",
    "sys.path.append('../../')\n",
    "\n",
    "ENV_PATH = 'NEW/keva_24_plank_spiral_tower_structure.dae'\n",
    "import env_build_helper\n",
    "from openravepy import *\n",
    "import numpy as np\n",
    "\n",
    "env = env_build_helper.load_env(ENV_PATH)"
   ]
  },
  {
   "cell_type": "code",
   "execution_count": 17,
   "metadata": {},
   "outputs": [],
   "source": [
    "with env:\n",
    "    physics = RaveCreatePhysicsEngine(env,'ode')\n",
    "    env.SetPhysicsEngine(physics)\n",
    "    env.GetPhysicsEngine().SetGravity([0,0,-1])\n",
    "    env.StopSimulation()\n",
    "    env.StartSimulation(timestep=0.01)"
   ]
  },
  {
   "cell_type": "code",
   "execution_count": 14,
   "metadata": {},
   "outputs": [],
   "source": [
    "import time"
   ]
  },
  {
   "cell_type": "code",
   "execution_count": null,
   "metadata": {},
   "outputs": [],
   "source": []
  }
 ],
 "metadata": {
  "kernelspec": {
   "display_name": "Python 2.7.12 64-bit",
   "language": "python",
   "name": "python271264bit13193665e78347089c25fdd8d97b7d3a"
  },
  "language_info": {
   "codemirror_mode": {
    "name": "ipython",
    "version": 2
   },
   "file_extension": ".py",
   "mimetype": "text/x-python",
   "name": "python",
   "nbconvert_exporter": "python",
   "pygments_lexer": "ipython2",
   "version": "2.7.12-final"
  }
 },
 "nbformat": 4,
 "nbformat_minor": 2
}