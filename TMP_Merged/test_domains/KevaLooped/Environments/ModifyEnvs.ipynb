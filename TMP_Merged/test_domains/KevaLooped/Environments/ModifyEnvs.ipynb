{
 "cells": [
  {
   "cell_type": "code",
   "execution_count": 1,
   "metadata": {},
   "outputs": [
    {
     "data": {
      "text/plain": "True"
     },
     "execution_count": 1,
     "metadata": {},
     "output_type": "execute_result"
    }
   ],
   "source": [
    "from openravepy import *\n",
    "import numpy as np\n",
    "env = Environment()\n",
    "env.SetViewer('qtcoin')"
   ]
  },
  {
   "cell_type": "markdown",
   "metadata": {},
   "source": [
    "## List of all bodies in environment"
   ]
  },
  {
   "cell_type": "code",
   "execution_count": 2,
   "metadata": {},
   "outputs": [
    {
     "data": {
      "text/plain": "[]"
     },
     "execution_count": 2,
     "metadata": {},
     "output_type": "execute_result"
    }
   ],
   "source": [
    "env.GetBodies()"
   ]
  },
  {
   "cell_type": "markdown",
   "metadata": {},
   "source": [
    "## Selecting planks that are repeating structures:"
   ]
  },
  {
   "cell_type": "code",
   "execution_count": 2,
   "metadata": {},
   "outputs": [
    {
     "data": {
      "text/plain": "True"
     },
     "execution_count": 2,
     "metadata": {},
     "output_type": "execute_result"
    }
   ],
   "source": [
    "#For Pi|\n",
    "# env.Load('keva_double_station_new_table.dae')\n",
    "# env.Load('keva_triple_pi_structure_new_table.dae')\n",
    "env.Load('keva_tower_24_structure_new_table.dae')\n",
    "# env.Load('keva_pi_structure.dae')\n",
    "# selected_planks=[]\n",
    "# for i in env.GetBodies():\n",
    "#     if 'plank' in str(i):\n",
    "#         selected_planks.append(i)"
   ]
  },
  {
   "cell_type": "code",
   "execution_count": 3,
   "metadata": {},
   "outputs": [],
   "source": [
    "for i in env.GetBodies():\n",
    "    if \"table6\" != i.GetName():\n",
    "        ttx = i.GetTransform()\n",
    "        ttx[2][3]-=0.0115\n",
    "        i.SetTransform(ttx)\n",
    "\n",
    "# t = env.GetKinBody('table6')\n",
    "# ttx = t.GetTransform()\n",
    "# ttx[2][3]-=0.012\n",
    "# ttx = t.SetTransform(ttx)"
   ]
  },
  {
   "cell_type": "code",
   "execution_count": 4,
   "metadata": {},
   "outputs": [
    {
     "data": {
      "text/plain": "0.140733220967255"
     },
     "execution_count": 4,
     "metadata": {},
     "output_type": "execute_result"
    }
   ],
   "source": [
    "env.GetKinBody('plank1').GetTransform()[2,3]"
   ]
  },
  {
   "cell_type": "code",
   "execution_count": 3,
   "metadata": {},
   "outputs": [
    {
     "data": {
      "text/plain": "0.1395629360973835"
     },
     "execution_count": 3,
     "metadata": {},
     "output_type": "execute_result"
    }
   ],
   "source": [
    "env.GetKinBody('plank1').GetTransform()[2,3]"
   ]
  },
  {
   "cell_type": "code",
   "execution_count": 22,
   "metadata": {},
   "outputs": [
    {
     "data": {
      "text/plain": [
       "True"
      ]
     },
     "execution_count": 22,
     "metadata": {},
     "output_type": "execute_result"
    }
   ],
   "source": [
    "env.RemoveKinBodyByName('SketchUp')"
   ]
  },
  {
   "cell_type": "code",
   "execution_count": 1,
   "metadata": {},
   "outputs": [
    {
     "data": {
      "text/plain": "array([ 0.00000000e+00, -2.26875349e+00,  5.23773309e-01,  0.00000000e+00,\n        6.99004365e-01, -1.74532925e-04,  2.35601996e+00])"
     },
     "execution_count": 1,
     "metadata": {},
     "output_type": "execute_result"
    }
   ],
   "source": [
    "import numpy as np\n",
    "a=np.asarray([0.0, -129.99, 30.01, 0.0, 40.05, -0.01, 134.99])\n",
    "np.radians(a)"
   ]
  },
  {
   "cell_type": "code",
   "execution_count": null,
   "metadata": {},
   "outputs": [],
   "source": []
  }
 ],
 "metadata": {
  "kernelspec": {
   "display_name": "Python 2.7.12 64-bit",
   "language": "python",
   "name": "python271264bit13193665e78347089c25fdd8d97b7d3a"
  },
  "language_info": {
   "codemirror_mode": {
    "name": "ipython",
    "version": 2
   },
   "file_extension": ".py",
   "mimetype": "text/x-python",
   "name": "python",
   "nbconvert_exporter": "python",
   "pygments_lexer": "ipython2",
   "version": "2.7.12-final"
  }
 },
 "nbformat": 4,
 "nbformat_minor": 2
}